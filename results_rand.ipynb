{
 "cells": [
  {
   "cell_type": "code",
   "execution_count": 9,
   "metadata": {},
   "outputs": [],
   "source": [
    "import os\n",
    "import pandas as pd\n",
    "import numpy as np\n",
    "import pathlib\n",
    "import pickle\n",
    "import matplotlib.pyplot as plt\n",
    "import copy"
   ]
  },
  {
   "attachments": {},
   "cell_type": "markdown",
   "metadata": {},
   "source": [
    "# parameters"
   ]
  },
  {
   "cell_type": "code",
   "execution_count": 10,
   "metadata": {},
   "outputs": [],
   "source": [
    "SEED = 12\n",
    "file_path = 'E:/robust_scheduling/SEED='+str(SEED)+'/'\n",
    "with open(file_path + 'para_info.pkl','rb') as tf:\n",
    "    para = pickle.load(tf)\n",
    "delta_mu = para['delta_mu'] # control lb of mean processing time\n",
    "delta_r = para['delta_r'] # control ub of the release time\n",
    "delta_ep = para['delta_ep'] # control the upper bound of the mad\n",
    "delta_er = para['delta_er'] # control the upper bound of the mad\n",
    "S_train = para['S_train']\n",
    "S_test = para['S_test']\n",
    "iterations = para['iterations']\n",
    "instances = para['instances']\n",
    "range_c = para['range_c']\n"
   ]
  },
  {
   "cell_type": "code",
   "execution_count": 11,
   "metadata": {},
   "outputs": [],
   "source": [
    "def load_results(instances,file_path,file_name):\n",
    "    rst_mean = np.zeros(instances)\n",
    "    rst_75 = np.zeros(instances)\n",
    "    rst_95 = np.zeros(instances)\n",
    "    rst_time = np.zeros(instances)\n",
    "    for ins in range(instances):\n",
    "        full_path = file_path + 'ins='+str(ins)+'/'+ 'iteration='+str(0)+'/'\n",
    "        # print(full_path)\n",
    "        # deterministic results\n",
    "        with open(full_path+file_name, \"rb\") as tf:\n",
    "            sol = pickle.load(tf)\n",
    "        rst_mean[ins] = np.mean(sol['out_obj'])\n",
    "        rst_75[ins] = np.quantile(sol['out_obj'],0.75)\n",
    "        rst_95[ins] = np.quantile(sol['out_obj'],0.95)\n",
    "        rst_time[ins] = sol['time']\n",
    "    rst = {}\n",
    "    rst['avg'] = rst_mean\n",
    "    rst['quan_75'] = rst_75\n",
    "    rst['quan_95'] = rst_95\n",
    "    rst['time'] = rst_time\n",
    "    return rst\n"
   ]
  },
  {
   "cell_type": "code",
   "execution_count": 12,
   "metadata": {},
   "outputs": [],
   "source": [
    "def load_wass_results(instances,range_c,file_path,file_name):\n",
    "    len_c = len(range_c)\n",
    "    avg = np.zeros((instances,len_c))\n",
    "    quan75 = np.zeros((instances,len_c))\n",
    "    quan95 = np.zeros((instances,len_c))\n",
    "    time_arr = np.zeros((instances,len_c))\n",
    "\n",
    "    index = 0\n",
    "    for ins in range(instances):\n",
    "        full_path = file_path + 'ins='+str(ins)+'/'+ 'iteration='+str(0)+'/'\n",
    "        # print(full_path)\n",
    "        # deterministic results\n",
    "        if os.path.exists(full_path+file_name):\n",
    "            with open(full_path+file_name, \"rb\") as tf:\n",
    "                sol = pickle.load(tf)\n",
    "            # print('ins',ins,'obj',sol['out_obj'].mean(axis=0).to_list())\n",
    "            avg[index,:] = np.asarray(sol['out_obj'].mean(axis=0))\n",
    "            quan75[index,:] = np.asarray(sol['out_obj'].quantile(axis = 0,q = 0.75))\n",
    "            quan95[index,:] = np.asarray(sol['out_obj'].quantile(axis = 0,q = 0.95))\n",
    "            time_arr[index] = sol['time']\n",
    "            index = index + 1\n",
    "    rst = {}\n",
    "    rst['avg'] = avg[0:index,:]\n",
    "    rst['quan_75'] = quan75[0:index,:]\n",
    "    rst['quan_95'] = quan95[0:index,:]\n",
    "    rst['time'] = time_arr[0:index,:]\n",
    "    return rst"
   ]
  },
  {
   "cell_type": "code",
   "execution_count": 13,
   "metadata": {},
   "outputs": [
    {
     "data": {
      "text/plain": [
       "'E:/robust_scheduling/SEED=12/'"
      ]
     },
     "execution_count": 13,
     "metadata": {},
     "output_type": "execute_result"
    }
   ],
   "source": [
    "file_path"
   ]
  },
  {
   "cell_type": "code",
   "execution_count": 26,
   "metadata": {},
   "outputs": [
    {
     "name": "stdout",
     "output_type": "stream",
     "text": [
      "delta_er= 0.5  delta_ep= 0.5\n",
      "delta_er= 0.5  delta_ep= 1.0\n",
      "delta_er= 0.5  delta_ep= 1.5\n",
      "delta_er= 1.0  delta_ep= 0.5\n",
      "delta_er= 1.0  delta_ep= 1.0\n",
      "delta_er= 1.0  delta_ep= 1.5\n",
      "delta_er= 1.5  delta_ep= 0.5\n",
      "delta_er= 1.5  delta_ep= 1.0\n",
      "delta_er= 1.5  delta_ep= 1.5\n",
      "delta_er= 0.5  delta_ep= 0.5\n",
      "delta_er= 0.5  delta_ep= 1.0\n",
      "delta_er= 0.5  delta_ep= 1.5\n",
      "delta_er= 1.0  delta_ep= 0.5\n",
      "delta_er= 1.0  delta_ep= 1.0\n",
      "delta_er= 1.0  delta_ep= 1.5\n",
      "delta_er= 1.5  delta_ep= 0.5\n",
      "delta_er= 1.5  delta_ep= 1.0\n",
      "delta_er= 1.5  delta_ep= 1.5\n",
      "delta_er= 0.5  delta_ep= 0.5\n",
      "delta_er= 0.5  delta_ep= 1.0\n",
      "delta_er= 0.5  delta_ep= 1.5\n",
      "delta_er= 1.0  delta_ep= 0.5\n",
      "delta_er= 1.0  delta_ep= 1.0\n",
      "delta_er= 1.0  delta_ep= 1.5\n",
      "delta_er= 1.5  delta_ep= 0.5\n",
      "delta_er= 1.5  delta_ep= 1.0\n",
      "delta_er= 1.5  delta_ep= 1.5\n"
     ]
    }
   ],
   "source": [
    "\n",
    "delta_er_all = np.arange(0.5,2.0,0.5)\n",
    "delta_ep_all = np.arange(0.5,2.0,0.5)\n",
    "delta_r_all = [0.05,0.15,0.3]\n",
    "det_rst_all = {}\n",
    "saa_rst_all = {}\n",
    "wass_rst_all = {}\n",
    "for delta_r in delta_r_all:\n",
    "    det_rst = np.zeros((len(delta_er_all),len(delta_ep_all)))\n",
    "    saa_rst = np.zeros((len(delta_er_all),len(delta_ep_all)))\n",
    "    wass_rst = {}\n",
    "    metric_name = 'quan_95'\n",
    "    for i in range(len(delta_er_all)):\n",
    "        delta_er = delta_er_all[i]\n",
    "        for j in range(len(delta_ep_all)):\n",
    "            delta_ep = delta_ep_all[j]\n",
    "            print('delta_er=',delta_er,' delta_ep=',delta_ep)\n",
    "            file_path1 = file_path + 'delta_r='+str(delta_r) + '/delta_er='+str(delta_er) + '/delta_ep='+str(delta_ep)+ '/'\n",
    "            det_rst[i,j] = np.mean(load_results(instances,file_path1,'sol_det.pkl')[metric_name])\n",
    "            saa_rst[i,j] = np.mean(load_results(instances,file_path1,'sol_saa.pkl')[metric_name])\n",
    "            wass_rst[i,j] = np.mean(load_wass_results(instances,range_c,file_path1,'sol_wass_affine.pkl')[metric_name],axis = 0)\n",
    "    det_rst_all[delta_r] = det_rst\n",
    "    saa_rst_all[delta_r] = saa_rst\n",
    "    wass_rst_all[delta_r] = wass_rst"
   ]
  },
  {
   "cell_type": "code",
   "execution_count": 27,
   "metadata": {},
   "outputs": [
    {
     "data": {
      "text/plain": [
       "array([[10171.21197626, 10878.05572013, 11454.53431888],\n",
       "       [10239.80442653, 10894.43152203, 11465.73305996],\n",
       "       [10282.14456351, 11030.7772908 , 11410.25215749]])"
      ]
     },
     "execution_count": 27,
     "metadata": {},
     "output_type": "execute_result"
    }
   ],
   "source": [
    "saa_rst"
   ]
  },
  {
   "cell_type": "code",
   "execution_count": 17,
   "metadata": {},
   "outputs": [
    {
     "data": {
      "text/plain": [
       "{(0,\n",
       "  0): array([9492.07511476, 9489.78479069, 9520.43342434, 9559.22824366,\n",
       "        9622.27515584, 9653.54118205, 9695.312311  , 9703.42233801,\n",
       "        9703.42233801, 9703.42233801]),\n",
       " (0,\n",
       "  1): array([9629.35610453, 9638.20017557, 9625.26220667, 9672.21169647,\n",
       "        9691.78088487, 9735.15019839, 9857.26863037, 9912.05377609,\n",
       "        9919.15095534, 9919.15095534]),\n",
       " (0,\n",
       "  2): array([ 9811.47871074,  9793.48315883,  9814.3191929 ,  9839.74227896,\n",
       "         9858.4342539 ,  9858.0773454 ,  9948.41521988, 10046.53892672,\n",
       "        10114.53783433, 10133.82034701]),\n",
       " (1,\n",
       "  0): array([9507.8597806 , 9520.80129535, 9535.52162544, 9586.54209492,\n",
       "        9631.28751669, 9652.7276146 , 9701.4809175 , 9700.20737024,\n",
       "        9700.20737024, 9700.20737024]),\n",
       " (1,\n",
       "  1): array([9664.71315035, 9659.77041257, 9666.06436643, 9698.17496594,\n",
       "        9741.00314176, 9769.89051227, 9959.82244116, 9994.60114894,\n",
       "        9985.27162656, 9985.31818051]),\n",
       " (1,\n",
       "  2): array([ 9798.85680263,  9792.1949125 ,  9790.0998147 ,  9798.99298884,\n",
       "         9850.01082898,  9857.1558571 ,  9997.72427561, 10071.14337717,\n",
       "        10132.44291954, 10147.75379166]),\n",
       " (2,\n",
       "  0): array([9547.08953447, 9539.83266816, 9544.02512937, 9583.6059892 ,\n",
       "        9621.58011778, 9663.86958537, 9768.04136744, 9770.72570152,\n",
       "        9770.72570152, 9770.72570152]),\n",
       " (2,\n",
       "  1): array([ 9719.81751408,  9720.93197659,  9720.32323158,  9729.79861848,\n",
       "         9743.04422967,  9780.43096505,  9981.28019976, 10019.51537539,\n",
       "        10041.54314764, 10032.10143912]),\n",
       " (2,\n",
       "  2): array([ 9706.66118867,  9706.13586211,  9709.12001041,  9715.69605827,\n",
       "         9733.22616595,  9734.08556357,  9921.86815025, 10125.63488802,\n",
       "        10174.26813607, 10175.19234863])}"
      ]
     },
     "execution_count": 17,
     "metadata": {},
     "output_type": "execute_result"
    }
   ],
   "source": [
    "wass_rst"
   ]
  },
  {
   "cell_type": "code",
   "execution_count": 28,
   "metadata": {},
   "outputs": [],
   "source": [
    "# compute ratio\n",
    "ratio_all= {}\n",
    "for delta_r in delta_r_all:\n",
    "    \n",
    "    saa_ratio = saa_rst_all[delta_r]/det_rst_all[delta_r]\n",
    "    rs_ratio = {}\n",
    "    for i in range(len(delta_er_all)):\n",
    "        delta_er = delta_er_all[i]\n",
    "        for j in range(len(delta_ep_all)):\n",
    "            delta_ep = delta_ep_all[j]\n",
    "            rs_ratio[i,j] = wass_rst_all[delta_r][i,j]/det_rst_all[delta_r][i,j]\n",
    "\n",
    "    ratio_set = {}\n",
    "    ratio_set['saa'] = saa_ratio\n",
    "    ratio_set['rs'] = rs_ratio\n",
    "    ratio_all[delta_r] = ratio_set"
   ]
  },
  {
   "cell_type": "code",
   "execution_count": 29,
   "metadata": {},
   "outputs": [
    {
     "data": {
      "text/plain": [
       "'E:/robust_scheduling/SEED=12/'"
      ]
     },
     "execution_count": 29,
     "metadata": {},
     "output_type": "execute_result"
    }
   ],
   "source": [
    "\n",
    "file_path"
   ]
  },
  {
   "cell_type": "code",
   "execution_count": 30,
   "metadata": {},
   "outputs": [],
   "source": [
    "with open(file_path+metric_name+'_ratio.pkl', \"wb\") as tf:\n",
    "    pickle.dump(ratio_all,tf)"
   ]
  },
  {
   "cell_type": "code",
   "execution_count": 31,
   "metadata": {},
   "outputs": [],
   "source": [
    "with open(file_path + 'avg_ratio.pkl','rb') as tf:\n",
    "    ratio_avg_set_all = pickle.load(tf)"
   ]
  },
  {
   "cell_type": "code",
   "execution_count": 32,
   "metadata": {},
   "outputs": [],
   "source": [
    "with open(file_path + 'quan_95_ratio.pkl','rb') as tf:\n",
    "    ratio_pt_set_all = pickle.load(tf)"
   ]
  },
  {
   "cell_type": "code",
   "execution_count": 10,
   "metadata": {},
   "outputs": [],
   "source": [
    "ratio_avg_set_all = {}\n",
    "ratio_pt_set_all = {}\n",
    "delta_r_all = [0.05,0.15,0.3]\n",
    "for i in range(len(delta_r_all)):\n",
    "    delta_r = delta_r_all[i]\n",
    "    file_path1 = '/Users/zhangxun/data/robust_scheduling/rand_release/release_processing_var/S='+str(10)+'/delta_r='+str(delta_r)\n",
    "    with open(file_path1 + '_avg_ratio.pkl','rb') as tf:\n",
    "        rst = pickle.load(tf)\n",
    "    ratio_avg_set_all[delta_r] = rst\n",
    "    with open(file_path1 + '_pt_ratio.pkl','rb') as tf:\n",
    "        rst = pickle.load(tf)\n",
    "    ratio_pt_set_all[delta_r] = rst"
   ]
  },
  {
   "cell_type": "code",
   "execution_count": 60,
   "metadata": {},
   "outputs": [
    {
     "data": {
      "text/plain": [
       "array([[0.97761231, 0.98596709, 0.98431813],\n",
       "       [0.90505216, 0.93642787, 0.93495178],\n",
       "       [0.79998185, 0.87172777, 0.85349321]])"
      ]
     },
     "execution_count": 60,
     "metadata": {},
     "output_type": "execute_result"
    }
   ],
   "source": [
    "ratio_pt_set_all[0.3]['saa']"
   ]
  },
  {
   "cell_type": "code",
   "execution_count": 58,
   "metadata": {},
   "outputs": [
    {
     "data": {
      "text/plain": [
       "array([[0.98127569, 0.97980045, 0.97336113],\n",
       "       [0.9448326 , 0.94894789, 0.94168211],\n",
       "       [0.88892487, 0.91204369, 0.89664184]])"
      ]
     },
     "execution_count": 58,
     "metadata": {},
     "output_type": "execute_result"
    }
   ],
   "source": [
    "ratio_avg_set_all[0.3]['saa']"
   ]
  },
  {
   "cell_type": "code",
   "execution_count": 43,
   "metadata": {},
   "outputs": [
    {
     "data": {
      "image/png": "[encoded data removed]",
      "text/plain": [
       "<Figure size 1200x800 with 9 Axes>"
      ]
     },
     "metadata": {},
     "output_type": "display_data"
    }
   ],
   "source": [
    "import matplotlib.ticker as mtick\n",
    "ms = 3\n",
    "lw = 1\n",
    "ticks = np.arange(1,1.501,0.1)\n",
    "metric_name = 'quan_95'\n",
    "color_set = ['g','b','r']\n",
    "delta_er_all = np.arange(0.5,1.51,0.5)\n",
    "delta_ep_all = np.arange(0.5,1.51,0.5)\n",
    "fig,ax = plt.subplots(len(delta_er_all),len(delta_ep_all),figsize=(12, 8))\n",
    "index = 0 \n",
    "for i in range(len(delta_er_all)):\n",
    "    delta_er = delta_er_all[i]\n",
    "    for j in range(len(delta_ep_all)):\n",
    "        # ax[i,j].plot(range_c,np.ones(len(range_c)),'-.',color = 'k',linewidth = lw)\n",
    "        if metric_name == 'avg':\n",
    "            for k in range(len(delta_r_all)):\n",
    "                delta_r = delta_r_all[k]\n",
    "                name1 = r'$R_{A}(ESR):\\delta_r='+str(delta_r)+'$'\n",
    "                name2 = r'$R_{A}(RSRA):\\delta_r='+str(delta_r)+'$'\n",
    "                ax[i,j].plot(range_c,np.ones(len(range_c))*ratio_avg_set_all[delta_r]['saa'][i,j],'--',color = color_set[k],markersize=ms,linewidth = 2,label=name1)\n",
    "                ax[i,j].plot(range_c,ratio_avg_set_all[delta_r]['rs'][i,j],'-s',color = color_set[k],markersize=ms,linewidth = lw,label=name2)\n",
    "                ax[i,j].yaxis.set_major_formatter(mtick.PercentFormatter(1))\n",
    "        else:\n",
    "            for k in range(len(delta_r_all)):\n",
    "                delta_r = delta_r_all[k]\n",
    "                name1 = r'$R^{PT}_{95}(ESR):\\delta_r='+str(delta_r)+'$'\n",
    "                name2 = r'$R^{PT}_{95}(RSRA):\\delta_r='+str(delta_r)+'$'\n",
    "                ax[i,j].plot(range_c,np.ones(len(range_c))*ratio_pt_set_all[delta_r]['saa'][i,j],'--',color = color_set[k],markersize=ms,linewidth = 2,label=name1)\n",
    "                ax[i,j].plot(range_c,ratio_pt_set_all[delta_r]['rs'][i,j],'-s',color = color_set[k],markersize=ms,linewidth = lw,label=name2)\n",
    "                ax[i,j].yaxis.set_major_formatter(mtick.PercentFormatter(1))\n",
    "\n",
    "        ax[i,j].set_ylabel('Gap',fontsize = 12)\n",
    "        ax[i,j].set_xlabel(r'$\\alpha$',fontsize = 12)\n",
    "        # ax[i,j].set_yticks(np.arange(0.88,1.01,0.04))\n",
    "        ax[i,j].set_xticks(ticks)\n",
    "        ax[i,j].set_title(r'$\\delta^{r}_{\\sigma}=$'+str(delta_er)+r', $\\delta^{p}_{\\sigma}=$'+str(delta_ep_all[j]))\n",
    "# plt.xticks(fontsize=16)\n",
    "# plt.yticks(fontsize=16)\n",
    "# ax.legend(loc='upper left',fontsize = 18) \n",
    "plt.legend(loc=8,fontsize = 12, ncol = 3, bbox_to_anchor=(-0.9,-0.8),borderaxespad = 0.)     ##设置ax4中legend的位置，将其放在图外\n",
    "fig_name = 'Out-of-sample performance-'+metric_name+'.pdf'\n",
    "plt.subplots_adjust(wspace =0.4, hspace =0.6)#调整子图间距\n",
    "plt.savefig(file_path + fig_name, bbox_inches='tight') # 保存成PDF放大后不失真（默认保存在了当前文件夹下）\n",
    "plt.show()\n"
   ]
  },
  {
   "cell_type": "code",
   "execution_count": 13,
   "metadata": {},
   "outputs": [],
   "source": [
    "def obtain_results(delta_all,name,file_path,file_pre,range_c,instances):\n",
    "    rst_det = np.zeros(len(delta_all))\n",
    "    rst_saa = np.zeros(len(delta_all))\n",
    "    # rst_mom = np.zeros((len(delta_all),instances))\n",
    "    # rst_wass_exact = {}\n",
    "    rst_wass = np.zeros((len(delta_all),len(range_c)))\n",
    "    for i in range(len(delta_all)):\n",
    "        delta = delta_all[i]\n",
    "        \n",
    "        file_path1 = file_path+file_pre +str(delta) +'/'\n",
    "        # print(file_path1)\n",
    "        # print('det',np.mean(load_results(instances,file_path1,'sol_det.pkl')[name]))\n",
    "        # print('saa',np.mean(load_results(instances,file_path1,'sol_saa.pkl')[name]))\n",
    "        # print('wass',np.mean(load_wass_results(instances,range_c,file_path1,'sol_wass_affine.pkl')[name],axis = 0))\n",
    "\n",
    "        rst_det[i] = np.mean(load_results(instances,file_path1,'sol_det.pkl')[name])\n",
    "        rst_saa[i] = np.mean(load_results(instances,file_path1,'sol_saa.pkl')[name])\n",
    "        rst_wass[i,:] = np.mean(load_wass_results(instances,range_c,file_path1,'sol_wass_affine.pkl')[name],axis = 0)\n",
    "        # print('i',i)\n",
    "    return rst_det,rst_saa,rst_wass"
   ]
  },
  {
   "cell_type": "code",
   "execution_count": 14,
   "metadata": {},
   "outputs": [],
   "source": [
    "def obtain_ratio(delta_ep_all,range_c,rst_det,rst_saa,rst_wass):\n",
    "    wass_mat = np.zeros((len(delta_ep_all),len(range_c)))\n",
    "    for i in range(len(delta_ep_all)):\n",
    "        # print('----------------delta_ep=',delta_ep_all[i],'------------------')\n",
    "        # print('saa ratio=',rst_saa[i]/rst_det[i])\n",
    "        wass_mat[i,:] = rst_wass[i,:]/rst_det[i]\n",
    "        # print('wass ratio=',rst_wass[i,:]/rst_det[i])\n",
    "    out_df = pd.DataFrame(data=wass_mat,columns=range_c)\n",
    "    out_df['SAA'] = rst_saa/rst_det\n",
    "\n",
    "    return out_df"
   ]
  },
  {
   "attachments": {},
   "cell_type": "markdown",
   "metadata": {},
   "source": [
    "# Impact of number of jobs"
   ]
  },
  {
   "cell_type": "code",
   "execution_count": 15,
   "metadata": {},
   "outputs": [],
   "source": [
    "range_c = np.asarray([0])"
   ]
  },
  {
   "cell_type": "code",
   "execution_count": 5,
   "metadata": {},
   "outputs": [],
   "source": [
    "def obtain_avg(range_c,N_all,metric_name):\n",
    "    det_rst = np.zeros(len(N_all))\n",
    "    saa_rst = np.zeros(len(N_all))\n",
    "    RS_rst = np.zeros(len(N_all))\n",
    "    for i in range(len(N_all)):\n",
    "        print('-------- n = ',N_all[i],' ---------')\n",
    "        file_path1 = file_path + 'n='+str(N_all[i]) + '/'\n",
    "        det_rst[i] = np.mean(load_results(instances,file_path1,'sol_det.pkl')[metric_name])\n",
    "        saa_rst[i] = np.mean(load_results(instances,file_path1,'sol_saa.pkl')[metric_name])\n",
    "        RS_rst[i] = np.mean(load_wass_results(instances,range_c,file_path1,'sol_wass_affine.pkl')[metric_name],axis = 0)\n",
    "    return det_rst, saa_rst, RS_rst"
   ]
  },
  {
   "cell_type": "code",
   "execution_count": 6,
   "metadata": {},
   "outputs": [
    {
     "name": "stdout",
     "output_type": "stream",
     "text": [
      "-------- n =  10  ---------\n",
      "-------- n =  20  ---------\n",
      "-------- n =  30  ---------\n",
      "-------- n =  40  ---------\n",
      "-------- n =  50  ---------\n",
      "-------- n =  60  ---------\n",
      "-------- n =  70  ---------\n",
      "-------- n =  80  ---------\n",
      "-------- n =  10  ---------\n",
      "-------- n =  20  ---------\n",
      "-------- n =  30  ---------\n",
      "-------- n =  40  ---------\n",
      "-------- n =  50  ---------\n",
      "-------- n =  60  ---------\n",
      "-------- n =  70  ---------\n",
      "-------- n =  80  ---------\n"
     ]
    }
   ],
   "source": [
    "N_all = [10,20,30,40,50,60,70,80]\n",
    "metric_name = 'avg'\n",
    "det_rst_avg, saa_rst_avg, RS_rst_avg = obtain_avg(range_c,N_all,metric_name)\n",
    "\n",
    "metric_name = 'quan_95'\n",
    "det_rst_quan95, saa_rst_quan95, RS_rst_quan95 = obtain_avg(range_c,N_all,metric_name)\n"
   ]
  },
  {
   "cell_type": "code",
   "execution_count": 7,
   "metadata": {},
   "outputs": [
    {
     "data": {
      "text/plain": [
       "array([  2814.21748915,  10220.9853936 ,  22055.80635159,  38685.1660831 ,\n",
       "        60432.8002613 ,  85474.89723666, 115217.47810964, 150345.43881704])"
      ]
     },
     "execution_count": 7,
     "metadata": {},
     "output_type": "execute_result"
    }
   ],
   "source": [
    "RS_rst_quan95"
   ]
  },
  {
   "cell_type": "code",
   "execution_count": 8,
   "metadata": {},
   "outputs": [
    {
     "data": {
      "text/plain": [
       "array([1.        , 0.99319554, 0.96078065, 0.99291895, 0.97026076,\n",
       "       0.95211086, 0.94906867, 0.95965055])"
      ]
     },
     "execution_count": 8,
     "metadata": {},
     "output_type": "execute_result"
    }
   ],
   "source": [
    "saa_rst_quan95/det_rst_quan95"
   ]
  },
  {
   "cell_type": "code",
   "execution_count": 9,
   "metadata": {},
   "outputs": [],
   "source": [
    "rst_df = pd.DataFrame()\n",
    "rst_df['ratio_saa_avg'] = saa_rst_avg/det_rst_avg\n",
    "rst_df['ratio_affine_avg'] = RS_rst_avg/det_rst_avg\n",
    "\n",
    "rst_df['ratio_saa_quan95'] = saa_rst_quan95/det_rst_quan95\n",
    "rst_df['ratio_affine_quan95'] = RS_rst_quan95/det_rst_quan95\n"
   ]
  },
  {
   "cell_type": "code",
   "execution_count": 10,
   "metadata": {},
   "outputs": [
    {
     "data": {
      "text/html": [
       "<div>\n",
       "<style scoped>\n",
       "    .dataframe tbody tr th:only-of-type {\n",
       "        vertical-align: middle;\n",
       "    }\n",
       "\n",
       "    .dataframe tbody tr th {\n",
       "        vertical-align: top;\n",
       "    }\n",
       "\n",
       "    .dataframe thead th {\n",
       "        text-align: right;\n",
       "    }\n",
       "</style>\n",
       "<table border=\"1\" class=\"dataframe\">\n",
       "  <thead>\n",
       "    <tr style=\"text-align: right;\">\n",
       "      <th></th>\n",
       "      <th>ratio_saa_avg</th>\n",
       "      <th>ratio_affine_avg</th>\n",
       "      <th>ratio_saa_quan95</th>\n",
       "      <th>ratio_affine_quan95</th>\n",
       "    </tr>\n",
       "  </thead>\n",
       "  <tbody>\n",
       "    <tr>\n",
       "      <th>0</th>\n",
       "      <td>1.000000</td>\n",
       "      <td>1.002615</td>\n",
       "      <td>1.000000</td>\n",
       "      <td>0.940084</td>\n",
       "    </tr>\n",
       "    <tr>\n",
       "      <th>1</th>\n",
       "      <td>0.988379</td>\n",
       "      <td>0.995092</td>\n",
       "      <td>0.993196</td>\n",
       "      <td>0.951825</td>\n",
       "    </tr>\n",
       "    <tr>\n",
       "      <th>2</th>\n",
       "      <td>0.971547</td>\n",
       "      <td>0.975889</td>\n",
       "      <td>0.960781</td>\n",
       "      <td>0.927803</td>\n",
       "    </tr>\n",
       "    <tr>\n",
       "      <th>3</th>\n",
       "      <td>0.989099</td>\n",
       "      <td>0.996519</td>\n",
       "      <td>0.992919</td>\n",
       "      <td>0.957727</td>\n",
       "    </tr>\n",
       "    <tr>\n",
       "      <th>4</th>\n",
       "      <td>0.974782</td>\n",
       "      <td>0.982391</td>\n",
       "      <td>0.970261</td>\n",
       "      <td>0.946937</td>\n",
       "    </tr>\n",
       "    <tr>\n",
       "      <th>5</th>\n",
       "      <td>0.958565</td>\n",
       "      <td>0.960475</td>\n",
       "      <td>0.952111</td>\n",
       "      <td>0.919712</td>\n",
       "    </tr>\n",
       "    <tr>\n",
       "      <th>6</th>\n",
       "      <td>0.961212</td>\n",
       "      <td>0.968388</td>\n",
       "      <td>0.949069</td>\n",
       "      <td>0.928152</td>\n",
       "    </tr>\n",
       "    <tr>\n",
       "      <th>7</th>\n",
       "      <td>0.971018</td>\n",
       "      <td>0.976564</td>\n",
       "      <td>0.959651</td>\n",
       "      <td>0.936377</td>\n",
       "    </tr>\n",
       "  </tbody>\n",
       "</table>\n",
       "</div>"
      ],
      "text/plain": [
       "   ratio_saa_avg  ratio_affine_avg  ratio_saa_quan95  ratio_affine_quan95\n",
       "0       1.000000          1.002615          1.000000             0.940084\n",
       "1       0.988379          0.995092          0.993196             0.951825\n",
       "2       0.971547          0.975889          0.960781             0.927803\n",
       "3       0.989099          0.996519          0.992919             0.957727\n",
       "4       0.974782          0.982391          0.970261             0.946937\n",
       "5       0.958565          0.960475          0.952111             0.919712\n",
       "6       0.961212          0.968388          0.949069             0.928152\n",
       "7       0.971018          0.976564          0.959651             0.936377"
      ]
     },
     "execution_count": 10,
     "metadata": {},
     "output_type": "execute_result"
    }
   ],
   "source": [
    "rst_df"
   ]
  },
  {
   "cell_type": "code",
   "execution_count": 11,
   "metadata": {},
   "outputs": [],
   "source": [
    "pd.DataFrame(rst_df).to_csv( file_path +'tft_df.csv')"
   ]
  },
  {
   "cell_type": "code",
   "execution_count": 12,
   "metadata": {},
   "outputs": [
    {
     "name": "stdout",
     "output_type": "stream",
     "text": [
      "-------- n =  10  ---------\n",
      "-------- n =  20  ---------\n",
      "-------- n =  30  ---------\n",
      "-------- n =  40  ---------\n",
      "-------- n =  50  ---------\n",
      "-------- n =  60  ---------\n",
      "-------- n =  70  ---------\n",
      "-------- n =  80  ---------\n"
     ]
    }
   ],
   "source": [
    "metric_name = 'time'\n",
    "det_rst_time, saa_rst_time, RS_rst_time = obtain_avg(range_c,N_all,metric_name)\n"
   ]
  },
  {
   "cell_type": "code",
   "execution_count": 13,
   "metadata": {},
   "outputs": [
    {
     "data": {
      "text/plain": [
       "array([0.01204016, 0.01192658, 0.0207515 , 0.06746228, 0.06291676,\n",
       "       0.10365961, 0.25229559, 0.27436662])"
      ]
     },
     "execution_count": 13,
     "metadata": {},
     "output_type": "execute_result"
    }
   ],
   "source": [
    "det_rst_time"
   ]
  },
  {
   "cell_type": "code",
   "execution_count": 14,
   "metadata": {},
   "outputs": [],
   "source": [
    "time_df = pd.DataFrame()\n",
    "time_df['det'] = det_rst_time\n",
    "time_df['saa'] = saa_rst_time\n",
    "time_df['RS'] = RS_rst_time\n"
   ]
  },
  {
   "cell_type": "code",
   "execution_count": 15,
   "metadata": {},
   "outputs": [
    {
     "data": {
      "text/html": [
       "<div>\n",
       "<style scoped>\n",
       "    .dataframe tbody tr th:only-of-type {\n",
       "        vertical-align: middle;\n",
       "    }\n",
       "\n",
       "    .dataframe tbody tr th {\n",
       "        vertical-align: top;\n",
       "    }\n",
       "\n",
       "    .dataframe thead th {\n",
       "        text-align: right;\n",
       "    }\n",
       "</style>\n",
       "<table border=\"1\" class=\"dataframe\">\n",
       "  <thead>\n",
       "    <tr style=\"text-align: right;\">\n",
       "      <th></th>\n",
       "      <th>det</th>\n",
       "      <th>saa</th>\n",
       "      <th>RS</th>\n",
       "    </tr>\n",
       "  </thead>\n",
       "  <tbody>\n",
       "    <tr>\n",
       "      <th>0</th>\n",
       "      <td>0.012040</td>\n",
       "      <td>0.014939</td>\n",
       "      <td>0.540671</td>\n",
       "    </tr>\n",
       "    <tr>\n",
       "      <th>1</th>\n",
       "      <td>0.011927</td>\n",
       "      <td>0.043017</td>\n",
       "      <td>8.049967</td>\n",
       "    </tr>\n",
       "    <tr>\n",
       "      <th>2</th>\n",
       "      <td>0.020752</td>\n",
       "      <td>0.257977</td>\n",
       "      <td>54.341991</td>\n",
       "    </tr>\n",
       "    <tr>\n",
       "      <th>3</th>\n",
       "      <td>0.067462</td>\n",
       "      <td>0.553828</td>\n",
       "      <td>172.121580</td>\n",
       "    </tr>\n",
       "    <tr>\n",
       "      <th>4</th>\n",
       "      <td>0.062917</td>\n",
       "      <td>1.232301</td>\n",
       "      <td>605.572434</td>\n",
       "    </tr>\n",
       "    <tr>\n",
       "      <th>5</th>\n",
       "      <td>0.103660</td>\n",
       "      <td>2.559098</td>\n",
       "      <td>1232.840699</td>\n",
       "    </tr>\n",
       "    <tr>\n",
       "      <th>6</th>\n",
       "      <td>0.252296</td>\n",
       "      <td>4.518236</td>\n",
       "      <td>2370.399984</td>\n",
       "    </tr>\n",
       "    <tr>\n",
       "      <th>7</th>\n",
       "      <td>0.274367</td>\n",
       "      <td>6.884564</td>\n",
       "      <td>3478.682915</td>\n",
       "    </tr>\n",
       "  </tbody>\n",
       "</table>\n",
       "</div>"
      ],
      "text/plain": [
       "        det       saa           RS\n",
       "0  0.012040  0.014939     0.540671\n",
       "1  0.011927  0.043017     8.049967\n",
       "2  0.020752  0.257977    54.341991\n",
       "3  0.067462  0.553828   172.121580\n",
       "4  0.062917  1.232301   605.572434\n",
       "5  0.103660  2.559098  1232.840699\n",
       "6  0.252296  4.518236  2370.399984\n",
       "7  0.274367  6.884564  3478.682915"
      ]
     },
     "execution_count": 15,
     "metadata": {},
     "output_type": "execute_result"
    }
   ],
   "source": [
    "time_df"
   ]
  },
  {
   "cell_type": "code",
   "execution_count": 16,
   "metadata": {},
   "outputs": [],
   "source": [
    "pd.DataFrame(time_df).to_csv( file_path +'time_df.csv')"
   ]
  },
  {
   "cell_type": "code",
   "execution_count": 17,
   "metadata": {},
   "outputs": [
    {
     "name": "stdout",
     "output_type": "stream",
     "text": [
      "-------- n =  10  ---------\n",
      "-------- n =  20  ---------\n",
      "-------- n =  30  ---------\n",
      "-------- n =  40  ---------\n",
      "-------- n =  50  ---------\n",
      "-------- n =  60  ---------\n",
      "-------- n =  70  ---------\n",
      "-------- n =  80  ---------\n"
     ]
    }
   ],
   "source": [
    "det_time = pd.DataFrame()\n",
    "saa_time = pd.DataFrame()\n",
    "RS_time = pd.DataFrame()\n",
    "metric_name = 'time'\n",
    "for i in range(len(N_all)):\n",
    "    print('-------- n = ',N_all[i],' ---------')\n",
    "    file_path1 = file_path + 'n='+str(N_all[i]) + '/'\n",
    "    det_time[N_all[i]] = load_results(instances,file_path1,'sol_det.pkl')[metric_name]\n",
    "    saa_time[N_all[i]] = load_results(instances,file_path1,'sol_saa.pkl')[metric_name]\n",
    "    rs_time_tem = load_wass_results(instances,range_c,file_path1,'sol_wass_affine.pkl')[metric_name][:,0]\n",
    "    rs_time = np.zeros(instances)\n",
    "    rs_time[0:len(rs_time_tem)] = rs_time_tem\n",
    "    RS_time[N_all[i]] = rs_time"
   ]
  },
  {
   "cell_type": "code",
   "execution_count": 18,
   "metadata": {},
   "outputs": [
    {
     "data": {
      "text/html": [
       "<div>\n",
       "<style scoped>\n",
       "    .dataframe tbody tr th:only-of-type {\n",
       "        vertical-align: middle;\n",
       "    }\n",
       "\n",
       "    .dataframe tbody tr th {\n",
       "        vertical-align: top;\n",
       "    }\n",
       "\n",
       "    .dataframe thead th {\n",
       "        text-align: right;\n",
       "    }\n",
       "</style>\n",
       "<table border=\"1\" class=\"dataframe\">\n",
       "  <thead>\n",
       "    <tr style=\"text-align: right;\">\n",
       "      <th></th>\n",
       "      <th>10</th>\n",
       "      <th>20</th>\n",
       "      <th>30</th>\n",
       "      <th>40</th>\n",
       "      <th>50</th>\n",
       "      <th>60</th>\n",
       "      <th>70</th>\n",
       "      <th>80</th>\n",
       "    </tr>\n",
       "  </thead>\n",
       "  <tbody>\n",
       "    <tr>\n",
       "      <th>0</th>\n",
       "      <td>0.827348</td>\n",
       "      <td>2.949353</td>\n",
       "      <td>54.892900</td>\n",
       "      <td>159.820848</td>\n",
       "      <td>275.193421</td>\n",
       "      <td>1001.272857</td>\n",
       "      <td>615.159625</td>\n",
       "      <td>9418.086170</td>\n",
       "    </tr>\n",
       "    <tr>\n",
       "      <th>1</th>\n",
       "      <td>0.727916</td>\n",
       "      <td>14.872627</td>\n",
       "      <td>51.896374</td>\n",
       "      <td>160.509448</td>\n",
       "      <td>274.329549</td>\n",
       "      <td>317.303725</td>\n",
       "      <td>852.190303</td>\n",
       "      <td>2062.970001</td>\n",
       "    </tr>\n",
       "    <tr>\n",
       "      <th>2</th>\n",
       "      <td>0.478657</td>\n",
       "      <td>3.729153</td>\n",
       "      <td>58.622522</td>\n",
       "      <td>121.093014</td>\n",
       "      <td>1073.284722</td>\n",
       "      <td>351.105212</td>\n",
       "      <td>2028.883702</td>\n",
       "      <td>4135.278154</td>\n",
       "    </tr>\n",
       "    <tr>\n",
       "      <th>3</th>\n",
       "      <td>0.537831</td>\n",
       "      <td>3.673024</td>\n",
       "      <td>47.769106</td>\n",
       "      <td>247.483733</td>\n",
       "      <td>347.117619</td>\n",
       "      <td>1498.287386</td>\n",
       "      <td>1200.907807</td>\n",
       "      <td>1172.315928</td>\n",
       "    </tr>\n",
       "    <tr>\n",
       "      <th>4</th>\n",
       "      <td>0.436703</td>\n",
       "      <td>12.875829</td>\n",
       "      <td>58.959676</td>\n",
       "      <td>208.707116</td>\n",
       "      <td>717.691590</td>\n",
       "      <td>629.904736</td>\n",
       "      <td>1416.330100</td>\n",
       "      <td>12379.232440</td>\n",
       "    </tr>\n",
       "    <tr>\n",
       "      <th>5</th>\n",
       "      <td>0.354192</td>\n",
       "      <td>9.737286</td>\n",
       "      <td>85.232314</td>\n",
       "      <td>279.094354</td>\n",
       "      <td>274.593345</td>\n",
       "      <td>1805.572563</td>\n",
       "      <td>4903.713680</td>\n",
       "      <td>819.082516</td>\n",
       "    </tr>\n",
       "    <tr>\n",
       "      <th>6</th>\n",
       "      <td>0.661583</td>\n",
       "      <td>5.911482</td>\n",
       "      <td>79.576944</td>\n",
       "      <td>152.617283</td>\n",
       "      <td>466.808244</td>\n",
       "      <td>1582.465395</td>\n",
       "      <td>1426.180588</td>\n",
       "      <td>1053.657444</td>\n",
       "    </tr>\n",
       "    <tr>\n",
       "      <th>7</th>\n",
       "      <td>0.400342</td>\n",
       "      <td>13.425918</td>\n",
       "      <td>24.558294</td>\n",
       "      <td>108.818114</td>\n",
       "      <td>930.516419</td>\n",
       "      <td>1375.604927</td>\n",
       "      <td>535.345642</td>\n",
       "      <td>1404.253435</td>\n",
       "    </tr>\n",
       "    <tr>\n",
       "      <th>8</th>\n",
       "      <td>0.378107</td>\n",
       "      <td>5.424963</td>\n",
       "      <td>43.966701</td>\n",
       "      <td>153.479511</td>\n",
       "      <td>867.897514</td>\n",
       "      <td>3171.964844</td>\n",
       "      <td>9284.210662</td>\n",
       "      <td>1117.864871</td>\n",
       "    </tr>\n",
       "    <tr>\n",
       "      <th>9</th>\n",
       "      <td>0.604028</td>\n",
       "      <td>7.900037</td>\n",
       "      <td>37.945085</td>\n",
       "      <td>129.592382</td>\n",
       "      <td>828.291918</td>\n",
       "      <td>594.925342</td>\n",
       "      <td>1441.077729</td>\n",
       "      <td>1224.088186</td>\n",
       "    </tr>\n",
       "  </tbody>\n",
       "</table>\n",
       "</div>"
      ],
      "text/plain": [
       "         10         20         30          40           50           60  \\\n",
       "0  0.827348   2.949353  54.892900  159.820848   275.193421  1001.272857   \n",
       "1  0.727916  14.872627  51.896374  160.509448   274.329549   317.303725   \n",
       "2  0.478657   3.729153  58.622522  121.093014  1073.284722   351.105212   \n",
       "3  0.537831   3.673024  47.769106  247.483733   347.117619  1498.287386   \n",
       "4  0.436703  12.875829  58.959676  208.707116   717.691590   629.904736   \n",
       "5  0.354192   9.737286  85.232314  279.094354   274.593345  1805.572563   \n",
       "6  0.661583   5.911482  79.576944  152.617283   466.808244  1582.465395   \n",
       "7  0.400342  13.425918  24.558294  108.818114   930.516419  1375.604927   \n",
       "8  0.378107   5.424963  43.966701  153.479511   867.897514  3171.964844   \n",
       "9  0.604028   7.900037  37.945085  129.592382   828.291918   594.925342   \n",
       "\n",
       "            70            80  \n",
       "0   615.159625   9418.086170  \n",
       "1   852.190303   2062.970001  \n",
       "2  2028.883702   4135.278154  \n",
       "3  1200.907807   1172.315928  \n",
       "4  1416.330100  12379.232440  \n",
       "5  4903.713680    819.082516  \n",
       "6  1426.180588   1053.657444  \n",
       "7   535.345642   1404.253435  \n",
       "8  9284.210662   1117.864871  \n",
       "9  1441.077729   1224.088186  "
      ]
     },
     "execution_count": 18,
     "metadata": {},
     "output_type": "execute_result"
    }
   ],
   "source": [
    "RS_time"
   ]
  },
  {
   "cell_type": "code",
   "execution_count": 19,
   "metadata": {},
   "outputs": [],
   "source": [
    "pd.DataFrame(det_time).to_csv( file_path +'time_det.csv')\n",
    "pd.DataFrame(saa_time).to_csv( file_path +'time_saa.csv')\n",
    "pd.DataFrame(RS_time).to_csv( file_path +'time_rs.csv')\n"
   ]
  },
  {
   "attachments": {},
   "cell_type": "markdown",
   "metadata": {},
   "source": [
    "# impact of correlation"
   ]
  },
  {
   "cell_type": "code",
   "execution_count": 5,
   "metadata": {},
   "outputs": [],
   "source": [
    "def obtain_corre_rst(cov_bar_all,file_path,metric_name):\n",
    "    det_rst = np.zeros(len(cov_bar_all))\n",
    "    saa_rst = np.zeros(len(cov_bar_all))\n",
    "    wass_rst = {}\n",
    "    for i in range(len(cov_bar_all)):\n",
    "        cov_bar = cov_bar_all[i]\n",
    "        print('cov_bar=',cov_bar)\n",
    "        file_path1 = file_path + 'cov_bar='+str(cov_bar) + '/'\n",
    "        det_rst[i] = np.mean(load_results(instances,file_path1,'sol_det.pkl')[metric_name])\n",
    "        saa_rst[i] = np.mean(load_results(instances,file_path1,'sol_saa.pkl')[metric_name])\n",
    "        wass_rst[i] = np.mean(load_wass_results(instances,range_c,file_path1,'sol_wass_affine.pkl')[metric_name],axis = 0)\n",
    "    return det_rst,saa_rst,wass_rst"
   ]
  },
  {
   "cell_type": "code",
   "execution_count": 6,
   "metadata": {},
   "outputs": [
    {
     "name": "stdout",
     "output_type": "stream",
     "text": [
      "cov_bar= -0.6\n",
      "cov_bar= -0.4\n",
      "cov_bar= -0.2\n",
      "cov_bar= 0.0\n",
      "cov_bar= 0.2\n",
      "cov_bar= 0.4\n",
      "cov_bar= 0.6\n",
      "cov_bar= -0.6\n",
      "cov_bar= -0.4\n",
      "cov_bar= -0.2\n",
      "cov_bar= 0.0\n",
      "cov_bar= 0.2\n",
      "cov_bar= 0.4\n",
      "cov_bar= 0.6\n"
     ]
    }
   ],
   "source": [
    "cov_bar_all = np.asarray([-0.6,-0.4,-0.2,0,0.2,0.4,0.6])\n",
    "det_avg,saa_avg,wass_avg = obtain_corre_rst(cov_bar_all,file_path,'avg')\n",
    "det_pt,saa_pt,wass_pt = obtain_corre_rst(cov_bar_all,file_path,'quan_95')\n"
   ]
  },
  {
   "cell_type": "code",
   "execution_count": 7,
   "metadata": {},
   "outputs": [
    {
     "name": "stdout",
     "output_type": "stream",
     "text": [
      "cov_bar= -0.6\n",
      "cov_bar= -0.4\n",
      "cov_bar= -0.2\n",
      "cov_bar= 0.0\n",
      "cov_bar= 0.2\n",
      "cov_bar= 0.4\n",
      "cov_bar= 0.6\n"
     ]
    }
   ],
   "source": [
    "saa_ratio_avg = saa_avg/det_avg\n",
    "saa_ratio_pt = saa_pt/det_pt\n",
    "\n",
    "wass_raito_avg = np.zeros((len(cov_bar_all),len(range_c)))\n",
    "wass_raito_pt = np.zeros((len(cov_bar_all),len(range_c)))\n",
    "\n",
    "for i in range(len(cov_bar_all)):\n",
    "    cov_bar = cov_bar_all[i]\n",
    "    print('cov_bar=',cov_bar)\n",
    "    wass_raito_avg[i,:] = wass_avg[i]/det_avg[i]\n",
    "    wass_raito_pt[i,:] = wass_pt[i]/det_pt[i]\n",
    "\n",
    "df_avg = pd.DataFrame(wass_raito_avg, columns=range_c)\n",
    "df_avg['saa'] = saa_ratio_avg\n",
    "df_pt = pd.DataFrame(wass_raito_pt, columns=range_c)\n",
    "df_pt['saa'] = saa_ratio_pt"
   ]
  },
  {
   "cell_type": "code",
   "execution_count": 8,
   "metadata": {},
   "outputs": [
    {
     "data": {
      "text/html": [
       "<div>\n",
       "<style scoped>\n",
       "    .dataframe tbody tr th:only-of-type {\n",
       "        vertical-align: middle;\n",
       "    }\n",
       "\n",
       "    .dataframe tbody tr th {\n",
       "        vertical-align: top;\n",
       "    }\n",
       "\n",
       "    .dataframe thead th {\n",
       "        text-align: right;\n",
       "    }\n",
       "</style>\n",
       "<table border=\"1\" class=\"dataframe\">\n",
       "  <thead>\n",
       "    <tr style=\"text-align: right;\">\n",
       "      <th></th>\n",
       "      <th>1.000001</th>\n",
       "      <th>1.02</th>\n",
       "      <th>1.04</th>\n",
       "      <th>1.06</th>\n",
       "      <th>1.08</th>\n",
       "      <th>1.1</th>\n",
       "      <th>1.2</th>\n",
       "      <th>1.3</th>\n",
       "      <th>1.4</th>\n",
       "      <th>1.5</th>\n",
       "      <th>saa</th>\n",
       "    </tr>\n",
       "  </thead>\n",
       "  <tbody>\n",
       "    <tr>\n",
       "      <th>0</th>\n",
       "      <td>0.987390</td>\n",
       "      <td>0.986993</td>\n",
       "      <td>0.989048</td>\n",
       "      <td>0.990182</td>\n",
       "      <td>0.994761</td>\n",
       "      <td>0.996258</td>\n",
       "      <td>1.002419</td>\n",
       "      <td>1.006570</td>\n",
       "      <td>1.006618</td>\n",
       "      <td>1.006618</td>\n",
       "      <td>0.983826</td>\n",
       "    </tr>\n",
       "    <tr>\n",
       "      <th>1</th>\n",
       "      <td>0.983029</td>\n",
       "      <td>0.982211</td>\n",
       "      <td>0.983491</td>\n",
       "      <td>0.986614</td>\n",
       "      <td>0.989280</td>\n",
       "      <td>0.991426</td>\n",
       "      <td>0.995584</td>\n",
       "      <td>0.997991</td>\n",
       "      <td>0.999172</td>\n",
       "      <td>0.999172</td>\n",
       "      <td>0.981651</td>\n",
       "    </tr>\n",
       "    <tr>\n",
       "      <th>2</th>\n",
       "      <td>0.976943</td>\n",
       "      <td>0.977514</td>\n",
       "      <td>0.979518</td>\n",
       "      <td>0.984181</td>\n",
       "      <td>0.987351</td>\n",
       "      <td>0.989545</td>\n",
       "      <td>0.996045</td>\n",
       "      <td>0.996471</td>\n",
       "      <td>0.998583</td>\n",
       "      <td>0.998583</td>\n",
       "      <td>0.978138</td>\n",
       "    </tr>\n",
       "    <tr>\n",
       "      <th>3</th>\n",
       "      <td>0.983242</td>\n",
       "      <td>0.982806</td>\n",
       "      <td>0.983915</td>\n",
       "      <td>0.986951</td>\n",
       "      <td>0.990739</td>\n",
       "      <td>0.993112</td>\n",
       "      <td>1.001494</td>\n",
       "      <td>1.003510</td>\n",
       "      <td>1.002912</td>\n",
       "      <td>1.002912</td>\n",
       "      <td>0.984086</td>\n",
       "    </tr>\n",
       "    <tr>\n",
       "      <th>4</th>\n",
       "      <td>0.984531</td>\n",
       "      <td>0.985527</td>\n",
       "      <td>0.985675</td>\n",
       "      <td>0.988846</td>\n",
       "      <td>0.992798</td>\n",
       "      <td>0.994671</td>\n",
       "      <td>0.999682</td>\n",
       "      <td>1.001824</td>\n",
       "      <td>1.003678</td>\n",
       "      <td>1.003774</td>\n",
       "      <td>0.986263</td>\n",
       "    </tr>\n",
       "    <tr>\n",
       "      <th>5</th>\n",
       "      <td>0.977721</td>\n",
       "      <td>0.977785</td>\n",
       "      <td>0.980726</td>\n",
       "      <td>0.983434</td>\n",
       "      <td>0.984932</td>\n",
       "      <td>0.989023</td>\n",
       "      <td>0.993818</td>\n",
       "      <td>0.994089</td>\n",
       "      <td>0.993782</td>\n",
       "      <td>0.993782</td>\n",
       "      <td>0.979432</td>\n",
       "    </tr>\n",
       "    <tr>\n",
       "      <th>6</th>\n",
       "      <td>0.972131</td>\n",
       "      <td>0.972672</td>\n",
       "      <td>0.973509</td>\n",
       "      <td>0.976636</td>\n",
       "      <td>0.980570</td>\n",
       "      <td>0.982252</td>\n",
       "      <td>0.991685</td>\n",
       "      <td>0.993348</td>\n",
       "      <td>0.991841</td>\n",
       "      <td>0.991841</td>\n",
       "      <td>0.974688</td>\n",
       "    </tr>\n",
       "  </tbody>\n",
       "</table>\n",
       "</div>"
      ],
      "text/plain": [
       "   1.000001      1.02      1.04      1.06      1.08       1.1       1.2  \\\n",
       "0  0.987390  0.986993  0.989048  0.990182  0.994761  0.996258  1.002419   \n",
       "1  0.983029  0.982211  0.983491  0.986614  0.989280  0.991426  0.995584   \n",
       "2  0.976943  0.977514  0.979518  0.984181  0.987351  0.989545  0.996045   \n",
       "3  0.983242  0.982806  0.983915  0.986951  0.990739  0.993112  1.001494   \n",
       "4  0.984531  0.985527  0.985675  0.988846  0.992798  0.994671  0.999682   \n",
       "5  0.977721  0.977785  0.980726  0.983434  0.984932  0.989023  0.993818   \n",
       "6  0.972131  0.972672  0.973509  0.976636  0.980570  0.982252  0.991685   \n",
       "\n",
       "        1.3       1.4       1.5       saa  \n",
       "0  1.006570  1.006618  1.006618  0.983826  \n",
       "1  0.997991  0.999172  0.999172  0.981651  \n",
       "2  0.996471  0.998583  0.998583  0.978138  \n",
       "3  1.003510  1.002912  1.002912  0.984086  \n",
       "4  1.001824  1.003678  1.003774  0.986263  \n",
       "5  0.994089  0.993782  0.993782  0.979432  \n",
       "6  0.993348  0.991841  0.991841  0.974688  "
      ]
     },
     "execution_count": 8,
     "metadata": {},
     "output_type": "execute_result"
    }
   ],
   "source": [
    "df_avg"
   ]
  },
  {
   "cell_type": "code",
   "execution_count": 9,
   "metadata": {},
   "outputs": [
    {
     "data": {
      "text/html": [
       "<div>\n",
       "<style scoped>\n",
       "    .dataframe tbody tr th:only-of-type {\n",
       "        vertical-align: middle;\n",
       "    }\n",
       "\n",
       "    .dataframe tbody tr th {\n",
       "        vertical-align: top;\n",
       "    }\n",
       "\n",
       "    .dataframe thead th {\n",
       "        text-align: right;\n",
       "    }\n",
       "</style>\n",
       "<table border=\"1\" class=\"dataframe\">\n",
       "  <thead>\n",
       "    <tr style=\"text-align: right;\">\n",
       "      <th></th>\n",
       "      <th>1.000001</th>\n",
       "      <th>1.02</th>\n",
       "      <th>1.04</th>\n",
       "      <th>1.06</th>\n",
       "      <th>1.08</th>\n",
       "      <th>1.1</th>\n",
       "      <th>1.2</th>\n",
       "      <th>1.3</th>\n",
       "      <th>1.4</th>\n",
       "      <th>1.5</th>\n",
       "      <th>saa</th>\n",
       "    </tr>\n",
       "  </thead>\n",
       "  <tbody>\n",
       "    <tr>\n",
       "      <th>0</th>\n",
       "      <td>0.986003</td>\n",
       "      <td>0.988443</td>\n",
       "      <td>0.974994</td>\n",
       "      <td>0.964147</td>\n",
       "      <td>0.959278</td>\n",
       "      <td>0.954520</td>\n",
       "      <td>0.946909</td>\n",
       "      <td>0.948544</td>\n",
       "      <td>0.948271</td>\n",
       "      <td>0.948271</td>\n",
       "      <td>0.990872</td>\n",
       "    </tr>\n",
       "    <tr>\n",
       "      <th>1</th>\n",
       "      <td>0.981202</td>\n",
       "      <td>0.977786</td>\n",
       "      <td>0.966781</td>\n",
       "      <td>0.956636</td>\n",
       "      <td>0.952887</td>\n",
       "      <td>0.946824</td>\n",
       "      <td>0.940596</td>\n",
       "      <td>0.940430</td>\n",
       "      <td>0.942421</td>\n",
       "      <td>0.942421</td>\n",
       "      <td>0.986835</td>\n",
       "    </tr>\n",
       "    <tr>\n",
       "      <th>2</th>\n",
       "      <td>0.968845</td>\n",
       "      <td>0.964028</td>\n",
       "      <td>0.953069</td>\n",
       "      <td>0.944760</td>\n",
       "      <td>0.940427</td>\n",
       "      <td>0.936754</td>\n",
       "      <td>0.932017</td>\n",
       "      <td>0.931256</td>\n",
       "      <td>0.932599</td>\n",
       "      <td>0.932599</td>\n",
       "      <td>0.976355</td>\n",
       "    </tr>\n",
       "    <tr>\n",
       "      <th>3</th>\n",
       "      <td>0.980041</td>\n",
       "      <td>0.975134</td>\n",
       "      <td>0.965112</td>\n",
       "      <td>0.954822</td>\n",
       "      <td>0.949251</td>\n",
       "      <td>0.944199</td>\n",
       "      <td>0.938802</td>\n",
       "      <td>0.939644</td>\n",
       "      <td>0.938436</td>\n",
       "      <td>0.938436</td>\n",
       "      <td>0.987396</td>\n",
       "    </tr>\n",
       "    <tr>\n",
       "      <th>4</th>\n",
       "      <td>0.977663</td>\n",
       "      <td>0.973755</td>\n",
       "      <td>0.960132</td>\n",
       "      <td>0.952320</td>\n",
       "      <td>0.947849</td>\n",
       "      <td>0.943259</td>\n",
       "      <td>0.935685</td>\n",
       "      <td>0.936523</td>\n",
       "      <td>0.938494</td>\n",
       "      <td>0.938450</td>\n",
       "      <td>0.985136</td>\n",
       "    </tr>\n",
       "    <tr>\n",
       "      <th>5</th>\n",
       "      <td>0.974295</td>\n",
       "      <td>0.970314</td>\n",
       "      <td>0.956642</td>\n",
       "      <td>0.949421</td>\n",
       "      <td>0.942713</td>\n",
       "      <td>0.940510</td>\n",
       "      <td>0.933652</td>\n",
       "      <td>0.932367</td>\n",
       "      <td>0.932067</td>\n",
       "      <td>0.932067</td>\n",
       "      <td>0.980337</td>\n",
       "    </tr>\n",
       "    <tr>\n",
       "      <th>6</th>\n",
       "      <td>0.964714</td>\n",
       "      <td>0.960836</td>\n",
       "      <td>0.945395</td>\n",
       "      <td>0.935605</td>\n",
       "      <td>0.929008</td>\n",
       "      <td>0.924838</td>\n",
       "      <td>0.919520</td>\n",
       "      <td>0.920222</td>\n",
       "      <td>0.919011</td>\n",
       "      <td>0.919011</td>\n",
       "      <td>0.972469</td>\n",
       "    </tr>\n",
       "  </tbody>\n",
       "</table>\n",
       "</div>"
      ],
      "text/plain": [
       "   1.000001      1.02      1.04      1.06      1.08       1.1       1.2  \\\n",
       "0  0.986003  0.988443  0.974994  0.964147  0.959278  0.954520  0.946909   \n",
       "1  0.981202  0.977786  0.966781  0.956636  0.952887  0.946824  0.940596   \n",
       "2  0.968845  0.964028  0.953069  0.944760  0.940427  0.936754  0.932017   \n",
       "3  0.980041  0.975134  0.965112  0.954822  0.949251  0.944199  0.938802   \n",
       "4  0.977663  0.973755  0.960132  0.952320  0.947849  0.943259  0.935685   \n",
       "5  0.974295  0.970314  0.956642  0.949421  0.942713  0.940510  0.933652   \n",
       "6  0.964714  0.960836  0.945395  0.935605  0.929008  0.924838  0.919520   \n",
       "\n",
       "        1.3       1.4       1.5       saa  \n",
       "0  0.948544  0.948271  0.948271  0.990872  \n",
       "1  0.940430  0.942421  0.942421  0.986835  \n",
       "2  0.931256  0.932599  0.932599  0.976355  \n",
       "3  0.939644  0.938436  0.938436  0.987396  \n",
       "4  0.936523  0.938494  0.938450  0.985136  \n",
       "5  0.932367  0.932067  0.932067  0.980337  \n",
       "6  0.920222  0.919011  0.919011  0.972469  "
      ]
     },
     "execution_count": 9,
     "metadata": {},
     "output_type": "execute_result"
    }
   ],
   "source": [
    "df_pt"
   ]
  },
  {
   "cell_type": "code",
   "execution_count": 10,
   "metadata": {},
   "outputs": [],
   "source": [
    "pd.DataFrame(df_avg).to_csv(file_path +'df_avg.csv')\n",
    "pd.DataFrame(df_pt).to_csv(file_path +'df_pt.csv')"
   ]
  }
 ],
 "metadata": {
  "kernelspec": {
   "display_name": "Python 3.9.12 ('base')",
   "language": "python",
   "name": "python3"
  },
  "language_info": {
   "codemirror_mode": {
    "name": "ipython",
    "version": 3
   },
   "file_extension": ".py",
   "mimetype": "text/x-python",
   "name": "python",
   "nbconvert_exporter": "python",
   "pygments_lexer": "ipython3",
   "version": "3.9.12"
  },
  "orig_nbformat": 4,
  "vscode": {
   "interpreter": {
    "hash": "83a361396a8213a7c7e4081f0d2088f49b4024e9d82ab830ddb1e8614255e914"
   }
  }
 },
 "nbformat": 4,
 "nbformat_minor": 2
}
