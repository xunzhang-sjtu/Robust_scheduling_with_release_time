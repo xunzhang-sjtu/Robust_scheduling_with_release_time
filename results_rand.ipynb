{
 "cells": [
  {
   "cell_type": "code",
   "execution_count": 1,
   "metadata": {},
   "outputs": [],
   "source": [
    "import os\n",
    "import pandas as pd\n",
    "import numpy as np\n",
    "import pathlib\n",
    "import pickle\n",
    "import copy\n",
    "import matplotlib.pyplot as plt\n",
    "project_path ='D:/IJPR/rand/c_impact_2/'"
   ]
  },
  {
   "cell_type": "markdown",
   "metadata": {},
   "source": [
    "# effect of num of jobs"
   ]
  },
  {
   "cell_type": "code",
   "execution_count": null,
   "metadata": {},
   "outputs": [],
   "source": [
    "n = 10 # num of jobs\n",
    "delta_mu = 4 # control lb of mean processing time\n",
    "delta_r = 0.05 # control ub of the release time\n",
    "delta_ep = 1.5 # control the upper bound of the mad\n",
    "S_train = 30\n",
    "iterations = 10\n",
    "delta_mad_r = 0.3"
   ]
  },
  {
   "cell_type": "code",
   "execution_count": null,
   "metadata": {},
   "outputs": [],
   "source": [
    "it = 0\n",
    "ins = 0\n",
    "Seed = 0\n",
    "full_path = project_path + '/data/seed='+str(Seed)+'/ins='+str(ins) + '/it='+str(it)+'/S_train='+str(S_train)+'/n='+str(n)+'delta_mu='+str(delta_mu)+'delta_r='+str(delta_r)+'delta_ep='+str(delta_ep)+'delta_mad_r='+str(delta_mad_r)\n",
    "tft_df = pd.read_csv(full_path+'tft.csv')"
   ]
  },
  {
   "cell_type": "code",
   "execution_count": null,
   "metadata": {},
   "outputs": [],
   "source": [
    "c_set = np.arange(0,1,0.05)"
   ]
  },
  {
   "cell_type": "code",
   "execution_count": null,
   "metadata": {},
   "outputs": [],
   "source": [
    "[S,N_c] = tft_df.shape"
   ]
  },
  {
   "cell_type": "code",
   "execution_count": null,
   "metadata": {},
   "outputs": [],
   "source": [
    "mean0 = (tft_df.mean(axis = 0).values)[1:N_c]"
   ]
  },
  {
   "cell_type": "code",
   "execution_count": null,
   "metadata": {},
   "outputs": [],
   "source": [
    "tft_avg_all = pd.DataFrame()\n",
    "tft_quan75_all = pd.DataFrame()\n",
    "tft_quan95_all = pd.DataFrame()\n",
    "for ins in range(10):\n",
    "    Seed = ins\n",
    "    tft_avg = np.ones((iterations,len(mean0)))\n",
    "    tft_quan75 = np.ones((iterations,len(mean0)))\n",
    "    tft_quan95 = np.ones((iterations,len(mean0)))\n",
    "    for it in range(iterations):\n",
    "        full_path = project_path + '/data/seed='+str(Seed)+'/ins='+str(ins) +'/it='+str(it)+'/S_train='+str(S_train)+'/n='+str(n)+'delta_mu='+str(delta_mu)+'delta_r='+str(delta_r)+'delta_ep='+str(delta_ep)+'delta_mad_r='+str(delta_mad_r)\n",
    "        # print(full_path)\n",
    "        tft_df = pd.read_csv(full_path+'tft.csv')\n",
    "        tft_avg[it,:] = (tft_df.mean(axis = 0).values)[1:N_c]\n",
    "        tft_quan75[it,:] = (tft_df.quantile(axis = 0,q=0.75).values)[1:N_c]\n",
    "        tft_quan95[it,:] = (tft_df.quantile(axis = 0,q=0.95).values)[1:N_c]\n",
    "    tft_avg_all['ins='+str(ins)] = np.mean(tft_avg,axis = 0)\n",
    "    tft_quan75_all['ins='+str(ins)] = np.mean(tft_quan75,axis = 0)\n",
    "    tft_quan95_all['ins='+str(ins)] = np.mean(tft_quan95,axis = 0)"
   ]
  },
  {
   "cell_type": "code",
   "execution_count": null,
   "metadata": {},
   "outputs": [],
   "source": [
    "tft_avg_all.to_csv(project_path + '/data/tft_avg_all.csv')\n",
    "tft_quan75_all.to_csv(project_path + '/data/tft_quan75_all.csv')\n",
    "tft_quan95_all.to_csv(project_path + '/data/tft_quan95_all.csv')"
   ]
  },
  {
   "cell_type": "code",
   "execution_count": null,
   "metadata": {},
   "outputs": [],
   "source": [
    "tft_avg_all"
   ]
  },
  {
   "cell_type": "code",
   "execution_count": null,
   "metadata": {},
   "outputs": [],
   "source": [
    "tft_avg_ratio_all = copy.deepcopy(tft_avg_all)\n",
    "tft_quan75_ratio_all = copy.deepcopy(tft_quan75_all)\n",
    "tft_quan95_ratio_all = copy.deepcopy(tft_quan95_all)\n",
    "for i in range(22):\n",
    "    tft_avg_ratio_all.iloc[i] = tft_avg_all.iloc[i]/tft_avg_all.iloc[0]\n",
    "    tft_quan75_ratio_all.iloc[i] = tft_quan75_all.iloc[i]/tft_quan75_all.iloc[0]\n",
    "    tft_quan95_ratio_all.iloc[i] = tft_quan95_all.iloc[i]/tft_quan95_all.iloc[0]"
   ]
  },
  {
   "cell_type": "code",
   "execution_count": null,
   "metadata": {},
   "outputs": [],
   "source": [
    "tft_avg_ratio_all.to_csv(project_path + '/data/tft_avg_ratio_all.csv')\n",
    "tft_quan75_ratio_all.to_csv(project_path + '/data/tft_quan75_ratio_all.csv')\n",
    "tft_quan95_ratio_all.to_csv(project_path + '/data/tft_quan95_ratio_all.csv')"
   ]
  },
  {
   "attachments": {},
   "cell_type": "markdown",
   "metadata": {},
   "source": [
    "# impact of $\\delta_{\\epsilon}$"
   ]
  },
  {
   "cell_type": "code",
   "execution_count": null,
   "metadata": {},
   "outputs": [],
   "source": [
    "tft_avg_all = pd.DataFrame()\n",
    "tft_quan75_all = pd.DataFrame()\n",
    "tft_quan95_all = pd.DataFrame()\n",
    "delta_ep_all = [1.5,2,2.5]\n",
    "ins = 0\n",
    "for delta_ep in delta_ep_all:\n",
    "    Seed = ins\n",
    "    tft_avg = np.ones((iterations,len(mean0)))\n",
    "    tft_quan75 = np.ones((iterations,len(mean0)))\n",
    "    tft_quan95 = np.ones((iterations,len(mean0)))\n",
    "    for it in range(iterations):\n",
    "        full_path = project_path + '/delta_ep/data/seed='+str(Seed)+'/ins='+str(ins) +'/it='+str(it)+'/S_train='+str(S_train)+'/n='+str(n)+'delta_mu='+str(delta_mu)+'delta_r='+str(delta_r)+'delta_ep='+str(delta_ep)+'delta_mad_r='+str(delta_mad_r)\n",
    "        tft_df = pd.read_csv(full_path+'tft.csv')\n",
    "        tft_avg[it,:] = (tft_df.mean(axis = 0).values)[1:N_c]\n",
    "        tft_quan75[it,:] = (tft_df.quantile(axis = 0,q=0.75).values)[1:N_c]\n",
    "        tft_quan95[it,:] = (tft_df.quantile(axis = 0,q=0.95).values)[1:N_c]\n",
    "    tft_avg_all['delta_ep='+str(delta_ep)] = np.mean(tft_avg,axis = 0)\n",
    "    tft_quan75_all['delta_ep='+str(delta_ep)] = np.mean(tft_quan75,axis = 0)\n",
    "    tft_quan95_all['delta_ep='+str(delta_ep)] = np.mean(tft_quan95,axis = 0)"
   ]
  },
  {
   "cell_type": "code",
   "execution_count": null,
   "metadata": {},
   "outputs": [],
   "source": [
    "tft_avg_all.to_csv(project_path + '/delta_ep/data/tft_avg_all.csv')\n",
    "tft_quan75_all.to_csv(project_path + '/delta_ep/data/tft_quan75_all.csv')\n",
    "tft_quan95_all.to_csv(project_path + '/delta_ep/data/tft_quan95_all.csv')"
   ]
  },
  {
   "cell_type": "code",
   "execution_count": null,
   "metadata": {},
   "outputs": [],
   "source": [
    "tft_avg_ratio_all = copy.deepcopy(tft_avg_all)\n",
    "tft_quan75_ratio_all = copy.deepcopy(tft_quan75_all)\n",
    "tft_quan95_ratio_all = copy.deepcopy(tft_quan95_all)\n",
    "for i in range(27):\n",
    "    tft_avg_ratio_all.iloc[i] = tft_avg_all.iloc[i]/tft_avg_all.iloc[0]\n",
    "    tft_quan75_ratio_all.iloc[i] = tft_quan75_all.iloc[i]/tft_quan75_all.iloc[0]\n",
    "    tft_quan95_ratio_all.iloc[i] = tft_quan95_all.iloc[i]/tft_quan95_all.iloc[0]"
   ]
  },
  {
   "cell_type": "code",
   "execution_count": null,
   "metadata": {},
   "outputs": [],
   "source": [
    "tft_avg_ratio_all.to_csv(project_path + '/delta_ep/data/tft_avg_ratio_all.csv')\n",
    "tft_quan75_ratio_all.to_csv(project_path + '/delta_ep/data/tft_quan75_ratio_all.csv')\n",
    "tft_quan95_ratio_all.to_csv(project_path + '/delta_ep/data/tft_quan95_ratio_all.csv')"
   ]
  },
  {
   "attachments": {},
   "cell_type": "markdown",
   "metadata": {},
   "source": [
    "# Effect of r mad"
   ]
  },
  {
   "cell_type": "code",
   "execution_count": null,
   "metadata": {},
   "outputs": [],
   "source": [
    "project_path = 'D:/IJPR/rand/mad_r_2/'\n",
    "Seed = 0\n",
    "it = 0\n",
    "ins = 0\n",
    "full_path = project_path + '/data/seed='+str(Seed)+'/ins='+str(ins) + '/it='+str(it)+'/S_train='+str(S_train)+'/n='+str(n)+'delta_mu='+str(delta_mu)+'delta_r='+str(delta_r)+'delta_ep='+str(delta_ep)+'delta_mad_r=0.3'\n",
    "tft_df = pd.read_csv(full_path+'tft.csv')\n"
   ]
  },
  {
   "cell_type": "code",
   "execution_count": null,
   "metadata": {},
   "outputs": [],
   "source": [
    "tft_df"
   ]
  },
  {
   "cell_type": "code",
   "execution_count": null,
   "metadata": {},
   "outputs": [],
   "source": [
    "[N_s,N_c] = np.shape(tft_df.values)\n",
    "tft_df.columns\n",
    "col_names = ['det', 'saa', 'wass_488.14498736448166']"
   ]
  },
  {
   "cell_type": "code",
   "execution_count": null,
   "metadata": {},
   "outputs": [],
   "source": [
    "n_all = [10,15,20]\n",
    "df_final = {}\n",
    "for n in n_all:\n",
    "    ins = 0\n",
    "    Seed = 0\n",
    "    df_set = {}\n",
    "    delta_all = [1.5,2,2.5]\n",
    "    for delta in delta_all:\n",
    "        it = 0\n",
    "        full_path = project_path + '/data/seed='+str(Seed)+'/ins='+str(ins) + '/it='+str(it)+'/S_train='+str(S_train)+'/n='+str(n)+'delta_mu='+str(delta_mu)+'delta_r='+str(delta_r)+'delta_ep='+str(delta_ep)+'delta_mad_r=0.3'\n",
    "        tft_df = pd.read_csv(full_path+'tft.csv')\n",
    "        df = pd.DataFrame(np.zeros((N_s * 3,3)))\n",
    "        col_vector = tft_df.columns.values\n",
    "        col_names = ['DET', 'SAA','W=0.5']\n",
    "        col_vector = ['det', 'saa', col_vector[3]]\n",
    "        df.columns = ['tft','appro','delta']\n",
    "        for i in range(3):\n",
    "            df['tft'][i*N_s:(i+1)*N_s] = tft_df[col_vector[i]]\n",
    "            df['appro'][i*N_s:(i+1)*N_s] = np.asarray([col_names[i] for ind in range(N_s)])\n",
    "            df['delta'][i*N_s:(i+1)*N_s] = np.ones(N_s)*delta\n",
    "        df_set[delta] = copy.deepcopy(df)\n",
    "    df_final[n] = pd.concat([df_set[delta] for delta in delta_all])\n"
   ]
  },
  {
   "cell_type": "code",
   "execution_count": null,
   "metadata": {},
   "outputs": [],
   "source": [
    "import seaborn as sns\n",
    "def plot_group_box(df_final,n_all,fixed_name):\n",
    "    \n",
    "    # Plot grouped box plot\n",
    "    font_size = 16\n",
    "    tick_size = 12\n",
    "    line_width = 1\n",
    "    my_pal = { \"DET\":\"m\",\"SAA\": \"b\", \"W=0.5\": \"r\"}\n",
    "    # my_pal = { \"Forest\":\"m\",\"RobustTreeAffine\": \"r\", \"RobustStatic\": \"b\"}\n",
    "    \n",
    "    num_n = len(n_all)\n",
    "    fig,ax = plt.subplots(1,num_n,figsize=(12, 8))\n",
    "    for i in range(num_n):\n",
    "        graphic = sns.boxplot(x=fixed_name, y='tft',hue = 'appro', data=df_final[n_all[i]],palette=my_pal,\\\n",
    "                                width = 0.75,showmeans = True,meanline = True, \\\n",
    "                                meanprops = {'linestyle':'--','color':'gold','linewidth':line_width},\\\n",
    "                                showfliers = False,\\\n",
    "                                medianprops = {'linestyle':'-','color':'k','linewidth':line_width},\n",
    "                                linewidth = line_width,ax=ax[i])\n",
    "        graphic.set_xlabel(r'$\\delta_{\\sigma}^{r}$',fontsize = font_size)\n",
    "        graphic.xaxis.set_tick_params(labelsize=tick_size)\n",
    "        if i == 0:\n",
    "            graphic.set_ylabel('Total completion time',fontsize = font_size+2)\n",
    "        else:\n",
    "            graphic.set_ylabel('')\n",
    "        graphic.yaxis.set_tick_params(labelsize=tick_size)\n",
    "        graphic.set_title('n='+str(n_all[i]))\n",
    "        # graphic.set_yscale('log')\n",
    "        sns.color_palette('pastel')\n",
    "        if i == 0:\n",
    "            graphic.legend([])\n",
    "        else:\n",
    "            # graphic.legend(n_cols = 2)\n",
    "            graphic.legend(loc=7,fontsize = font_size, bbox_to_anchor=(1.4,0.5),borderaxespad = 0.)\n",
    "    plt.subplots_adjust(hspace=0.2,wspace=0.3)\n",
    "    plt.savefig('impact_mad_r.pdf')\n",
    "    plt.show()\n"
   ]
  },
  {
   "cell_type": "code",
   "execution_count": null,
   "metadata": {},
   "outputs": [],
   "source": [
    "n_all = [10,20]\n",
    "plot_group_box(df_final,n_all,'delta')"
   ]
  },
  {
   "attachments": {},
   "cell_type": "markdown",
   "metadata": {},
   "source": [
    "# effect of mad p"
   ]
  },
  {
   "cell_type": "code",
   "execution_count": 3,
   "metadata": {},
   "outputs": [],
   "source": [
    "n = 10 # num of jobs\n",
    "delta_mu = 4 # control lb of mean processing time\n",
    "delta_r = 0.05 # control ub of the release time\n",
    "delta_ep = 1.5 # control the upper bound of the mad\n",
    "S_train = 30\n",
    "S_test = 10000\n",
    "quan_low = 0.1\n",
    "quan_bar = 0.9         \n",
    "\n",
    "delta_mad_r = 0.3"
   ]
  },
  {
   "cell_type": "code",
   "execution_count": 4,
   "metadata": {},
   "outputs": [],
   "source": [
    "project_path = 'D:/IJPR/rand/mad_p_2/'\n",
    "Seed = 0\n",
    "it = 0\n",
    "ins = 0\n",
    "full_path = project_path + '/data/seed='+str(Seed)+'/ins='+str(ins) + '/it='+str(it)+'/S_train='+str(S_train)+'/n='+str(n)+'delta_mu='+str(delta_mu)+'delta_r='+str(delta_r)+'delta_ep='+str(delta_ep)+'delta_mad_r=0.3'\n",
    "tft_df = pd.read_csv(full_path+'tft.csv')\n"
   ]
  },
  {
   "cell_type": "code",
   "execution_count": 6,
   "metadata": {},
   "outputs": [
    {
     "data": {
      "text/plain": [
       "Index(['Unnamed: 0', 'det', 'saa', 'wass_811.0590717990444'], dtype='object')"
      ]
     },
     "execution_count": 6,
     "metadata": {},
     "output_type": "execute_result"
    }
   ],
   "source": [
    "[N_s,N_c] = np.shape(tft_df.values)\n",
    "tft_df.columns"
   ]
  },
  {
   "cell_type": "code",
   "execution_count": 7,
   "metadata": {},
   "outputs": [
    {
     "name": "stderr",
     "output_type": "stream",
     "text": [
      "C:\\Users\\xunzhang\\AppData\\Local\\Temp\\ipykernel_4120\\2073828279.py:20: SettingWithCopyWarning: \n",
      "A value is trying to be set on a copy of a slice from a DataFrame\n",
      "\n",
      "See the caveats in the documentation: https://pandas.pydata.org/pandas-docs/stable/user_guide/indexing.html#returning-a-view-versus-a-copy\n",
      "  df['delta'][i*N_s:(i+1)*N_s] = np.ones(N_s)*delta\n",
      "C:\\Users\\xunzhang\\AppData\\Local\\Temp\\ipykernel_4120\\2073828279.py:18: SettingWithCopyWarning: \n",
      "A value is trying to be set on a copy of a slice from a DataFrame\n",
      "\n",
      "See the caveats in the documentation: https://pandas.pydata.org/pandas-docs/stable/user_guide/indexing.html#returning-a-view-versus-a-copy\n",
      "  df['tft'][i*N_s:(i+1)*N_s] = tft_df[col_vector[i]]\n",
      "C:\\Users\\xunzhang\\AppData\\Local\\Temp\\ipykernel_4120\\2073828279.py:20: SettingWithCopyWarning: \n",
      "A value is trying to be set on a copy of a slice from a DataFrame\n",
      "\n",
      "See the caveats in the documentation: https://pandas.pydata.org/pandas-docs/stable/user_guide/indexing.html#returning-a-view-versus-a-copy\n",
      "  df['delta'][i*N_s:(i+1)*N_s] = np.ones(N_s)*delta\n",
      "C:\\Users\\xunzhang\\AppData\\Local\\Temp\\ipykernel_4120\\2073828279.py:18: SettingWithCopyWarning: \n",
      "A value is trying to be set on a copy of a slice from a DataFrame\n",
      "\n",
      "See the caveats in the documentation: https://pandas.pydata.org/pandas-docs/stable/user_guide/indexing.html#returning-a-view-versus-a-copy\n",
      "  df['tft'][i*N_s:(i+1)*N_s] = tft_df[col_vector[i]]\n",
      "C:\\Users\\xunzhang\\AppData\\Local\\Temp\\ipykernel_4120\\2073828279.py:20: SettingWithCopyWarning: \n",
      "A value is trying to be set on a copy of a slice from a DataFrame\n",
      "\n",
      "See the caveats in the documentation: https://pandas.pydata.org/pandas-docs/stable/user_guide/indexing.html#returning-a-view-versus-a-copy\n",
      "  df['delta'][i*N_s:(i+1)*N_s] = np.ones(N_s)*delta\n",
      "C:\\Users\\xunzhang\\AppData\\Local\\Temp\\ipykernel_4120\\2073828279.py:18: SettingWithCopyWarning: \n",
      "A value is trying to be set on a copy of a slice from a DataFrame\n",
      "\n",
      "See the caveats in the documentation: https://pandas.pydata.org/pandas-docs/stable/user_guide/indexing.html#returning-a-view-versus-a-copy\n",
      "  df['tft'][i*N_s:(i+1)*N_s] = tft_df[col_vector[i]]\n",
      "C:\\Users\\xunzhang\\AppData\\Local\\Temp\\ipykernel_4120\\2073828279.py:20: SettingWithCopyWarning: \n",
      "A value is trying to be set on a copy of a slice from a DataFrame\n",
      "\n",
      "See the caveats in the documentation: https://pandas.pydata.org/pandas-docs/stable/user_guide/indexing.html#returning-a-view-versus-a-copy\n",
      "  df['delta'][i*N_s:(i+1)*N_s] = np.ones(N_s)*delta\n",
      "C:\\Users\\xunzhang\\AppData\\Local\\Temp\\ipykernel_4120\\2073828279.py:18: SettingWithCopyWarning: \n",
      "A value is trying to be set on a copy of a slice from a DataFrame\n",
      "\n",
      "See the caveats in the documentation: https://pandas.pydata.org/pandas-docs/stable/user_guide/indexing.html#returning-a-view-versus-a-copy\n",
      "  df['tft'][i*N_s:(i+1)*N_s] = tft_df[col_vector[i]]\n",
      "C:\\Users\\xunzhang\\AppData\\Local\\Temp\\ipykernel_4120\\2073828279.py:20: SettingWithCopyWarning: \n",
      "A value is trying to be set on a copy of a slice from a DataFrame\n",
      "\n",
      "See the caveats in the documentation: https://pandas.pydata.org/pandas-docs/stable/user_guide/indexing.html#returning-a-view-versus-a-copy\n",
      "  df['delta'][i*N_s:(i+1)*N_s] = np.ones(N_s)*delta\n",
      "C:\\Users\\xunzhang\\AppData\\Local\\Temp\\ipykernel_4120\\2073828279.py:18: SettingWithCopyWarning: \n",
      "A value is trying to be set on a copy of a slice from a DataFrame\n",
      "\n",
      "See the caveats in the documentation: https://pandas.pydata.org/pandas-docs/stable/user_guide/indexing.html#returning-a-view-versus-a-copy\n",
      "  df['tft'][i*N_s:(i+1)*N_s] = tft_df[col_vector[i]]\n",
      "C:\\Users\\xunzhang\\AppData\\Local\\Temp\\ipykernel_4120\\2073828279.py:20: SettingWithCopyWarning: \n",
      "A value is trying to be set on a copy of a slice from a DataFrame\n",
      "\n",
      "See the caveats in the documentation: https://pandas.pydata.org/pandas-docs/stable/user_guide/indexing.html#returning-a-view-versus-a-copy\n",
      "  df['delta'][i*N_s:(i+1)*N_s] = np.ones(N_s)*delta\n",
      "C:\\Users\\xunzhang\\AppData\\Local\\Temp\\ipykernel_4120\\2073828279.py:18: SettingWithCopyWarning: \n",
      "A value is trying to be set on a copy of a slice from a DataFrame\n",
      "\n",
      "See the caveats in the documentation: https://pandas.pydata.org/pandas-docs/stable/user_guide/indexing.html#returning-a-view-versus-a-copy\n",
      "  df['tft'][i*N_s:(i+1)*N_s] = tft_df[col_vector[i]]\n",
      "C:\\Users\\xunzhang\\AppData\\Local\\Temp\\ipykernel_4120\\2073828279.py:20: SettingWithCopyWarning: \n",
      "A value is trying to be set on a copy of a slice from a DataFrame\n",
      "\n",
      "See the caveats in the documentation: https://pandas.pydata.org/pandas-docs/stable/user_guide/indexing.html#returning-a-view-versus-a-copy\n",
      "  df['delta'][i*N_s:(i+1)*N_s] = np.ones(N_s)*delta\n",
      "C:\\Users\\xunzhang\\AppData\\Local\\Temp\\ipykernel_4120\\2073828279.py:18: SettingWithCopyWarning: \n",
      "A value is trying to be set on a copy of a slice from a DataFrame\n",
      "\n",
      "See the caveats in the documentation: https://pandas.pydata.org/pandas-docs/stable/user_guide/indexing.html#returning-a-view-versus-a-copy\n",
      "  df['tft'][i*N_s:(i+1)*N_s] = tft_df[col_vector[i]]\n",
      "C:\\Users\\xunzhang\\AppData\\Local\\Temp\\ipykernel_4120\\2073828279.py:20: SettingWithCopyWarning: \n",
      "A value is trying to be set on a copy of a slice from a DataFrame\n",
      "\n",
      "See the caveats in the documentation: https://pandas.pydata.org/pandas-docs/stable/user_guide/indexing.html#returning-a-view-versus-a-copy\n",
      "  df['delta'][i*N_s:(i+1)*N_s] = np.ones(N_s)*delta\n",
      "C:\\Users\\xunzhang\\AppData\\Local\\Temp\\ipykernel_4120\\2073828279.py:18: SettingWithCopyWarning: \n",
      "A value is trying to be set on a copy of a slice from a DataFrame\n",
      "\n",
      "See the caveats in the documentation: https://pandas.pydata.org/pandas-docs/stable/user_guide/indexing.html#returning-a-view-versus-a-copy\n",
      "  df['tft'][i*N_s:(i+1)*N_s] = tft_df[col_vector[i]]\n",
      "C:\\Users\\xunzhang\\AppData\\Local\\Temp\\ipykernel_4120\\2073828279.py:20: SettingWithCopyWarning: \n",
      "A value is trying to be set on a copy of a slice from a DataFrame\n",
      "\n",
      "See the caveats in the documentation: https://pandas.pydata.org/pandas-docs/stable/user_guide/indexing.html#returning-a-view-versus-a-copy\n",
      "  df['delta'][i*N_s:(i+1)*N_s] = np.ones(N_s)*delta\n",
      "C:\\Users\\xunzhang\\AppData\\Local\\Temp\\ipykernel_4120\\2073828279.py:18: SettingWithCopyWarning: \n",
      "A value is trying to be set on a copy of a slice from a DataFrame\n",
      "\n",
      "See the caveats in the documentation: https://pandas.pydata.org/pandas-docs/stable/user_guide/indexing.html#returning-a-view-versus-a-copy\n",
      "  df['tft'][i*N_s:(i+1)*N_s] = tft_df[col_vector[i]]\n"
     ]
    }
   ],
   "source": [
    "n_all = [10,15,20]\n",
    "df_final = {}\n",
    "for n in n_all:\n",
    "    ins = 0\n",
    "    Seed = 0\n",
    "    df_set = {}\n",
    "    delta_all = [1.5,2,2.5]\n",
    "    for delta in delta_all:\n",
    "        it = 0\n",
    "        full_path = project_path + '/data/seed='+str(Seed)+'/ins='+str(ins) + '/it='+str(it)+'/S_train='+str(S_train)+'/n='+str(n)+'delta_mu='+str(delta_mu)+'delta_r='+str(delta_r)+'delta_ep='+str(delta_ep)+'delta_mad_r=0.3'\n",
    "        tft_df = pd.read_csv(full_path+'tft.csv')\n",
    "        df = pd.DataFrame(np.zeros((N_s * 3,3)))\n",
    "        col_vector = tft_df.columns.values\n",
    "        col_names = ['DET', 'SAA','W=0.5']\n",
    "        col_vector = ['det', 'saa', col_vector[3]]\n",
    "        df.columns = ['tft','appro','delta']\n",
    "        for i in range(3):\n",
    "            df['tft'][i*N_s:(i+1)*N_s] = tft_df[col_vector[i]]\n",
    "            df['appro'][i*N_s:(i+1)*N_s] = np.asarray([col_names[i] for ind in range(N_s)])\n",
    "            df['delta'][i*N_s:(i+1)*N_s] = np.ones(N_s)*delta\n",
    "        df_set[delta] = copy.deepcopy(df)\n",
    "    df_final[n] = pd.concat([df_set[delta] for delta in delta_all])\n"
   ]
  },
  {
   "cell_type": "code",
   "execution_count": null,
   "metadata": {},
   "outputs": [],
   "source": [
    "n_all = [10,20]\n",
    "plot_group_box(df_final,n_all,'delta')"
   ]
  }
 ],
 "metadata": {
  "kernelspec": {
   "display_name": "base",
   "language": "python",
   "name": "python3"
  },
  "language_info": {
   "codemirror_mode": {
    "name": "ipython",
    "version": 3
   },
   "file_extension": ".py",
   "mimetype": "text/x-python",
   "name": "python",
   "nbconvert_exporter": "python",
   "pygments_lexer": "ipython3",
   "version": "3.9.12"
  },
  "orig_nbformat": 4,
  "vscode": {
   "interpreter": {
    "hash": "fd16a1c2e981052eaae61151b9525ae9913f1f0d16bca6b7e7be9e0f29d739d2"
   }
  }
 },
 "nbformat": 4,
 "nbformat_minor": 2
}
