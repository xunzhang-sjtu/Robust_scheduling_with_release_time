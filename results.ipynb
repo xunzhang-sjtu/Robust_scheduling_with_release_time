{
 "cells": [
  {
   "cell_type": "code",
   "execution_count": 156,
   "metadata": {},
   "outputs": [],
   "source": [
    "import os\n",
    "import pandas as pd\n",
    "import numpy as np\n",
    "import pathlib\n",
    "import pickle\n",
    "import matplotlib.pyplot as plt\n",
    "import copy"
   ]
  },
  {
   "attachments": {},
   "cell_type": "markdown",
   "metadata": {},
   "source": [
    "# Parameters"
   ]
  },
  {
   "cell_type": "code",
   "execution_count": 157,
   "metadata": {},
   "outputs": [],
   "source": [
    "file_path = '/Users/zhangxun/data/robust_scheduling/det_release/Exact_VS_Affine_random_coef_RS/'\n",
    "with open(file_path + 'para_info.pkl','rb') as tf:\n",
    "    para = pickle.load(tf)\n",
    "delta_mu = para['delta_mu'] # control lb of mean processing time\n",
    "delta_r = para['delta_r'] # control ub of the release time\n",
    "delta_ep = para['delta_ep'] # control the upper bound of the mad\n",
    "S_train = para['S_train']\n",
    "S_test = para['S_test']\n",
    "iterations = para['iterations']\n",
    "instances = para['instances']\n",
    "range_c = para['range_c']"
   ]
  },
  {
   "cell_type": "code",
   "execution_count": 158,
   "metadata": {},
   "outputs": [],
   "source": [
    "def load_results(instances,project_path,file_name):\n",
    "    rst_mean = np.zeros(instances)\n",
    "    rst_75 = np.zeros(instances)\n",
    "    rst_95 = np.zeros(instances)\n",
    "    time_arr = np.zeros(instances)\n",
    "    for ins in range(instances):\n",
    "        full_path = project_path + 'ins='+str(ins)+'/' + 'iteration='+str(0)+'/'\n",
    "        # print(full_path)\n",
    "        # deterministic results\n",
    "        with open(full_path+file_name, \"rb\") as tf:\n",
    "            sol = pickle.load(tf)\n",
    "        rst_mean[ins] = np.mean(sol['out_obj'])\n",
    "        rst_75[ins] = np.quantile(sol['out_obj'],0.75)\n",
    "        rst_95[ins] = np.quantile(sol['out_obj'],0.95)\n",
    "        time_arr[ins] = sol['time']\n",
    "    rst = {}\n",
    "    rst['avg'] = rst_mean\n",
    "    rst['quan_75'] = rst_75\n",
    "    rst['quan_95'] = rst_95\n",
    "    rst['time_arr'] = time_arr\n",
    "    \n",
    "    return rst\n"
   ]
  },
  {
   "cell_type": "code",
   "execution_count": 159,
   "metadata": {},
   "outputs": [],
   "source": [
    "def load_wass_results(instances,range_c,project_path,file_name):\n",
    "    len_c = len(range_c)\n",
    "    obj_opt = np.zeros((instances,len_c))\n",
    "    avg = np.zeros((instances,len_c))\n",
    "    quan75 = np.zeros((instances,len_c))\n",
    "    quan95 = np.zeros((instances,len_c))\n",
    "    time_arr = np.zeros((instances,len_c))\n",
    "    for ins in range(instances):\n",
    "        full_path = project_path + 'ins='+str(ins)+'/' + 'iteration='+str(0)+'/'\n",
    "        # print(full_path)\n",
    "        # deterministic results\n",
    "        with open(full_path+file_name, \"rb\") as tf:\n",
    "            sol = pickle.load(tf)\n",
    "        obj_opt[ins,:] = np.asarray(sol['out_obj'].mean(axis=0))\n",
    "        avg[ins,:] = np.asarray(sol['out_obj'].mean(axis=0))\n",
    "        quan75[ins,:] = np.asarray(sol['out_obj'].quantile(axis = 0,q = 0.75))\n",
    "        quan95[ins,:] = np.asarray(sol['out_obj'].quantile(axis = 0,q = 0.95))\n",
    "        time_arr[ins,:] = sol['time']\n",
    "    rst = {}\n",
    "    rst['avg'] = avg\n",
    "    rst['quan_75'] = quan75\n",
    "    rst['quan_95'] = quan95\n",
    "    rst['time_arr'] = time_arr\n",
    "    return rst"
   ]
  },
  {
   "attachments": {},
   "cell_type": "markdown",
   "metadata": {},
   "source": [
    "# Exact VS affine"
   ]
  },
  {
   "cell_type": "code",
   "execution_count": 5,
   "metadata": {},
   "outputs": [],
   "source": [
    "def load_results_exact_vs_affine(instances,project_path,file_name):\n",
    "    rst_mean = np.zeros(instances)\n",
    "    time_arr = np.zeros(instances)\n",
    "    rst_95 = np.zeros(instances)\n",
    "    for ins in range(instances):\n",
    "        full_path = project_path + 'ins='+str(ins)+'/' + 'iteration='+str(0)+'/'\n",
    "        # print(full_path)\n",
    "        # deterministic results\n",
    "        with open(full_path+file_name, \"rb\") as tf:\n",
    "            sol = pickle.load(tf)\n",
    "        rst_mean[ins] = np.mean(sol['out_obj'][0].to_list())\n",
    "        rst_95[ins] = np.quantile(sol['out_obj'][0].to_list(),0.95)\n",
    "        time_arr[ins] = sol['time'][0]\n",
    "    rst = {}\n",
    "    rst['avg'] = rst_mean\n",
    "    rst['time_arr'] = time_arr\n",
    "    rst['quan_95'] = rst_95\n",
    "    \n",
    "    return rst"
   ]
  },
  {
   "cell_type": "code",
   "execution_count": 6,
   "metadata": {},
   "outputs": [
    {
     "name": "stdout",
     "output_type": "stream",
     "text": [
      "-------------------------------------\n",
      "Avg ratio =  2578.4873977630555\n",
      "Quan95 ratio =  1.0046403687452066\n",
      "Affine time =  0.3588093280792236 Exact time =  2.013851451873779\n",
      "-------------------------------------\n",
      "Avg ratio =  9969.681389105064\n",
      "Quan95 ratio =  1.0083034899693561\n",
      "Affine time =  8.677361631393433 Exact time =  51.14936952590942\n",
      "-------------------------------------\n",
      "Avg ratio =  20990.437257972742\n",
      "Quan95 ratio =  1.0042140816764389\n",
      "Affine time =  19.476830077171325 Exact time =  939.6889861106872\n"
     ]
    }
   ],
   "source": [
    "file_path = '/Users/zhangxun/data/robust_scheduling/det_release/exact_vs_appro_sample_RS/'\n",
    "N_all = [10,20,30]\n",
    "instances = 10\n",
    "avg_affine = np.zeros(len(N_all))\n",
    "quan95_affine = np.zeros(len(N_all))\n",
    "time_affine = np.zeros(len(N_all))\n",
    "\n",
    "avg_exact = np.zeros(len(N_all))\n",
    "quan95_exact = np.zeros(len(N_all))\n",
    "time_exact = np.zeros(len(N_all))\n",
    "for i in range(len(N_all)):\n",
    "    n = N_all[i]\n",
    "    file_path1 = file_path + 'n='+str(n) + '/'\n",
    "    rst_exact = load_results_exact_vs_affine(instances,file_path1,'sol_wass_exact.pkl')\n",
    "    rst_affine = load_results_exact_vs_affine(instances,file_path1,'sol_wass_vns.pkl')\n",
    "    rst_det = load_results(instances,file_path1,'sol_det.pkl')\n",
    "\n",
    "    avg_affine[i] = np.mean(rst_affine['avg'])\n",
    "    quan95_affine[i] = np.mean(rst_affine['quan_95'])\n",
    "    time_affine[i] = np.mean(rst_affine['time_arr'])\n",
    "\n",
    "    avg_exact[i] = np.mean(rst_exact['avg'])\n",
    "    quan95_exact[i] = np.mean(rst_exact['quan_95'])\n",
    "    time_exact[i] = np.mean(rst_exact['time_arr'])\n",
    "\n",
    "    print('-------------------------------------')\n",
    "    print('Avg ratio = ',avg_affine[i])\n",
    "    print('Quan95 ratio = ',quan95_affine[i]/quan95_exact[i])\n",
    "    print('Affine time = ',time_affine[i],'Exact time = ',time_exact[i])\n",
    "\n"
   ]
  },
  {
   "cell_type": "code",
   "execution_count": 42,
   "metadata": {},
   "outputs": [
    {
     "data": {
      "text/plain": [
       "{'avg': array([2423.57753303, 2508.01746387, 2922.1883839 , 2548.50735837,\n",
       "        2444.52911259, 2459.95665132, 2636.41149311, 2459.71328132,\n",
       "        2509.08202194, 2855.24869356, 2646.23933775, 2454.41342805,\n",
       "        2515.44081986, 2672.71433204, 2632.35896592, 2617.38977249,\n",
       "        2538.16101551, 2453.65810555, 2651.28719551, 2397.61503571]),\n",
       " 'time_arr': array([0.74744797, 1.17206311, 1.39673901, 2.7386241 , 2.89029336,\n",
       "        2.03374314, 1.64125681, 2.23929286, 3.45966411, 1.81939006,\n",
       "        1.19948816, 2.03764582, 1.78032184, 2.61167502, 3.17206097,\n",
       "        3.19359779, 2.13585401, 2.93266797, 3.01292181, 1.91282892]),\n",
       " 'quan_95': array([2607.56149228, 2978.09549843, 4055.93415771, 3495.93077466,\n",
       "        3027.4998243 , 3219.30017967, 3520.40874926, 3171.15295358,\n",
       "        2813.03692623, 4005.9775354 , 3340.06258094, 3002.61394978,\n",
       "        2903.17366569, 3678.08681635, 3168.40901966, 3522.36837299,\n",
       "        3256.05637269, 2790.54100182, 3711.20573924, 2830.53143873])}"
      ]
     },
     "execution_count": 42,
     "metadata": {},
     "output_type": "execute_result"
    }
   ],
   "source": [
    "rst_exact"
   ]
  },
  {
   "cell_type": "code",
   "execution_count": 43,
   "metadata": {},
   "outputs": [
    {
     "data": {
      "text/plain": [
       "{'avg': array([2426.8336572 , 2511.65306138, 2899.91142074, 2569.36339327,\n",
       "        2444.52911259, 2458.49281605, 2636.41149311, 2459.71328132,\n",
       "        2509.08202194, 2868.88372001, 2646.23933775, 2454.81826765,\n",
       "        2518.09438451, 2672.71433204, 2543.45737648, 2613.17833714,\n",
       "        2538.16101551, 2468.8572644 , 2628.97402299, 2396.0304812 ]),\n",
       " 'time_arr': array([0.23128057, 0.2749064 , 0.40303373, 0.54138923, 0.34177876,\n",
       "        0.35396671, 0.40651917, 0.31713843, 0.30907321, 0.40900707,\n",
       "        0.3338654 , 0.45241165, 0.29383349, 0.32733536, 0.41464138,\n",
       "        0.77599669, 0.41860104, 0.27147603, 0.66574502, 0.28401828]),\n",
       " 'quan_95': array([2614.44728901, 2976.22545953, 4072.92097547, 3581.0393742 ,\n",
       "        3027.4998243 , 3189.74411665, 3520.40874926, 3171.15295358,\n",
       "        2813.03692623, 4081.06688026, 3340.06258094, 3063.83559754,\n",
       "        2925.78797272, 3678.08681635, 3291.4175982 , 3632.53859704,\n",
       "        3256.05637269, 2803.92346581, 3751.89107619, 2802.70267256])}"
      ]
     },
     "execution_count": 43,
     "metadata": {},
     "output_type": "execute_result"
    }
   ],
   "source": [
    "rst_affine"
   ]
  },
  {
   "attachments": {},
   "cell_type": "markdown",
   "metadata": {},
   "source": [
    "# Impact of processing time variance"
   ]
  },
  {
   "cell_type": "code",
   "execution_count": 35,
   "metadata": {},
   "outputs": [],
   "source": [
    "file_path1 = file_path + 'delta_ep=0.2/' \n",
    "rst_det= load_results(instances,file_path1,'sol_det.pkl')\n",
    "rst_saa = load_results(instances,file_path1,'sol_saa.pkl')"
   ]
  },
  {
   "cell_type": "code",
   "execution_count": 37,
   "metadata": {},
   "outputs": [],
   "source": [
    "\n",
    "def obtain_results(delta_all,name,file_name):\n",
    "    rst_det = np.zeros((len(delta_all),instances))\n",
    "    rst_saa = np.zeros((len(delta_all),instances))\n",
    "    rst_mom = np.zeros((len(delta_all),instances))\n",
    "    # rst_wass_exact = {}\n",
    "    rst_wass_vns = {}\n",
    "    for i in range(len(delta_all)):\n",
    "        delta = delta_all[i]\n",
    "        # print('delta_ep=',delta_ep,'-----------------------')\n",
    "        file_path1 = file_name+str(delta) + '/'\n",
    "        rst_det[i,:] = load_results(instances,file_path1,'sol_det.pkl')[name]\n",
    "        rst_saa[i,:] = load_results(instances,file_path1,'sol_saa.pkl')[name]\n",
    "        rst_mom[i,:] = load_results(instances,file_path1,'sol_mom.pkl')[name]\n",
    "        rst_wass_vns[i] = load_wass_results(instances,range_c,file_path1,'sol_wass_exact.pkl')[name]\n",
    "    return rst_det,rst_saa,rst_mom,rst_wass_vns"
   ]
  },
  {
   "cell_type": "code",
   "execution_count": 38,
   "metadata": {},
   "outputs": [],
   "source": [
    "def obtain_avg_results(rst_det,rst_saa,rst_mom,rst_wass,delta_all):\n",
    "    rst_det_avg = np.mean(rst_det,axis = 1)\n",
    "    rst_saa_avg = np.mean(rst_saa,axis = 1)\n",
    "    rst_mom_avg = np.mean(rst_mom,axis = 1)\n",
    "\n",
    "    rst_wass_avg = np.zeros((len(delta_all),len(range_c)))\n",
    "    for i in range(len(delta_all)):\n",
    "        rst_wass_avg[i,:] = np.mean(rst_wass[i],axis = 0)/rst_det_avg[i]\n",
    "    rst = pd.DataFrame(data=rst_wass_avg,columns=range_c)\n",
    "    rst['saa'] = rst_saa_avg/rst_det_avg\n",
    "    rst['mom'] = rst_mom_avg/rst_det_avg\n",
    "    rst['det'] = rst_det_avg\n",
    "    return rst"
   ]
  },
  {
   "cell_type": "code",
   "execution_count": 39,
   "metadata": {},
   "outputs": [],
   "source": [
    "delta_ep_all = np.asarray([0.2,0.4,0.6,0.8,1.0,1.2,1.4,1.6,1.8,2.0])\n",
    "file_name = file_path + 'delta_ep=' \n",
    "rst_det,rst_saa,rst_mom,rst_wass = obtain_results(delta_ep_all,'avg',file_name)\n",
    "rst_avg = obtain_avg_results(rst_det,rst_saa,rst_mom,rst_wass,delta_ep_all)"
   ]
  },
  {
   "cell_type": "code",
   "execution_count": 40,
   "metadata": {},
   "outputs": [],
   "source": [
    "rst_det,rst_saa,rst_mom,rst_wass = obtain_results(delta_ep_all,'quan_95',file_name)\n",
    "rst_quan95 = obtain_avg_results(rst_det,rst_saa,rst_mom,rst_wass,delta_ep_all)"
   ]
  },
  {
   "cell_type": "code",
   "execution_count": 41,
   "metadata": {},
   "outputs": [],
   "source": [
    "pd.DataFrame(rst_avg).to_csv(file_path + 'avg.csv')\n",
    "pd.DataFrame(rst_quan95).to_csv(file_path + 'quan95.csv')"
   ]
  },
  {
   "cell_type": "code",
   "execution_count": 64,
   "metadata": {},
   "outputs": [
    {
     "data": {
      "image/png": "[encoded data removed]",
      "text/plain": [
       "<Figure size 720x480 with 1 Axes>"
      ]
     },
     "metadata": {},
     "output_type": "display_data"
    }
   ],
   "source": [
    "import matplotlib.pyplot as plt\n",
    "\n",
    "plt.matshow(rst_quan95.to_numpy()[:,0:15], cmap=plt.get_cmap('Greens'), alpha=0.7)  # , alpha=0.3\n",
    "plt.show()"
   ]
  },
  {
   "cell_type": "code",
   "execution_count": 58,
   "metadata": {},
   "outputs": [
    {
     "data": {
      "text/plain": [
       "(10, 22)"
      ]
     },
     "execution_count": 58,
     "metadata": {},
     "output_type": "execute_result"
    }
   ],
   "source": [
    "np.shape(rst_quan95.to_numpy())"
   ]
  },
  {
   "attachments": {},
   "cell_type": "markdown",
   "metadata": {},
   "source": [
    "# Impact of release range"
   ]
  },
  {
   "cell_type": "code",
   "execution_count": 62,
   "metadata": {},
   "outputs": [
    {
     "name": "stdout",
     "output_type": "stream",
     "text": [
      "/Users/zhangxun/data/robust_scheduling/det_release/release_range_RS/delta_r=0.05/\n"
     ]
    }
   ],
   "source": [
    "delta_r_all = np.asarray([0.05,0.1,0.15,0.2,0.25,0.3])\n",
    "n = 20\n",
    "# average performance\n",
    "name = 'avg'\n",
    "file_path1 = project_path + 'delta_r=0.05/' \n",
    "print(file_path1)\n",
    "rst_det= load_results(instances,file_path1,'sol_det.pkl')\n",
    "\n"
   ]
  },
  {
   "cell_type": "code",
   "execution_count": 67,
   "metadata": {},
   "outputs": [],
   "source": [
    "file_name = project_path + 'delta_r=' \n",
    "rst_det,rst_saa,rst_mom,rst_wass =  obtain_results(delta_r_all,'avg',file_name)\n",
    "rst_avg = obtain_avg_results(rst_det,rst_saa,rst_mom,rst_wass,delta_r_all)"
   ]
  },
  {
   "cell_type": "code",
   "execution_count": 68,
   "metadata": {},
   "outputs": [
    {
     "data": {
      "text/html": [
       "<div>\n",
       "<style scoped>\n",
       "    .dataframe tbody tr th:only-of-type {\n",
       "        vertical-align: middle;\n",
       "    }\n",
       "\n",
       "    .dataframe tbody tr th {\n",
       "        vertical-align: top;\n",
       "    }\n",
       "\n",
       "    .dataframe thead th {\n",
       "        text-align: right;\n",
       "    }\n",
       "</style>\n",
       "<table border=\"1\" class=\"dataframe\">\n",
       "  <thead>\n",
       "    <tr style=\"text-align: right;\">\n",
       "      <th></th>\n",
       "      <th>1.000001</th>\n",
       "      <th>1.01</th>\n",
       "      <th>1.02</th>\n",
       "      <th>1.03</th>\n",
       "      <th>1.04</th>\n",
       "      <th>1.05</th>\n",
       "      <th>1.06</th>\n",
       "      <th>1.08</th>\n",
       "      <th>1.1</th>\n",
       "      <th>1.12</th>\n",
       "      <th>...</th>\n",
       "      <th>1.18</th>\n",
       "      <th>1.2</th>\n",
       "      <th>1.22</th>\n",
       "      <th>1.24</th>\n",
       "      <th>1.26</th>\n",
       "      <th>1.28</th>\n",
       "      <th>1.3</th>\n",
       "      <th>saa</th>\n",
       "      <th>mom</th>\n",
       "      <th>det</th>\n",
       "    </tr>\n",
       "  </thead>\n",
       "  <tbody>\n",
       "    <tr>\n",
       "      <th>0</th>\n",
       "      <td>0.991561</td>\n",
       "      <td>0.990976</td>\n",
       "      <td>0.991130</td>\n",
       "      <td>0.991514</td>\n",
       "      <td>0.992202</td>\n",
       "      <td>0.991540</td>\n",
       "      <td>0.990997</td>\n",
       "      <td>0.989680</td>\n",
       "      <td>0.989202</td>\n",
       "      <td>0.988205</td>\n",
       "      <td>...</td>\n",
       "      <td>0.986547</td>\n",
       "      <td>0.985776</td>\n",
       "      <td>0.984977</td>\n",
       "      <td>0.984254</td>\n",
       "      <td>0.983894</td>\n",
       "      <td>0.982777</td>\n",
       "      <td>0.982903</td>\n",
       "      <td>0.993342</td>\n",
       "      <td>1.000257</td>\n",
       "      <td>10554.114585</td>\n",
       "    </tr>\n",
       "    <tr>\n",
       "      <th>1</th>\n",
       "      <td>0.987096</td>\n",
       "      <td>0.986314</td>\n",
       "      <td>0.985737</td>\n",
       "      <td>0.985805</td>\n",
       "      <td>0.985782</td>\n",
       "      <td>0.985934</td>\n",
       "      <td>0.985402</td>\n",
       "      <td>0.987146</td>\n",
       "      <td>0.986646</td>\n",
       "      <td>0.985860</td>\n",
       "      <td>...</td>\n",
       "      <td>0.984784</td>\n",
       "      <td>0.984273</td>\n",
       "      <td>0.983769</td>\n",
       "      <td>0.983021</td>\n",
       "      <td>0.983315</td>\n",
       "      <td>0.989957</td>\n",
       "      <td>0.981876</td>\n",
       "      <td>0.989437</td>\n",
       "      <td>0.995602</td>\n",
       "      <td>10415.138292</td>\n",
       "    </tr>\n",
       "    <tr>\n",
       "      <th>2</th>\n",
       "      <td>0.982242</td>\n",
       "      <td>0.983079</td>\n",
       "      <td>0.983838</td>\n",
       "      <td>0.983894</td>\n",
       "      <td>0.984344</td>\n",
       "      <td>0.985008</td>\n",
       "      <td>0.984811</td>\n",
       "      <td>0.986060</td>\n",
       "      <td>0.986482</td>\n",
       "      <td>0.986892</td>\n",
       "      <td>...</td>\n",
       "      <td>0.988070</td>\n",
       "      <td>0.987758</td>\n",
       "      <td>0.985308</td>\n",
       "      <td>0.987860</td>\n",
       "      <td>0.986306</td>\n",
       "      <td>0.988205</td>\n",
       "      <td>0.989858</td>\n",
       "      <td>0.985061</td>\n",
       "      <td>0.995450</td>\n",
       "      <td>10647.535973</td>\n",
       "    </tr>\n",
       "    <tr>\n",
       "      <th>3</th>\n",
       "      <td>0.982928</td>\n",
       "      <td>0.983547</td>\n",
       "      <td>0.984343</td>\n",
       "      <td>0.985289</td>\n",
       "      <td>0.988551</td>\n",
       "      <td>0.987728</td>\n",
       "      <td>0.989276</td>\n",
       "      <td>0.993133</td>\n",
       "      <td>0.994219</td>\n",
       "      <td>0.993903</td>\n",
       "      <td>...</td>\n",
       "      <td>0.999467</td>\n",
       "      <td>0.999025</td>\n",
       "      <td>0.998745</td>\n",
       "      <td>0.999965</td>\n",
       "      <td>1.000675</td>\n",
       "      <td>1.001349</td>\n",
       "      <td>1.001162</td>\n",
       "      <td>0.985538</td>\n",
       "      <td>0.998184</td>\n",
       "      <td>10695.868544</td>\n",
       "    </tr>\n",
       "    <tr>\n",
       "      <th>4</th>\n",
       "      <td>0.979815</td>\n",
       "      <td>0.980304</td>\n",
       "      <td>0.981102</td>\n",
       "      <td>0.981472</td>\n",
       "      <td>0.983487</td>\n",
       "      <td>0.984747</td>\n",
       "      <td>0.985460</td>\n",
       "      <td>0.988878</td>\n",
       "      <td>0.990714</td>\n",
       "      <td>0.993007</td>\n",
       "      <td>...</td>\n",
       "      <td>0.997149</td>\n",
       "      <td>0.999460</td>\n",
       "      <td>1.000905</td>\n",
       "      <td>0.999343</td>\n",
       "      <td>0.999246</td>\n",
       "      <td>0.999790</td>\n",
       "      <td>0.999286</td>\n",
       "      <td>0.982817</td>\n",
       "      <td>0.994983</td>\n",
       "      <td>10740.958977</td>\n",
       "    </tr>\n",
       "    <tr>\n",
       "      <th>5</th>\n",
       "      <td>0.977222</td>\n",
       "      <td>0.978047</td>\n",
       "      <td>0.979147</td>\n",
       "      <td>0.980340</td>\n",
       "      <td>0.981250</td>\n",
       "      <td>0.983162</td>\n",
       "      <td>0.985495</td>\n",
       "      <td>0.992265</td>\n",
       "      <td>0.992941</td>\n",
       "      <td>0.996803</td>\n",
       "      <td>...</td>\n",
       "      <td>1.000377</td>\n",
       "      <td>1.004439</td>\n",
       "      <td>1.005777</td>\n",
       "      <td>1.010536</td>\n",
       "      <td>1.007576</td>\n",
       "      <td>1.012359</td>\n",
       "      <td>1.010303</td>\n",
       "      <td>0.980445</td>\n",
       "      <td>0.990669</td>\n",
       "      <td>10843.270920</td>\n",
       "    </tr>\n",
       "  </tbody>\n",
       "</table>\n",
       "<p>6 rows × 22 columns</p>\n",
       "</div>"
      ],
      "text/plain": [
       "   1.000001      1.01      1.02      1.03      1.04      1.05      1.06  \\\n",
       "0  0.991561  0.990976  0.991130  0.991514  0.992202  0.991540  0.990997   \n",
       "1  0.987096  0.986314  0.985737  0.985805  0.985782  0.985934  0.985402   \n",
       "2  0.982242  0.983079  0.983838  0.983894  0.984344  0.985008  0.984811   \n",
       "3  0.982928  0.983547  0.984343  0.985289  0.988551  0.987728  0.989276   \n",
       "4  0.979815  0.980304  0.981102  0.981472  0.983487  0.984747  0.985460   \n",
       "5  0.977222  0.978047  0.979147  0.980340  0.981250  0.983162  0.985495   \n",
       "\n",
       "       1.08       1.1      1.12  ...      1.18       1.2      1.22      1.24  \\\n",
       "0  0.989680  0.989202  0.988205  ...  0.986547  0.985776  0.984977  0.984254   \n",
       "1  0.987146  0.986646  0.985860  ...  0.984784  0.984273  0.983769  0.983021   \n",
       "2  0.986060  0.986482  0.986892  ...  0.988070  0.987758  0.985308  0.987860   \n",
       "3  0.993133  0.994219  0.993903  ...  0.999467  0.999025  0.998745  0.999965   \n",
       "4  0.988878  0.990714  0.993007  ...  0.997149  0.999460  1.000905  0.999343   \n",
       "5  0.992265  0.992941  0.996803  ...  1.000377  1.004439  1.005777  1.010536   \n",
       "\n",
       "       1.26      1.28       1.3       saa       mom           det  \n",
       "0  0.983894  0.982777  0.982903  0.993342  1.000257  10554.114585  \n",
       "1  0.983315  0.989957  0.981876  0.989437  0.995602  10415.138292  \n",
       "2  0.986306  0.988205  0.989858  0.985061  0.995450  10647.535973  \n",
       "3  1.000675  1.001349  1.001162  0.985538  0.998184  10695.868544  \n",
       "4  0.999246  0.999790  0.999286  0.982817  0.994983  10740.958977  \n",
       "5  1.007576  1.012359  1.010303  0.980445  0.990669  10843.270920  \n",
       "\n",
       "[6 rows x 22 columns]"
      ]
     },
     "execution_count": 68,
     "metadata": {},
     "output_type": "execute_result"
    }
   ],
   "source": [
    "rst_avg"
   ]
  },
  {
   "cell_type": "code",
   "execution_count": 69,
   "metadata": {},
   "outputs": [],
   "source": [
    "rst_det,rst_saa,rst_mom,rst_wass =  obtain_results(delta_r_all,'quan_95',file_name)\n",
    "rst_quan95 = obtain_avg_results(rst_det,rst_saa,rst_mom,rst_wass,delta_r_all)"
   ]
  },
  {
   "cell_type": "code",
   "execution_count": 70,
   "metadata": {},
   "outputs": [],
   "source": [
    "pd.DataFrame(rst_avg).to_csv(project_path + 'avg.csv')\n",
    "pd.DataFrame(rst_quan95).to_csv(project_path + 'quan95.csv')"
   ]
  },
  {
   "attachments": {},
   "cell_type": "markdown",
   "metadata": {},
   "source": [
    "# impact of number of jobs"
   ]
  },
  {
   "cell_type": "code",
   "execution_count": 121,
   "metadata": {},
   "outputs": [
    {
     "name": "stdout",
     "output_type": "stream",
     "text": [
      "/Users/zhangxun/data/robust_scheduling/det_release/Exact_VS_Affine_random_coef_RS/n=10/\n"
     ]
    }
   ],
   "source": [
    "name = 'avg'\n",
    "file_path1 = file_path + 'n=10/' \n",
    "print(file_path1)\n",
    "rst_det = load_results(instances,file_path1,'sol_det.pkl')\n",
    "rst_affine =load_wass_results(instances,range_c,file_path1,'sol_wass_vns.pkl')"
   ]
  },
  {
   "cell_type": "code",
   "execution_count": 200,
   "metadata": {},
   "outputs": [
    {
     "data": {
      "text/plain": [
       "'/Users/zhangxun/data/robust_scheduling/det_release/Exact_VS_Affine_random_coef_RS/'"
      ]
     },
     "execution_count": 200,
     "metadata": {},
     "output_type": "execute_result"
    }
   ],
   "source": [
    "file_path"
   ]
  },
  {
   "cell_type": "code",
   "execution_count": 122,
   "metadata": {},
   "outputs": [
    {
     "data": {
      "text/plain": [
       "{'avg': array([[2616.97412896, 2613.44958978, 2608.08110947, 2613.44958978,\n",
       "         2608.08110947, 2608.08110947, 2608.08110947, 2608.08110947,\n",
       "         2609.05982733, 2608.08110947, 2608.08110947, 2608.08110947,\n",
       "         2608.08110947, 2608.08110947],\n",
       "        [2561.75377663, 2561.75377663, 2561.75377663, 2631.32859184,\n",
       "         2629.5229129 , 2629.5229129 , 2629.5229129 , 2629.5229129 ,\n",
       "         2627.01686385, 2627.01686385, 2627.01686385, 2627.01686385,\n",
       "         2627.01686385, 2627.01686385],\n",
       "        [2637.1004046 , 2637.1004046 , 2637.1004046 , 2637.1004046 ,\n",
       "         2644.71663449, 2702.49278419, 2770.59471934, 2774.17192311,\n",
       "         2774.17192311, 2768.31478733, 2768.31478733, 2768.31478733,\n",
       "         2768.31478733, 2768.31478733],\n",
       "        [2663.5400088 , 2665.37615348, 2714.75796456, 2728.10673006,\n",
       "         2744.24444085, 2738.18745723, 2738.27536631, 2733.77336159,\n",
       "         2733.77336159, 2733.77336159, 2733.77336159, 2733.77336159,\n",
       "         2733.77336159, 2733.77336159],\n",
       "        [2746.40695403, 2739.6523493 , 2739.93703989, 2739.93703989,\n",
       "         2739.93703989, 2744.60877721, 2744.60877721, 2746.29306294,\n",
       "         2746.29306294, 2746.29306294, 2746.29306294, 2746.29306294,\n",
       "         2746.29306294, 2742.06197279],\n",
       "        [2394.41190451, 2394.51697774, 2409.18472788, 2411.6923529 ,\n",
       "         2411.35034244, 2411.35034244, 2411.35034244, 2411.35034244,\n",
       "         2425.28238987, 2425.28238987, 2425.28238987, 2425.28238987,\n",
       "         2425.28238987, 2425.28238987],\n",
       "        [2644.58785974, 2642.17081735, 2638.10922243, 2638.10922243,\n",
       "         2656.13463115, 2648.3400216 , 2655.06235638, 2652.23345709,\n",
       "         2652.23345709, 2646.87738582, 2646.87738582, 2646.87738582,\n",
       "         2646.87738582, 2646.87738582],\n",
       "        [2588.20982448, 2543.34564012, 2572.01868447, 2597.89586803,\n",
       "         2575.28996297, 2587.71757194, 2569.88551701, 2566.12762367,\n",
       "         2557.29370015, 2557.29370015, 2557.29370015, 2557.29370015,\n",
       "         2554.99627381, 2554.99627381],\n",
       "        [2685.45363312, 2685.45363312, 2785.28392121, 2810.83997849,\n",
       "         2810.83997849, 2815.43700726, 2815.43700726, 2815.43700726,\n",
       "         2808.31572379, 2808.31572379, 2808.31572379, 2808.31572379,\n",
       "         2808.31572379, 2808.31572379],\n",
       "        [2505.3278983 , 2507.98416068, 2519.94273295, 2518.75986327,\n",
       "         2520.12901969, 2559.69119898, 2638.26364917, 2643.45082896,\n",
       "         2643.46580134, 2643.46580134, 2643.46580134, 2643.46580134,\n",
       "         2643.46580134, 2643.46580134]]),\n",
       " 'quan_75': array([[2836.16441502, 2816.46087193, 2812.67910625, 2816.46087193,\n",
       "         2812.67910625, 2812.67910625, 2812.67910625, 2812.67910625,\n",
       "         2813.84154501, 2812.67910625, 2812.67910625, 2812.67910625,\n",
       "         2812.67910625, 2812.67910625],\n",
       "        [2933.62895433, 2933.62895433, 2933.62895433, 2941.39599511,\n",
       "         2934.90547643, 2934.90547643, 2934.90547643, 2934.90547643,\n",
       "         2929.11149939, 2929.11149939, 2929.11149939, 2929.11149939,\n",
       "         2929.11149939, 2929.11149939],\n",
       "        [2898.29055919, 2898.29055919, 2898.29055919, 2898.29055919,\n",
       "         2893.1829443 , 2915.74105686, 2944.1028743 , 2944.26396124,\n",
       "         2944.26396124, 2933.49453997, 2933.49453997, 2933.49453997,\n",
       "         2933.49453997, 2933.49453997],\n",
       "        [2993.47437446, 2994.36704704, 2979.25616646, 2962.32820026,\n",
       "         2949.1123718 , 2931.89729891, 2923.99454495, 2919.33403622,\n",
       "         2919.33403622, 2919.33403622, 2919.33403622, 2919.33403622,\n",
       "         2919.33403622, 2919.33403622],\n",
       "        [3137.59573914, 3073.62923351, 3066.36032009, 3066.36032009,\n",
       "         3066.36032009, 3051.15508662, 3051.15508662, 3042.85394774,\n",
       "         3042.85394774, 3042.85394774, 3042.85394774, 3042.85394774,\n",
       "         3042.85394774, 3037.2873932 ],\n",
       "        [2629.82832642, 2624.68369821, 2614.67014751, 2618.58992793,\n",
       "         2597.94583439, 2597.94583439, 2597.94583439, 2597.94583439,\n",
       "         2604.36309419, 2604.36309419, 2604.36309419, 2604.36309419,\n",
       "         2604.36309419, 2604.36309419],\n",
       "        [2885.26106737, 2873.20620573, 2868.06148155, 2868.06148155,\n",
       "         2862.47773695, 2856.94971583, 2856.33838739, 2855.62297934,\n",
       "         2855.62297934, 2845.03669011, 2845.03669011, 2845.03669011,\n",
       "         2845.03669011, 2845.03669011],\n",
       "        [3024.46896331, 2903.06690457, 2957.59678079, 2969.16542893,\n",
       "         2900.84111054, 2931.80967984, 2883.56617811, 2864.04251412,\n",
       "         2847.22447588, 2847.22447588, 2847.22447588, 2847.22447588,\n",
       "         2841.8274895 , 2841.8274895 ],\n",
       "        [3038.10875827, 3038.10875827, 3075.35249228, 3071.18005387,\n",
       "         3071.18005387, 3071.54320299, 3071.54320299, 3071.54320299,\n",
       "         3058.62052269, 3058.62052269, 3058.62052269, 3058.62052269,\n",
       "         3058.62052269, 3058.62052269],\n",
       "        [2796.2013357 , 2804.22782582, 2815.11120576, 2796.601859  ,\n",
       "         2802.6264544 , 2807.12628334, 2846.24154067, 2851.77221087,\n",
       "         2836.33495773, 2836.33495773, 2836.33495773, 2836.33495773,\n",
       "         2836.33495773, 2836.33495773]]),\n",
       " 'quan_95': array([[3155.57897168, 3107.51031618, 3103.2369324 , 3107.51031618,\n",
       "         3103.2369324 , 3103.2369324 , 3103.2369324 , 3103.2369324 ,\n",
       "         3115.7495304 , 3103.2369324 , 3103.2369324 , 3103.2369324 ,\n",
       "         3103.2369324 , 3103.2369324 ],\n",
       "        [3469.78116912, 3469.78116912, 3469.78116912, 3386.04611388,\n",
       "         3370.4878346 , 3370.4878346 , 3370.4878346 , 3370.4878346 ,\n",
       "         3370.7003989 , 3370.7003989 , 3370.7003989 , 3370.7003989 ,\n",
       "         3370.7003989 , 3370.7003989 ],\n",
       "        [3307.06884561, 3307.06884561, 3307.06884561, 3307.06884561,\n",
       "         3296.06724289, 3270.48032322, 3232.32989924, 3232.15989884,\n",
       "         3232.15989884, 3210.78247259, 3210.78247259, 3210.78247259,\n",
       "         3210.78247259, 3210.78247259],\n",
       "        [3437.58327311, 3444.82579836, 3357.37199825, 3305.25323286,\n",
       "         3253.04553893, 3218.4738131 , 3186.46921365, 3182.30634049,\n",
       "         3182.30634049, 3182.30634049, 3182.30634049, 3182.30634049,\n",
       "         3182.30634049, 3182.30634049],\n",
       "        [3713.16171518, 3590.79365866, 3571.87244656, 3571.87244656,\n",
       "         3571.87244656, 3513.29344343, 3513.29344343, 3483.65702261,\n",
       "         3483.65702261, 3483.65702261, 3483.65702261, 3483.65702261,\n",
       "         3483.65702261, 3463.69578901],\n",
       "        [2957.82362331, 2944.6275358 , 2907.43121348, 2913.78647262,\n",
       "         2863.47281832, 2863.47281832, 2863.47281832, 2863.47281832,\n",
       "         2863.43009965, 2863.43009965, 2863.43009965, 2863.43009965,\n",
       "         2863.43009965, 2863.43009965],\n",
       "        [3227.37788161, 3211.68950163, 3202.87195196, 3202.87195196,\n",
       "         3162.07614937, 3162.95462104, 3154.58939763, 3154.2389326 ,\n",
       "         3154.2389326 , 3140.05372099, 3140.05372099, 3140.05372099,\n",
       "         3140.05372099, 3140.05372099],\n",
       "        [3655.47635387, 3413.68128426, 3513.03208826, 3495.89758175,\n",
       "         3363.74540896, 3437.14689131, 3334.8376808 , 3288.31201625,\n",
       "         3261.57546967, 3261.57546967, 3261.57546967, 3261.57546967,\n",
       "         3265.0862531 , 3265.0862531 ],\n",
       "        [3558.53723822, 3558.53723822, 3479.72257464, 3444.53049009,\n",
       "         3444.53049009, 3442.37461857, 3442.37461857, 3442.37461857,\n",
       "         3413.90541432, 3413.90541432, 3413.90541432, 3413.90541432,\n",
       "         3413.90541432, 3413.90541432],\n",
       "        [3170.34403636, 3194.71545804, 3215.70953219, 3166.48027509,\n",
       "         3179.46519166, 3147.99437196, 3134.46349999, 3137.1340416 ,\n",
       "         3105.33295528, 3105.33295528, 3105.33295528, 3105.33295528,\n",
       "         3105.33295528, 3105.33295528]]),\n",
       " 'time_arr': array([[0.25270557, 0.25994682, 0.29882789, 0.3296504 , 0.36590004,\n",
       "         0.36484575, 0.37697625, 0.29541135, 0.27853417, 0.27515864,\n",
       "         0.27711916, 0.28117228, 0.2786653 , 0.26986885],\n",
       "        [0.2657218 , 0.28093648, 0.27805543, 0.30215192, 0.31331635,\n",
       "         0.35385776, 0.60283661, 0.63687181, 0.64295483, 0.69003463,\n",
       "         0.65392995, 0.46581626, 0.43912268, 0.34220338],\n",
       "        [0.27079201, 0.27155805, 0.27317524, 0.28007698, 0.29341817,\n",
       "         0.31678391, 0.36204076, 0.36876631, 0.33739185, 0.26779771,\n",
       "         0.25836086, 0.25869942, 0.25486469, 0.25420499],\n",
       "        [0.29218507, 0.29390454, 0.30047297, 0.32667923, 0.37702465,\n",
       "         0.43834734, 0.54271913, 0.39832568, 0.3366878 , 0.3190167 ,\n",
       "         0.31339955, 0.30173492, 0.29742289, 0.31671333],\n",
       "        [0.28996658, 0.33903265, 0.36146235, 0.4260931 , 0.45576501,\n",
       "         0.52805781, 0.78059959, 0.71690989, 0.65680766, 0.64470792,\n",
       "         0.37669301, 0.37112951, 0.33637333, 0.32442784],\n",
       "        [0.27308035, 0.35550904, 0.31326556, 0.34041047, 0.40215302,\n",
       "         0.65582204, 0.65469265, 0.65902686, 0.43451428, 0.33362484,\n",
       "         0.32286286, 0.31807113, 0.31679678, 0.31535673],\n",
       "        [0.35298991, 0.38203669, 0.40563512, 0.50656033, 0.70476174,\n",
       "         0.72443676, 0.56973505, 0.48948479, 0.37063789, 0.37651706,\n",
       "         0.35065007, 0.35943723, 0.35379004, 0.35264015],\n",
       "        [0.32158947, 0.32331538, 0.36226082, 0.35496402, 0.34533453,\n",
       "         0.37102342, 0.57375646, 0.5030663 , 0.47634363, 0.45111108,\n",
       "         0.46683216, 0.35931182, 0.35704875, 0.33369374],\n",
       "        [0.26735759, 0.28605723, 0.29706931, 0.32007098, 0.33964586,\n",
       "         0.43841124, 0.4615109 , 0.46905208, 0.33067775, 0.30568886,\n",
       "         0.30120897, 0.30423188, 0.30103517, 0.2862885 ],\n",
       "        [0.26210022, 0.26435208, 0.28168678, 0.29042745, 0.30241251,\n",
       "         0.34244704, 0.38768816, 0.47306395, 0.42868352, 0.30400109,\n",
       "         0.27628541, 0.27770114, 0.28302455, 0.27457356]])}"
      ]
     },
     "execution_count": 122,
     "metadata": {},
     "output_type": "execute_result"
    }
   ],
   "source": [
    "rst_affine"
   ]
  },
  {
   "cell_type": "code",
   "execution_count": 160,
   "metadata": {},
   "outputs": [],
   "source": [
    "# N_all = [10,20,30]\n",
    "# range_c = np.asarray([0])\n",
    "def obtain_avg(N_all,metric_name):\n",
    "    rst_det = np.zeros(len(N_all))\n",
    "    rst_saa = np.zeros(len(N_all))\n",
    "    rst_affine = np.zeros((len(N_all),len(range_c)))\n",
    "    rst_exact = np.zeros((3,len(range_c)))\n",
    "    rst_mm = np.zeros(3)\n",
    "    for i in range(len(N_all)):\n",
    "        n = N_all[i]\n",
    "        file_path1 = file_path + 'n='+str(n) + '/'\n",
    "        rst_det[i] = np.mean(load_results(instances,file_path1,'sol_det.pkl')[metric_name])\n",
    "        rst_saa[i] = np.mean(load_results(instances,file_path1,'sol_saa.pkl')[metric_name])\n",
    "        rst_affine[i] = np.mean(load_wass_results(instances,range_c,file_path1,'sol_wass_vns.pkl')[metric_name],axis = 0)\n",
    "        if n < 40:\n",
    "            rst_exact[i] = np.mean(load_wass_results(instances,range_c,file_path1,'sol_wass_exact.pkl')[metric_name],axis = 0)\n",
    "            # rst_mm[i] = np.mean(load_results(instances,file_path1,'sol_mom.pkl')[metric_name])\n",
    "    return rst_det,rst_saa,rst_affine,rst_exact,rst_mm\n",
    "\n"
   ]
  },
  {
   "cell_type": "code",
   "execution_count": 161,
   "metadata": {},
   "outputs": [],
   "source": [
    "def obtain_ratio(N_all,rst_det,rst_saa,rst_affine,rst_exact,rst_mm):\n",
    "    ratio_saa = np.zeros(len(N_all))\n",
    "    ratio_mm = np.zeros(3)\n",
    "    ratio_affine = np.zeros((len(N_all),len(range_c)))\n",
    "    ratio_exact = np.zeros((3,len(range_c)))\n",
    "    for i in range(len(N_all)):\n",
    "        n = N_all[i]\n",
    "        ratio_saa[i] = rst_saa[i]/rst_det[i]\n",
    "        ratio_affine[i] = rst_affine[i,:]/rst_det[i]\n",
    "        if i < 3:\n",
    "            # ratio_mm[i] = rst_mm[i]/rst_det[i]\n",
    "            ratio_exact[i] = rst_exact[i,:]/rst_det[i]\n",
    "\n",
    "    # print('saa ratio:',np.round(ratio_saa,4))\n",
    "    # print('affine ratio:',np.round(ratio_affine,4))\n",
    "    return ratio_saa,ratio_affine,ratio_exact,ratio_mm"
   ]
  },
  {
   "cell_type": "code",
   "execution_count": 166,
   "metadata": {},
   "outputs": [],
   "source": [
    "instances = 5\n",
    "# range_c = [0]"
   ]
  },
  {
   "cell_type": "code",
   "execution_count": 167,
   "metadata": {},
   "outputs": [],
   "source": [
    "N_all = [10,20,30]\n",
    "metric_name = 'avg'\n",
    "rst_det,rst_saa,rst_affine,rst_exact,rst_mm = obtain_avg(N_all,metric_name)\n",
    "ratio_saa_avg,ratio_affine_avg,ratio_exact_avg,ratio_mm_avg = obtain_ratio(N_all,rst_det,rst_saa,rst_affine,rst_exact,rst_mm)\n",
    "\n",
    "metric_name = 'quan_95'\n",
    "rst_det,rst_saa,rst_affine,rst_exact,rst_mm = obtain_avg(N_all,metric_name)\n",
    "ratio_saa_quan95,ratio_affine_quan95,ratio_exact_quan95,ratio_mm_quan95 = obtain_ratio(N_all,rst_det,rst_saa,rst_affine,rst_exact,rst_mm)\n",
    "\n"
   ]
  },
  {
   "cell_type": "code",
   "execution_count": 168,
   "metadata": {},
   "outputs": [
    {
     "data": {
      "text/plain": [
       "array([[0.98877206, 0.98814086, 0.99145262, 0.99805342, 0.99929294,\n",
       "        1.00350878, 1.00860672, 1.0086635 , 1.00854932, 1.00803826,\n",
       "        1.00803826, 1.00803826, 1.00803826, 1.00772194],\n",
       "       [0.98950092, 0.98440201, 0.98693381, 0.98873037, 0.98797647,\n",
       "        0.99001399, 0.98867612, 0.98605912, 0.9899267 , 0.99013018,\n",
       "        0.98874428, 0.99174721, 1.00053759, 1.00029361],\n",
       "       [0.98736276, 0.98857328, 0.9901123 , 0.98905511, 0.99025119,\n",
       "        0.9901503 , 0.99078492, 0.98917967, 0.99403862, 0.99604293,\n",
       "        0.99544465, 0.99755359, 0.99719113, 0.99710511]])"
      ]
     },
     "execution_count": 168,
     "metadata": {},
     "output_type": "execute_result"
    }
   ],
   "source": [
    "ratio_affine_avg"
   ]
  },
  {
   "cell_type": "code",
   "execution_count": 202,
   "metadata": {},
   "outputs": [],
   "source": [
    "metric_name = 'time_arr'\n",
    "rst_det,rst_saa,rst_affine,rst_exact,rst_mm = obtain_avg(N_all,metric_name)\n"
   ]
  },
  {
   "cell_type": "code",
   "execution_count": 206,
   "metadata": {},
   "outputs": [],
   "source": [
    "pd.DataFrame(rst_affine).to_csv( file_path +'time_affine.csv')\n",
    "pd.DataFrame(rst_exact).to_csv( file_path +'time_exact.csv')\n"
   ]
  },
  {
   "cell_type": "code",
   "execution_count": 204,
   "metadata": {},
   "outputs": [
    {
     "data": {
      "text/plain": [
       "array([[0.98528233, 0.97587   , 0.96948829, 0.96189931, 0.95710987,\n",
       "        0.95026161, 0.94621537, 0.94425617, 0.94499011, 0.94303548,\n",
       "        0.94303548, 0.94303548, 0.94303548, 0.9418842 ],\n",
       "       [0.98843411, 0.96739263, 0.95742633, 0.9417136 , 0.92912903,\n",
       "        0.92307826, 0.91277761, 0.90608602, 0.9045249 , 0.90174584,\n",
       "        0.89968413, 0.90110118, 0.90644899, 0.90591153],\n",
       "       [0.98736605, 0.9811097 , 0.97020554, 0.95915991, 0.95180416,\n",
       "        0.94951251, 0.93833139, 0.93128327, 0.9337629 , 0.93238475,\n",
       "        0.93152008, 0.93261657, 0.93182296, 0.93173675]])"
      ]
     },
     "execution_count": 204,
     "metadata": {},
     "output_type": "execute_result"
    }
   ],
   "source": [
    "ratio_affine_quan95"
   ]
  },
  {
   "cell_type": "code",
   "execution_count": 97,
   "metadata": {},
   "outputs": [],
   "source": [
    "rst_det = pd.DataFrame()\n",
    "rst_saa = pd.DataFrame()\n",
    "rst_mm = pd.DataFrame()\n",
    "rst_affine = pd.DataFrame()\n",
    "rst_exact = pd.DataFrame()\n",
    "metric_name = 'time_arr'\n",
    "for i in range(len(N_all)):\n",
    "    n = N_all[i]\n",
    "    file_path1 = file_path + 'n='+str(n) + '/'\n",
    "    rst_det[n] = load_results(instances,file_path1,'sol_det.pkl')[metric_name]\n",
    "    rst_saa[n] = load_results(instances,file_path1,'sol_saa.pkl')[metric_name]\n",
    "    rst_affine[n] = load_wass_results(instances,range_c,file_path1,'sol_wass_vns.pkl')[metric_name][:,0]\n",
    "    if n < 40:\n",
    "        rst_exact[n] = load_wass_results(instances,range_c,file_path1,'sol_wass_exact.pkl')[metric_name][:,0]\n",
    "        rst_mm[n] = load_results(instances,file_path1,'sol_mom.pkl')[metric_name]"
   ]
  },
  {
   "cell_type": "code",
   "execution_count": 63,
   "metadata": {},
   "outputs": [],
   "source": [
    "pd.DataFrame(rst_det).to_csv( file_path +'time_det.csv')\n",
    "pd.DataFrame(rst_saa).to_csv( file_path +'time_saa.csv')\n",
    "pd.DataFrame(rst_mm).to_csv( file_path +'time_mm.csv')\n",
    "pd.DataFrame(rst_affine).to_csv( file_path +'time_affine.csv')\n",
    "pd.DataFrame(rst_exact).to_csv( file_path +'time_exact.csv')"
   ]
  },
  {
   "cell_type": "code",
   "execution_count": 34,
   "metadata": {},
   "outputs": [
    {
     "data": {
      "text/plain": [
       "array([0.99686622, 1.01099955, 1.00322225, 0.        , 0.        ,\n",
       "       0.        , 0.        , 0.        ])"
      ]
     },
     "execution_count": 34,
     "metadata": {},
     "output_type": "execute_result"
    }
   ],
   "source": [
    "np.insert(np.zeros(len(ratio_saa_avg)-len(ratio_exact_avg)),0,ratio_mm_quan95)"
   ]
  },
  {
   "cell_type": "code",
   "execution_count": 99,
   "metadata": {},
   "outputs": [
    {
     "data": {
      "text/plain": [
       "array([[0.99563761, 0.99563761, 0.99563761, 0.99563761, 0.99563761,\n",
       "        0.99563761, 0.99563761, 0.99563761, 0.99563761, 0.99563761,\n",
       "        0.99563761, 0.99563761, 0.99563761, 0.99563761],\n",
       "       [0.99757433, 0.99757433, 0.99757433, 0.99757433, 0.99757433,\n",
       "        0.99757433, 0.99757433, 0.99757433, 0.99757433, 0.99757433,\n",
       "        0.99757433, 0.99757433, 0.99757433, 0.99757433],\n",
       "       [0.992471  , 0.992471  , 0.992471  , 0.992471  , 0.992471  ,\n",
       "        0.992471  , 0.992471  , 0.992471  , 0.992471  , 0.992471  ,\n",
       "        0.992471  , 0.992471  , 0.992471  , 0.992471  ],\n",
       "       [0.9903794 , 0.9903794 , 0.9903794 , 0.9903794 , 0.9903794 ,\n",
       "        0.9903794 , 0.9903794 , 0.9903794 , 0.9903794 , 0.9903794 ,\n",
       "        0.9903794 , 0.9903794 , 0.9903794 , 0.9903794 ],\n",
       "       [0.98809914, 0.98809914, 0.98809914, 0.98809914, 0.98809914,\n",
       "        0.98809914, 0.98809914, 0.98809914, 0.98809914, 0.98809914,\n",
       "        0.98809914, 0.98809914, 0.98809914, 0.98809914],\n",
       "       [0.98798805, 0.98798805, 0.98798805, 0.98798805, 0.98798805,\n",
       "        0.98798805, 0.98798805, 0.98798805, 0.98798805, 0.98798805,\n",
       "        0.98798805, 0.98798805, 0.98798805, 0.98798805],\n",
       "       [0.99120286, 0.99120286, 0.99120286, 0.99120286, 0.99120286,\n",
       "        0.99120286, 0.99120286, 0.99120286, 0.99120286, 0.99120286,\n",
       "        0.99120286, 0.99120286, 0.99120286, 0.99120286],\n",
       "       [0.99221293, 0.99221293, 0.99221293, 0.99221293, 0.99221293,\n",
       "        0.99221293, 0.99221293, 0.99221293, 0.99221293, 0.99221293,\n",
       "        0.99221293, 0.99221293, 0.99221293, 0.99221293]])"
      ]
     },
     "execution_count": 99,
     "metadata": {},
     "output_type": "execute_result"
    }
   ],
   "source": [
    "ratio_affine_avg"
   ]
  },
  {
   "cell_type": "code",
   "execution_count": 105,
   "metadata": {},
   "outputs": [
    {
     "data": {
      "text/plain": [
       "array([[1.00391945],\n",
       "       [0.99999987],\n",
       "       [0.99504106]])"
      ]
     },
     "execution_count": 105,
     "metadata": {},
     "output_type": "execute_result"
    }
   ],
   "source": [
    "ratio_exact_avg"
   ]
  },
  {
   "cell_type": "code",
   "execution_count": 111,
   "metadata": {},
   "outputs": [],
   "source": [
    "rst_df = pd.DataFrame()\n",
    "rst_df['ratio_saa_avg'] = ratio_saa_avg\n",
    "rst_df['ratio_affine_avg'] = ratio_affine_avg\n",
    "rst_df['ratio_exact_avg'] = np.insert(np.zeros(len(ratio_saa_avg)-len(ratio_exact_avg[:,0])),0,ratio_exact_avg[:,0])\n",
    "rst_df['ratio_mm_avg'] = np.insert(np.zeros(len(ratio_saa_avg)-len(ratio_exact_avg)),0,ratio_mm_avg)\n",
    "\n",
    "rst_df['ratio_saa_quan95'] = ratio_saa_quan95\n",
    "rst_df['ratio_affine_quan95'] = ratio_affine_quan95\n",
    "rst_df['ratio_exact_quan95'] = np.insert(np.zeros(len(ratio_saa_avg)-len(ratio_exact_quan95[:,0])),0,ratio_exact_quan95[:,0])\n",
    "rst_df['ratio_mm_quan95'] = np.insert(np.zeros(len(ratio_saa_avg)-len(ratio_exact_avg)),0,ratio_mm_quan95)\n"
   ]
  },
  {
   "cell_type": "code",
   "execution_count": 112,
   "metadata": {},
   "outputs": [
    {
     "data": {
      "text/html": [
       "<div>\n",
       "<style scoped>\n",
       "    .dataframe tbody tr th:only-of-type {\n",
       "        vertical-align: middle;\n",
       "    }\n",
       "\n",
       "    .dataframe tbody tr th {\n",
       "        vertical-align: top;\n",
       "    }\n",
       "\n",
       "    .dataframe thead th {\n",
       "        text-align: right;\n",
       "    }\n",
       "</style>\n",
       "<table border=\"1\" class=\"dataframe\">\n",
       "  <thead>\n",
       "    <tr style=\"text-align: right;\">\n",
       "      <th></th>\n",
       "      <th>ratio_saa_avg</th>\n",
       "      <th>ratio_affine_avg</th>\n",
       "      <th>ratio_exact_avg</th>\n",
       "      <th>ratio_mm_avg</th>\n",
       "      <th>ratio_saa_quan95</th>\n",
       "      <th>ratio_affine_quan95</th>\n",
       "      <th>ratio_exact_quan95</th>\n",
       "      <th>ratio_mm_quan95</th>\n",
       "    </tr>\n",
       "  </thead>\n",
       "  <tbody>\n",
       "    <tr>\n",
       "      <th>0</th>\n",
       "      <td>0.991543</td>\n",
       "      <td>0.995638</td>\n",
       "      <td>1.003919</td>\n",
       "      <td>1.001657</td>\n",
       "      <td>0.998569</td>\n",
       "      <td>0.922023</td>\n",
       "      <td>0.925943</td>\n",
       "      <td>0.996866</td>\n",
       "    </tr>\n",
       "    <tr>\n",
       "      <th>1</th>\n",
       "      <td>0.996274</td>\n",
       "      <td>0.997574</td>\n",
       "      <td>1.000000</td>\n",
       "      <td>1.005188</td>\n",
       "      <td>0.997270</td>\n",
       "      <td>0.944951</td>\n",
       "      <td>0.947356</td>\n",
       "      <td>1.011000</td>\n",
       "    </tr>\n",
       "    <tr>\n",
       "      <th>2</th>\n",
       "      <td>0.988272</td>\n",
       "      <td>0.992471</td>\n",
       "      <td>0.995041</td>\n",
       "      <td>1.001909</td>\n",
       "      <td>0.994046</td>\n",
       "      <td>0.954839</td>\n",
       "      <td>0.954874</td>\n",
       "      <td>1.003222</td>\n",
       "    </tr>\n",
       "    <tr>\n",
       "      <th>3</th>\n",
       "      <td>0.990806</td>\n",
       "      <td>0.990379</td>\n",
       "      <td>0.000000</td>\n",
       "      <td>0.000000</td>\n",
       "      <td>0.995267</td>\n",
       "      <td>0.966708</td>\n",
       "      <td>0.000000</td>\n",
       "      <td>0.000000</td>\n",
       "    </tr>\n",
       "    <tr>\n",
       "      <th>4</th>\n",
       "      <td>0.993645</td>\n",
       "      <td>0.988099</td>\n",
       "      <td>0.000000</td>\n",
       "      <td>0.000000</td>\n",
       "      <td>0.997357</td>\n",
       "      <td>0.967112</td>\n",
       "      <td>0.000000</td>\n",
       "      <td>0.000000</td>\n",
       "    </tr>\n",
       "    <tr>\n",
       "      <th>5</th>\n",
       "      <td>0.991738</td>\n",
       "      <td>0.987988</td>\n",
       "      <td>0.000000</td>\n",
       "      <td>0.000000</td>\n",
       "      <td>0.995608</td>\n",
       "      <td>0.964599</td>\n",
       "      <td>0.000000</td>\n",
       "      <td>0.000000</td>\n",
       "    </tr>\n",
       "    <tr>\n",
       "      <th>6</th>\n",
       "      <td>0.994272</td>\n",
       "      <td>0.991203</td>\n",
       "      <td>0.000000</td>\n",
       "      <td>0.000000</td>\n",
       "      <td>0.996646</td>\n",
       "      <td>0.975181</td>\n",
       "      <td>0.000000</td>\n",
       "      <td>0.000000</td>\n",
       "    </tr>\n",
       "    <tr>\n",
       "      <th>7</th>\n",
       "      <td>0.994918</td>\n",
       "      <td>0.992213</td>\n",
       "      <td>0.000000</td>\n",
       "      <td>0.000000</td>\n",
       "      <td>0.997138</td>\n",
       "      <td>0.974727</td>\n",
       "      <td>0.000000</td>\n",
       "      <td>0.000000</td>\n",
       "    </tr>\n",
       "  </tbody>\n",
       "</table>\n",
       "</div>"
      ],
      "text/plain": [
       "   ratio_saa_avg  ratio_affine_avg  ratio_exact_avg  ratio_mm_avg  \\\n",
       "0       0.991543          0.995638         1.003919      1.001657   \n",
       "1       0.996274          0.997574         1.000000      1.005188   \n",
       "2       0.988272          0.992471         0.995041      1.001909   \n",
       "3       0.990806          0.990379         0.000000      0.000000   \n",
       "4       0.993645          0.988099         0.000000      0.000000   \n",
       "5       0.991738          0.987988         0.000000      0.000000   \n",
       "6       0.994272          0.991203         0.000000      0.000000   \n",
       "7       0.994918          0.992213         0.000000      0.000000   \n",
       "\n",
       "   ratio_saa_quan95  ratio_affine_quan95  ratio_exact_quan95  ratio_mm_quan95  \n",
       "0          0.998569             0.922023            0.925943         0.996866  \n",
       "1          0.997270             0.944951            0.947356         1.011000  \n",
       "2          0.994046             0.954839            0.954874         1.003222  \n",
       "3          0.995267             0.966708            0.000000         0.000000  \n",
       "4          0.997357             0.967112            0.000000         0.000000  \n",
       "5          0.995608             0.964599            0.000000         0.000000  \n",
       "6          0.996646             0.975181            0.000000         0.000000  \n",
       "7          0.997138             0.974727            0.000000         0.000000  "
      ]
     },
     "execution_count": 112,
     "metadata": {},
     "output_type": "execute_result"
    }
   ],
   "source": [
    "rst_df"
   ]
  },
  {
   "cell_type": "code",
   "execution_count": 23,
   "metadata": {},
   "outputs": [
    {
     "name": "stdout",
     "output_type": "stream",
     "text": [
      "AVG MM ratio: [1.0017 1.0052 1.0019] 95 MM ratio: [0.9969 1.011  1.0032]\n",
      "AVG EO ratio: [0.9915 0.9963 0.9883 0.9908 0.9936 0.9917 0.9943 0.9949] 95 EO ratio: [0.9986 0.9973 0.994  0.9953 0.9974 0.9956 0.9966 0.9971]\n",
      "AVG Affine ratio: [0.9956 0.9976 0.9925 0.9904 0.9881 0.988  0.9912 0.9922] 95 Affine ratio: [0.922  0.945  0.9548 0.9667 0.9671 0.9646 0.9752 0.9747]\n"
     ]
    }
   ],
   "source": [
    "print('AVG MM ratio:',np.round(ratio_mm_avg,4),'95 MM ratio:',np.round(ratio_mm_quan95,4))\n",
    "print('AVG EO ratio:',np.round(ratio_saa_avg,4),'95 EO ratio:',np.round(ratio_saa_quan95,4))\n",
    "print('AVG Affine ratio:',np.round(ratio_affine_avg[:,0],4),'95 Affine ratio:',np.round(ratio_affine_quan95[:,0],4))"
   ]
  },
  {
   "cell_type": "code",
   "execution_count": 113,
   "metadata": {},
   "outputs": [],
   "source": [
    "pd.DataFrame(rst_df).to_csv( file_path +'tft.csv')"
   ]
  },
  {
   "attachments": {},
   "cell_type": "markdown",
   "metadata": {},
   "source": [
    "## plot impact of N"
   ]
  },
  {
   "cell_type": "code",
   "execution_count": 24,
   "metadata": {},
   "outputs": [
    {
     "data": {
      "image/png": "[encoded data removed]",
      "text/plain": [
       "<Figure size 600x400 with 2 Axes>"
      ]
     },
     "metadata": {},
     "output_type": "display_data"
    }
   ],
   "source": [
    "ms = 4\n",
    "lw = 1\n",
    "\n",
    "fig,ax = plt.subplots(1,2,figsize=(6, 4))\n",
    "index = 0 \n",
    "color_set = ['g','b','r']\n",
    "# ax[0].plot(N_all,ratio_mm_avg,'-x',color = 'g',markersize=ms,linewidth = lw,label='MM')\n",
    "ax[0].plot(N_all,ratio_saa_avg,'->',color = 'b',markersize=ms,linewidth = lw,label='EO')\n",
    "ax[0].plot(N_all,ratio_affine_avg,'-o',color = 'r',markersize=ms,linewidth = lw,label='Affine')\n",
    "# ax[0].plot(N_all,ratio_exact_avg,'-s',color = 'k',markersize=ms,linewidth = lw,label='Exact')\n",
    "\n",
    "# ax[1].plot(N_all,ratio_mm_quan95,'-x',color = 'g',markersize=ms,linewidth = lw,label='MM')\n",
    "ax[1].plot(N_all,ratio_saa_quan95,'->',color = 'b',markersize=ms,linewidth = lw,label='EO')\n",
    "ax[1].plot(N_all,ratio_affine_quan95,'-o',color = 'r',markersize=ms,linewidth = lw,label='Affine')\n",
    "# ax[1].plot(N_all,ratio_exact_quan95,'-s',color = 'k',markersize=ms,linewidth = lw,label='Exact')\n",
    "\n",
    "        # ax[i,j].set_ylim(1.35,1.95)\n",
    "# ax[0,0].set_ylabel('CVaR',fontsize = 18)\n",
    "# ax[1,0].set_ylabel('CVaR',fontsize = 18)\n",
    "\n",
    "# ax[0,0].set_title(r'Out-of-sample CVaR comparison when $S=63$')\n",
    "# ax[0,1].set_title(r'Out-of-sample CVaR comparison when $S=126$')\n",
    "# plt.xticks(fontsize=16)\n",
    "# plt.yticks(fontsize=16)\n",
    "\n",
    "ax[0].legend(loc='upper left',fontsize = 18) \n",
    "# ax[0,1].legend(loc=2,fontsize = 12, bbox_to_anchor=(1.05,1),borderaxespad = 0.)     ##设置ax4中legend的位置，将其放在图外\n",
    "# fig_name = 'CVaR (Num of stocks = %(n_x)s,epsilon=%(eps)s)'%{'n_x':n_x,'eps':stochOptForest_params['epsilon'][0]}\n",
    "# plt.subplots_adjust(wspace =0.2, hspace =0.3)#调整子图间距\n",
    "# plt.savefig(fig_name+'.pdf', bbox_inches='tight') # 保存成PDF放大后不失真（默认保存在了当前文件夹下）\n",
    "\n",
    "plt.show()\n"
   ]
  },
  {
   "cell_type": "code",
   "execution_count": 201,
   "metadata": {},
   "outputs": [
    {
     "data": {
      "image/png": "[encoded data removed]",
      "text/plain": [
       "<Figure size 1200x600 with 2 Axes>"
      ]
     },
     "metadata": {},
     "output_type": "display_data"
    }
   ],
   "source": [
    "ms = 4\n",
    "lw = 1\n",
    "\n",
    "fig,ax = plt.subplots(1,2,figsize=(12, 6))\n",
    "index = 0 \n",
    "affine_color_set = ['b','g','r']\n",
    "exact_color_set = ['r','m','k']\n",
    "\n",
    "affine_shape_set = ['->','-o','-s']\n",
    "exact_shape_set = ['-.>','-.o','-.s']\n",
    "for i in range(len(N_all)):\n",
    "        name1 = 'n = '+str(N_all[i])\n",
    "        # name2 = 'Exact:'+str(N_all[i])\n",
    "        # print('i=',i)\n",
    "        ax[0].plot(range_c,ratio_affine_avg[i]/ratio_exact_avg[i],affine_shape_set[i],color = affine_color_set[i],markersize=ms,linewidth = lw,label=name1)\n",
    "        ax[1].plot(range_c,ratio_affine_quan95[i]/ratio_exact_quan95[i],affine_shape_set[i],color = affine_color_set[i],markersize=ms,linewidth = lw,label=name1)\n",
    "        # ax[0].plot(range_c,ratio_exact_avg[i],exact_shape_set[i],color = exact_color_set[i],markersize=ms,linewidth = lw,label=name2)\n",
    "        # ax[1].plot(range_c,ratio_exact_quan95[i],exact_shape_set[i],color = exact_color_set[i],markersize=ms,linewidth = lw,label=name2)\n",
    "\n",
    "ax[0].plot(range_c,np.ones(len(range_c)),'-.',color = 'k',markersize=ms,linewidth = lw)\n",
    "ax[1].plot(range_c,np.ones(len(range_c)),'-.',color = 'k',markersize=ms,linewidth = lw)\n",
    "\n",
    "\n",
    "ax[0].set_ylim(0.98,1.02)\n",
    "ax[1].set_ylim(0.98,1.02)\n",
    "ax[0].set_ylabel(r'$R^{AVG}(RSA)/R^{AVG}(RSE)$',fontsize = 12)\n",
    "ax[1].set_ylabel(r'$R^{PT}_{95}(RSA)/R^{PT}_{95}(RSE)$',fontsize = 12)\n",
    "ax[0].set_xlabel(r'$\\alpha$',fontsize = 12)\n",
    "ax[1].set_xlabel(r'$\\alpha$',fontsize = 12)\n",
    "\n",
    "# ax[0,0].set_title(r'Out-of-sample CVaR comparison when $S=63$')\n",
    "# ax[0,1].set_title(r'Out-of-sample CVaR comparison when $S=126$')\n",
    "# plt.xticks(fontsize=16)\n",
    "# plt.yticks(fontsize=16)\n",
    "\n",
    "ax[1].legend(loc='upper right',fontsize = 18) \n",
    "plt.subplots_adjust(hspace=0.2,wspace=0.3)\n",
    "\n",
    "# ax[0,1].legend(loc=2,fontsize = 12, bbox_to_anchor=(1.05,1),borderaxespad = 0.)     ##设置ax4中legend的位置，将其放在图外\n",
    "fig_name = 'Exact_vs_Affine.pdf'\n",
    "plt.subplots_adjust(wspace =0.2, hspace =0.3)#调整子图间距\n",
    "plt.savefig(file_path + fig_name, bbox_inches='tight') # 保存成PDF放大后不失真（默认保存在了当前文件夹下）\n",
    "\n",
    "plt.show()\n"
   ]
  },
  {
   "cell_type": "code",
   "execution_count": 28,
   "metadata": {},
   "outputs": [],
   "source": []
  },
  {
   "cell_type": "code",
   "execution_count": 69,
   "metadata": {},
   "outputs": [
    {
     "data": {
      "image/png": "[encoded data removed]",
      "text/plain": [
       "<Figure size 1200x800 with 2 Axes>"
      ]
     },
     "metadata": {},
     "output_type": "display_data"
    }
   ],
   "source": [
    "ms = 4\n",
    "lw = 1\n",
    "\n",
    "fig,ax = plt.subplots(1,2,figsize=(12, 8))\n",
    "index = 0 \n",
    "ax[0].plot(delta_ep_all,rst_mom_avg,'->',color = 'k',markersize=ms,linewidth = lw,label='Forest')\n",
    "ax[0].plot(delta_ep_all,rst_saa_avg,'->',color = 'k',markersize=ms,linewidth = lw,label='Forest')\n",
    "\n",
    "        # ax[i,j].set_ylim(1.35,1.95)\n",
    "# ax[0,0].set_ylabel('CVaR',fontsize = 18)\n",
    "# ax[1,0].set_ylabel('CVaR',fontsize = 18)\n",
    "\n",
    "# ax[0,0].set_title(r'Out-of-sample CVaR comparison when $S=63$')\n",
    "# ax[0,1].set_title(r'Out-of-sample CVaR comparison when $S=126$')\n",
    "# plt.xticks(fontsize=16)\n",
    "# plt.yticks(fontsize=16)\n",
    "\n",
    "# # ax.legend(loc='upper left',fontsize = 18) \n",
    "# ax[0,1].legend(loc=2,fontsize = 12, bbox_to_anchor=(1.05,1),borderaxespad = 0.)     ##设置ax4中legend的位置，将其放在图外\n",
    "# fig_name = 'CVaR (Num of stocks = %(n_x)s,epsilon=%(eps)s)'%{'n_x':n_x,'eps':stochOptForest_params['epsilon'][0]}\n",
    "# plt.subplots_adjust(wspace =0.2, hspace =0.3)#调整子图间距\n",
    "# plt.savefig(fig_name+'.pdf', bbox_inches='tight') # 保存成PDF放大后不失真（默认保存在了当前文件夹下）\n",
    "\n",
    "plt.show()\n"
   ]
  },
  {
   "cell_type": "code",
   "execution_count": 60,
   "metadata": {},
   "outputs": [
    {
     "data": {
      "text/plain": [
       "array([ 9679.80626105, 10342.68888164, 10841.70791293, 11198.11682387,\n",
       "       11631.42340535, 12135.09741742, 12557.01356397, 13077.96663903,\n",
       "       13265.76661269, 13882.96296635])"
      ]
     },
     "execution_count": 60,
     "metadata": {},
     "output_type": "execute_result"
    }
   ],
   "source": [
    "rst_det_avg"
   ]
  },
  {
   "cell_type": "code",
   "execution_count": 51,
   "metadata": {},
   "outputs": [
    {
     "data": {
      "text/plain": [
       "array([ 9679.55147392, 10328.49081217, 10820.89169617, 11153.96884232,\n",
       "       11580.42077273, 12045.20875055, 12461.86110309, 12987.29072144,\n",
       "       13224.69032951, 13876.40959319])"
      ]
     },
     "execution_count": 51,
     "metadata": {},
     "output_type": "execute_result"
    }
   ],
   "source": [
    "rst_saa_avg"
   ]
  },
  {
   "cell_type": "code",
   "execution_count": 57,
   "metadata": {},
   "outputs": [
    {
     "data": {
      "text/plain": [
       "array([11153.42591043, 11128.90876298, 10968.73433693, 10828.01027212,\n",
       "       10730.5931317 , 10668.63305956, 10665.94972725, 10665.94972725,\n",
       "       10665.94972725, 10665.94972725])"
      ]
     },
     "execution_count": 57,
     "metadata": {},
     "output_type": "execute_result"
    }
   ],
   "source": [
    "np.mean(rst_wass_vns[0.8],axis = 0)"
   ]
  },
  {
   "cell_type": "code",
   "execution_count": 59,
   "metadata": {},
   "outputs": [
    {
     "data": {
      "text/plain": [
       "0    11153.425910\n",
       "1    11128.908763\n",
       "2    10968.734337\n",
       "3    10828.010272\n",
       "4    10730.593132\n",
       "5    10668.633060\n",
       "6    10665.949727\n",
       "7    10665.949727\n",
       "8    10665.949727\n",
       "9    10665.949727\n",
       "Name: 0.8, dtype: float64"
      ]
     },
     "execution_count": 59,
     "metadata": {},
     "output_type": "execute_result"
    }
   ],
   "source": [
    "rst_wass_vns_avg[0.8]"
   ]
  },
  {
   "cell_type": "code",
   "execution_count": 68,
   "metadata": {},
   "outputs": [],
   "source": [
    "tft_avg_all.to_csv(project_path + '/data/tft_avg_all.csv')\n",
    "tft_quan75_all.to_csv(project_path + '/data/tft_quan75_all.csv')\n",
    "tft_quan95_all.to_csv(project_path + '/data/tft_quan95_all.csv')\n",
    "\n",
    "# tft_affine_avg_all.to_csv(project_path + '/data/tft_affine_avg_all.csv')\n",
    "# tft_affine_quan75_all.to_csv(project_path + '/data/tft_affine_quan75_all.csv')\n",
    "# tft_affine_quan95_all.to_csv(project_path + '/data/tft_affine_quan95_all.csv')"
   ]
  },
  {
   "cell_type": "code",
   "execution_count": 69,
   "metadata": {},
   "outputs": [],
   "source": [
    "tft_avg_ratio_all = copy.deepcopy(tft_avg_all)\n",
    "tft_quan75_ratio_all = copy.deepcopy(tft_quan75_all)\n",
    "tft_quan95_ratio_all = copy.deepcopy(tft_quan95_all)\n",
    "\n",
    "# tft_affine_avg_ratio_all = copy.deepcopy(tft_affine_avg_all)\n",
    "# tft_affine_quan75_ratio_all = copy.deepcopy(tft_affine_quan75_all)\n",
    "# tft_affine_quan95_ratio_all = copy.deepcopy(tft_affine_quan95_all)\n",
    "for i in range(23):\n",
    "    tft_avg_ratio_all.iloc[i] = tft_avg_all.iloc[i]/tft_avg_all.iloc[0]\n",
    "    tft_quan75_ratio_all.iloc[i] = tft_quan75_all.iloc[i]/tft_quan75_all.iloc[0]\n",
    "    tft_quan95_ratio_all.iloc[i] = tft_quan95_all.iloc[i]/tft_quan95_all.iloc[0]\n",
    "\n",
    "    # if i < 20:\n",
    "    #     tft_affine_avg_ratio_all.iloc[i] = tft_affine_avg_all.iloc[i]/tft_avg_all.iloc[0]\n",
    "    #     tft_affine_quan75_ratio_all.iloc[i] = tft_affine_quan75_all.iloc[i]/tft_quan75_all.iloc[0]\n",
    "    #     tft_affine_quan95_ratio_all.iloc[i] = tft_affine_quan95_all.iloc[i]/tft_quan95_all.iloc[0]"
   ]
  },
  {
   "cell_type": "code",
   "execution_count": 70,
   "metadata": {},
   "outputs": [],
   "source": [
    "tft_avg_ratio_all.to_csv(project_path + '/data/tft_avg_ratio_all.csv')\n",
    "tft_quan75_ratio_all.to_csv(project_path + '/data/tft_quan75_ratio_all.csv')\n",
    "tft_quan95_ratio_all.to_csv(project_path + '/data/tft_quan95_ratio_all.csv')\n"
   ]
  },
  {
   "cell_type": "markdown",
   "metadata": {},
   "source": [
    "# effect of processing mad"
   ]
  },
  {
   "cell_type": "code",
   "execution_count": 68,
   "metadata": {},
   "outputs": [],
   "source": [
    "project_path = '/Users/zhangxun/Desktop/IJPR/det_release/delta_sigma_p'\n",
    "n = 10 # num of jobs\n",
    "delta_mu = 4 # control lb of mean processing time\n",
    "delta_r = 0.05 # control ub of the release time\n",
    "delta_ep = 1.5 # control the upper bound of the mad\n",
    "S_train = 30\n",
    "S_test = 10000\n",
    "iterations = 10"
   ]
  },
  {
   "cell_type": "code",
   "execution_count": 69,
   "metadata": {},
   "outputs": [],
   "source": [
    "Seed = 70\n",
    "it = 0\n",
    "ins = 0\n",
    "full_path = project_path + '/data/seed='+str(Seed)+'/ins='+str(ins) + '/it='+str(it)+'/S_train='+str(S_train)+'/n='+str(n)+'delta_mu='+str(delta_mu)+'delta_r='+str(delta_r)+'delta_ep='+str(delta_ep)\n",
    "tft_df = pd.read_csv(full_path+'tft.csv')\n"
   ]
  },
  {
   "cell_type": "code",
   "execution_count": 4,
   "metadata": {},
   "outputs": [
    {
     "data": {
      "text/html": [
       "<div>\n",
       "<style scoped>\n",
       "    .dataframe tbody tr th:only-of-type {\n",
       "        vertical-align: middle;\n",
       "    }\n",
       "\n",
       "    .dataframe tbody tr th {\n",
       "        vertical-align: top;\n",
       "    }\n",
       "\n",
       "    .dataframe thead th {\n",
       "        text-align: right;\n",
       "    }\n",
       "</style>\n",
       "<table border=\"1\" class=\"dataframe\">\n",
       "  <thead>\n",
       "    <tr style=\"text-align: right;\">\n",
       "      <th></th>\n",
       "      <th>Unnamed: 0</th>\n",
       "      <th>det</th>\n",
       "      <th>saa</th>\n",
       "      <th>mom</th>\n",
       "      <th>wass_489.2535902871846</th>\n",
       "    </tr>\n",
       "  </thead>\n",
       "  <tbody>\n",
       "    <tr>\n",
       "      <th>0</th>\n",
       "      <td>0</td>\n",
       "      <td>1991.243561</td>\n",
       "      <td>1991.243561</td>\n",
       "      <td>2050.341984</td>\n",
       "      <td>2042.934992</td>\n",
       "    </tr>\n",
       "    <tr>\n",
       "      <th>1</th>\n",
       "      <td>1</td>\n",
       "      <td>2560.824748</td>\n",
       "      <td>2560.824748</td>\n",
       "      <td>2575.599525</td>\n",
       "      <td>2894.031960</td>\n",
       "    </tr>\n",
       "    <tr>\n",
       "      <th>2</th>\n",
       "      <td>2</td>\n",
       "      <td>2317.143569</td>\n",
       "      <td>2317.143569</td>\n",
       "      <td>2283.704315</td>\n",
       "      <td>2431.032977</td>\n",
       "    </tr>\n",
       "    <tr>\n",
       "      <th>3</th>\n",
       "      <td>3</td>\n",
       "      <td>2523.811177</td>\n",
       "      <td>2523.811177</td>\n",
       "      <td>2509.779428</td>\n",
       "      <td>2465.802645</td>\n",
       "    </tr>\n",
       "    <tr>\n",
       "      <th>4</th>\n",
       "      <td>4</td>\n",
       "      <td>2173.900255</td>\n",
       "      <td>2173.900255</td>\n",
       "      <td>2300.676925</td>\n",
       "      <td>1988.560506</td>\n",
       "    </tr>\n",
       "    <tr>\n",
       "      <th>...</th>\n",
       "      <td>...</td>\n",
       "      <td>...</td>\n",
       "      <td>...</td>\n",
       "      <td>...</td>\n",
       "      <td>...</td>\n",
       "    </tr>\n",
       "    <tr>\n",
       "      <th>9965</th>\n",
       "      <td>9965</td>\n",
       "      <td>3327.151131</td>\n",
       "      <td>3327.151131</td>\n",
       "      <td>3310.919830</td>\n",
       "      <td>3265.640858</td>\n",
       "    </tr>\n",
       "    <tr>\n",
       "      <th>9966</th>\n",
       "      <td>9966</td>\n",
       "      <td>2877.659583</td>\n",
       "      <td>2877.659583</td>\n",
       "      <td>2841.093705</td>\n",
       "      <td>2928.487667</td>\n",
       "    </tr>\n",
       "    <tr>\n",
       "      <th>9967</th>\n",
       "      <td>9967</td>\n",
       "      <td>2922.758111</td>\n",
       "      <td>2922.758111</td>\n",
       "      <td>2972.414928</td>\n",
       "      <td>3062.061237</td>\n",
       "    </tr>\n",
       "    <tr>\n",
       "      <th>9968</th>\n",
       "      <td>9968</td>\n",
       "      <td>3529.345212</td>\n",
       "      <td>3529.345212</td>\n",
       "      <td>3582.367538</td>\n",
       "      <td>3181.797968</td>\n",
       "    </tr>\n",
       "    <tr>\n",
       "      <th>9969</th>\n",
       "      <td>9969</td>\n",
       "      <td>2339.737962</td>\n",
       "      <td>2339.737962</td>\n",
       "      <td>2296.129158</td>\n",
       "      <td>2246.346368</td>\n",
       "    </tr>\n",
       "  </tbody>\n",
       "</table>\n",
       "<p>9970 rows × 5 columns</p>\n",
       "</div>"
      ],
      "text/plain": [
       "      Unnamed: 0          det          saa          mom  \\\n",
       "0              0  1991.243561  1991.243561  2050.341984   \n",
       "1              1  2560.824748  2560.824748  2575.599525   \n",
       "2              2  2317.143569  2317.143569  2283.704315   \n",
       "3              3  2523.811177  2523.811177  2509.779428   \n",
       "4              4  2173.900255  2173.900255  2300.676925   \n",
       "...          ...          ...          ...          ...   \n",
       "9965        9965  3327.151131  3327.151131  3310.919830   \n",
       "9966        9966  2877.659583  2877.659583  2841.093705   \n",
       "9967        9967  2922.758111  2922.758111  2972.414928   \n",
       "9968        9968  3529.345212  3529.345212  3582.367538   \n",
       "9969        9969  2339.737962  2339.737962  2296.129158   \n",
       "\n",
       "      wass_489.2535902871846  \n",
       "0                2042.934992  \n",
       "1                2894.031960  \n",
       "2                2431.032977  \n",
       "3                2465.802645  \n",
       "4                1988.560506  \n",
       "...                      ...  \n",
       "9965             3265.640858  \n",
       "9966             2928.487667  \n",
       "9967             3062.061237  \n",
       "9968             3181.797968  \n",
       "9969             2246.346368  \n",
       "\n",
       "[9970 rows x 5 columns]"
      ]
     },
     "execution_count": 4,
     "metadata": {},
     "output_type": "execute_result"
    }
   ],
   "source": [
    "tft_df"
   ]
  },
  {
   "cell_type": "code",
   "execution_count": 7,
   "metadata": {},
   "outputs": [
    {
     "data": {
      "text/plain": [
       "Index(['Unnamed: 0', 'det', 'saa', 'mom', 'wass_489.2535902871846'], dtype='object')"
      ]
     },
     "execution_count": 7,
     "metadata": {},
     "output_type": "execute_result"
    }
   ],
   "source": [
    "[N_s,N_c] = np.shape(tft_df.values)\n",
    "tft_df.columns"
   ]
  },
  {
   "cell_type": "code",
   "execution_count": 8,
   "metadata": {},
   "outputs": [
    {
     "data": {
      "text/plain": [
       "array(['Unnamed: 0', 'det', 'saa', 'mom', 'wass_489.2535902871846'],\n",
       "      dtype=object)"
      ]
     },
     "execution_count": 8,
     "metadata": {},
     "output_type": "execute_result"
    }
   ],
   "source": [
    "tft_df.columns.values\n"
   ]
  },
  {
   "cell_type": "code",
   "execution_count": 70,
   "metadata": {},
   "outputs": [
    {
     "name": "stdout",
     "output_type": "stream",
     "text": [
      "{'det': 0.007964372634887695, 'saa': 0.02291417121887207, 'mom': 0.0949399471282959, 'wass': [2.1790530681610107]}\n",
      "{'det': 0.001825094223022461, 'saa': 0.0332331657409668, 'mom': 0.025277137756347656, 'wass': [1.3425757884979248]}\n",
      "{'det': 0.001882791519165039, 'saa': 0.023546218872070312, 'mom': 0.051043033599853516, 'wass': [4.267728805541992]}\n",
      "{'det': 0.0032062530517578125, 'saa': 0.06666398048400879, 'mom': 1.4807610511779785, 'wass': [16.03339695930481]}\n",
      "{'det': 0.0032129287719726562, 'saa': 0.06231117248535156, 'mom': 0.5386219024658203, 'wass': [13.839931964874268]}\n",
      "{'det': 0.0048291683197021484, 'saa': 0.05794715881347656, 'mom': 0.4586060047149658, 'wass': [21.98773694038391]}\n",
      "{'det': 0.005785226821899414, 'saa': 0.09418582916259766, 'mom': 3.7657229900360107, 'wass': [46.85750699043274]}\n",
      "{'det': 0.004395008087158203, 'saa': 0.11473417282104492, 'mom': 3.5839810371398926, 'wass': [71.47983884811401]}\n",
      "{'det': 0.016607046127319336, 'saa': 0.17585468292236328, 'mom': 1.1234068870544434, 'wass': [62.37081289291382]}\n"
     ]
    }
   ],
   "source": [
    "n_all = [10,15,20]\n",
    "df_final = {}\n",
    "for n in n_all:\n",
    "    ins = 0\n",
    "    Seed = 70 + ins\n",
    "    delta_ep_all = [1.5,2,2.5]\n",
    "    for delta_ep in delta_ep_all:\n",
    "        it = 0\n",
    "        full_path = project_path + '/data/seed='+str(Seed)+'/ins='+str(ins) + '/it='+str(it)+'/S_train='+str(S_train)+'/n='+str(n)+'delta_mu='+str(delta_mu)+'delta_r='+str(delta_r)+'delta_ep='+str(delta_ep)\n",
    "        with open(full_path+'cpu_time.pkl', \"rb\") as tf:\n",
    "            cpu_time = pickle.load(tf)\n",
    "        print('n=',n,'',cpu_time)"
   ]
  },
  {
   "cell_type": "code",
   "execution_count": 49,
   "metadata": {},
   "outputs": [
    {
     "name": "stderr",
     "output_type": "stream",
     "text": [
      "/var/folders/m2/j39mx9854cbb70jqvn7cjcqh0000gn/T/ipykernel_49670/187074162.py:20: SettingWithCopyWarning: \n",
      "A value is trying to be set on a copy of a slice from a DataFrame\n",
      "\n",
      "See the caveats in the documentation: https://pandas.pydata.org/pandas-docs/stable/user_guide/indexing.html#returning-a-view-versus-a-copy\n",
      "  df['delta_ep'][i*N_s:(i+1)*N_s] = np.ones(N_s)*delta_ep\n",
      "/var/folders/m2/j39mx9854cbb70jqvn7cjcqh0000gn/T/ipykernel_49670/187074162.py:18: SettingWithCopyWarning: \n",
      "A value is trying to be set on a copy of a slice from a DataFrame\n",
      "\n",
      "See the caveats in the documentation: https://pandas.pydata.org/pandas-docs/stable/user_guide/indexing.html#returning-a-view-versus-a-copy\n",
      "  df['tft'][i*N_s:(i+1)*N_s] = tft_df[col_vector[i]]\n",
      "/var/folders/m2/j39mx9854cbb70jqvn7cjcqh0000gn/T/ipykernel_49670/187074162.py:20: SettingWithCopyWarning: \n",
      "A value is trying to be set on a copy of a slice from a DataFrame\n",
      "\n",
      "See the caveats in the documentation: https://pandas.pydata.org/pandas-docs/stable/user_guide/indexing.html#returning-a-view-versus-a-copy\n",
      "  df['delta_ep'][i*N_s:(i+1)*N_s] = np.ones(N_s)*delta_ep\n",
      "/var/folders/m2/j39mx9854cbb70jqvn7cjcqh0000gn/T/ipykernel_49670/187074162.py:18: SettingWithCopyWarning: \n",
      "A value is trying to be set on a copy of a slice from a DataFrame\n",
      "\n",
      "See the caveats in the documentation: https://pandas.pydata.org/pandas-docs/stable/user_guide/indexing.html#returning-a-view-versus-a-copy\n",
      "  df['tft'][i*N_s:(i+1)*N_s] = tft_df[col_vector[i]]\n",
      "/var/folders/m2/j39mx9854cbb70jqvn7cjcqh0000gn/T/ipykernel_49670/187074162.py:20: SettingWithCopyWarning: \n",
      "A value is trying to be set on a copy of a slice from a DataFrame\n",
      "\n",
      "See the caveats in the documentation: https://pandas.pydata.org/pandas-docs/stable/user_guide/indexing.html#returning-a-view-versus-a-copy\n",
      "  df['delta_ep'][i*N_s:(i+1)*N_s] = np.ones(N_s)*delta_ep\n",
      "/var/folders/m2/j39mx9854cbb70jqvn7cjcqh0000gn/T/ipykernel_49670/187074162.py:18: SettingWithCopyWarning: \n",
      "A value is trying to be set on a copy of a slice from a DataFrame\n",
      "\n",
      "See the caveats in the documentation: https://pandas.pydata.org/pandas-docs/stable/user_guide/indexing.html#returning-a-view-versus-a-copy\n",
      "  df['tft'][i*N_s:(i+1)*N_s] = tft_df[col_vector[i]]\n",
      "/var/folders/m2/j39mx9854cbb70jqvn7cjcqh0000gn/T/ipykernel_49670/187074162.py:20: SettingWithCopyWarning: \n",
      "A value is trying to be set on a copy of a slice from a DataFrame\n",
      "\n",
      "See the caveats in the documentation: https://pandas.pydata.org/pandas-docs/stable/user_guide/indexing.html#returning-a-view-versus-a-copy\n",
      "  df['delta_ep'][i*N_s:(i+1)*N_s] = np.ones(N_s)*delta_ep\n",
      "/var/folders/m2/j39mx9854cbb70jqvn7cjcqh0000gn/T/ipykernel_49670/187074162.py:18: SettingWithCopyWarning: \n",
      "A value is trying to be set on a copy of a slice from a DataFrame\n",
      "\n",
      "See the caveats in the documentation: https://pandas.pydata.org/pandas-docs/stable/user_guide/indexing.html#returning-a-view-versus-a-copy\n",
      "  df['tft'][i*N_s:(i+1)*N_s] = tft_df[col_vector[i]]\n",
      "/var/folders/m2/j39mx9854cbb70jqvn7cjcqh0000gn/T/ipykernel_49670/187074162.py:20: SettingWithCopyWarning: \n",
      "A value is trying to be set on a copy of a slice from a DataFrame\n",
      "\n",
      "See the caveats in the documentation: https://pandas.pydata.org/pandas-docs/stable/user_guide/indexing.html#returning-a-view-versus-a-copy\n",
      "  df['delta_ep'][i*N_s:(i+1)*N_s] = np.ones(N_s)*delta_ep\n",
      "/var/folders/m2/j39mx9854cbb70jqvn7cjcqh0000gn/T/ipykernel_49670/187074162.py:18: SettingWithCopyWarning: \n",
      "A value is trying to be set on a copy of a slice from a DataFrame\n",
      "\n",
      "See the caveats in the documentation: https://pandas.pydata.org/pandas-docs/stable/user_guide/indexing.html#returning-a-view-versus-a-copy\n",
      "  df['tft'][i*N_s:(i+1)*N_s] = tft_df[col_vector[i]]\n",
      "/var/folders/m2/j39mx9854cbb70jqvn7cjcqh0000gn/T/ipykernel_49670/187074162.py:20: SettingWithCopyWarning: \n",
      "A value is trying to be set on a copy of a slice from a DataFrame\n",
      "\n",
      "See the caveats in the documentation: https://pandas.pydata.org/pandas-docs/stable/user_guide/indexing.html#returning-a-view-versus-a-copy\n",
      "  df['delta_ep'][i*N_s:(i+1)*N_s] = np.ones(N_s)*delta_ep\n",
      "/var/folders/m2/j39mx9854cbb70jqvn7cjcqh0000gn/T/ipykernel_49670/187074162.py:18: SettingWithCopyWarning: \n",
      "A value is trying to be set on a copy of a slice from a DataFrame\n",
      "\n",
      "See the caveats in the documentation: https://pandas.pydata.org/pandas-docs/stable/user_guide/indexing.html#returning-a-view-versus-a-copy\n",
      "  df['tft'][i*N_s:(i+1)*N_s] = tft_df[col_vector[i]]\n",
      "/var/folders/m2/j39mx9854cbb70jqvn7cjcqh0000gn/T/ipykernel_49670/187074162.py:20: SettingWithCopyWarning: \n",
      "A value is trying to be set on a copy of a slice from a DataFrame\n",
      "\n",
      "See the caveats in the documentation: https://pandas.pydata.org/pandas-docs/stable/user_guide/indexing.html#returning-a-view-versus-a-copy\n",
      "  df['delta_ep'][i*N_s:(i+1)*N_s] = np.ones(N_s)*delta_ep\n",
      "/var/folders/m2/j39mx9854cbb70jqvn7cjcqh0000gn/T/ipykernel_49670/187074162.py:18: SettingWithCopyWarning: \n",
      "A value is trying to be set on a copy of a slice from a DataFrame\n",
      "\n",
      "See the caveats in the documentation: https://pandas.pydata.org/pandas-docs/stable/user_guide/indexing.html#returning-a-view-versus-a-copy\n",
      "  df['tft'][i*N_s:(i+1)*N_s] = tft_df[col_vector[i]]\n",
      "/var/folders/m2/j39mx9854cbb70jqvn7cjcqh0000gn/T/ipykernel_49670/187074162.py:20: SettingWithCopyWarning: \n",
      "A value is trying to be set on a copy of a slice from a DataFrame\n",
      "\n",
      "See the caveats in the documentation: https://pandas.pydata.org/pandas-docs/stable/user_guide/indexing.html#returning-a-view-versus-a-copy\n",
      "  df['delta_ep'][i*N_s:(i+1)*N_s] = np.ones(N_s)*delta_ep\n",
      "/var/folders/m2/j39mx9854cbb70jqvn7cjcqh0000gn/T/ipykernel_49670/187074162.py:18: SettingWithCopyWarning: \n",
      "A value is trying to be set on a copy of a slice from a DataFrame\n",
      "\n",
      "See the caveats in the documentation: https://pandas.pydata.org/pandas-docs/stable/user_guide/indexing.html#returning-a-view-versus-a-copy\n",
      "  df['tft'][i*N_s:(i+1)*N_s] = tft_df[col_vector[i]]\n",
      "/var/folders/m2/j39mx9854cbb70jqvn7cjcqh0000gn/T/ipykernel_49670/187074162.py:20: SettingWithCopyWarning: \n",
      "A value is trying to be set on a copy of a slice from a DataFrame\n",
      "\n",
      "See the caveats in the documentation: https://pandas.pydata.org/pandas-docs/stable/user_guide/indexing.html#returning-a-view-versus-a-copy\n",
      "  df['delta_ep'][i*N_s:(i+1)*N_s] = np.ones(N_s)*delta_ep\n",
      "/var/folders/m2/j39mx9854cbb70jqvn7cjcqh0000gn/T/ipykernel_49670/187074162.py:18: SettingWithCopyWarning: \n",
      "A value is trying to be set on a copy of a slice from a DataFrame\n",
      "\n",
      "See the caveats in the documentation: https://pandas.pydata.org/pandas-docs/stable/user_guide/indexing.html#returning-a-view-versus-a-copy\n",
      "  df['tft'][i*N_s:(i+1)*N_s] = tft_df[col_vector[i]]\n"
     ]
    }
   ],
   "source": [
    "n_all = [10,15,20]\n",
    "df_final = {}\n",
    "for n in n_all:\n",
    "    ins = 0\n",
    "    Seed = 70 + ins\n",
    "    df_set = {}\n",
    "    delta_ep_all = [1.5,2,2.5]\n",
    "    for delta_ep in delta_ep_all:\n",
    "        it = 0\n",
    "        full_path = project_path + '/data/seed='+str(Seed)+'/ins='+str(ins) + '/it='+str(it)+'/S_train='+str(S_train)+'/n='+str(n)+'delta_mu='+str(delta_mu)+'delta_r='+str(delta_r)+'delta_ep='+str(delta_ep)\n",
    "        tft_df = pd.read_csv(full_path+'tft.csv')\n",
    "        df = pd.DataFrame(np.zeros((N_s * 4,3)))\n",
    "        col_vector = tft_df.columns.values\n",
    "        col_names = [r'$DET$', r'$SAA$', r'$MM$',r'$DW_{0.5}$']\n",
    "        col_vector = ['det', 'saa', 'mom',col_vector[4]]\n",
    "        df.columns = ['tft','appro','delta_ep']\n",
    "        for i in range(4):\n",
    "            df['tft'][i*N_s:(i+1)*N_s] = tft_df[col_vector[i]]\n",
    "            df['appro'][i*N_s:(i+1)*N_s] = np.asarray([col_names[i] for ind in range(N_s)])\n",
    "            df['delta_ep'][i*N_s:(i+1)*N_s] = np.ones(N_s)*delta_ep\n",
    "        df_set[delta_ep] = copy.deepcopy(df)\n",
    "    df_final[n] = pd.concat([df_set[delta_ep] for delta_ep in delta_ep_all])\n"
   ]
  },
  {
   "cell_type": "code",
   "execution_count": 34,
   "metadata": {},
   "outputs": [
    {
     "data": {
      "text/html": [
       "<div>\n",
       "<style scoped>\n",
       "    .dataframe tbody tr th:only-of-type {\n",
       "        vertical-align: middle;\n",
       "    }\n",
       "\n",
       "    .dataframe tbody tr th {\n",
       "        vertical-align: top;\n",
       "    }\n",
       "\n",
       "    .dataframe thead th {\n",
       "        text-align: right;\n",
       "    }\n",
       "</style>\n",
       "<table border=\"1\" class=\"dataframe\">\n",
       "  <thead>\n",
       "    <tr style=\"text-align: right;\">\n",
       "      <th></th>\n",
       "      <th>tft</th>\n",
       "      <th>appro</th>\n",
       "      <th>delta_ep</th>\n",
       "    </tr>\n",
       "  </thead>\n",
       "  <tbody>\n",
       "    <tr>\n",
       "      <th>0</th>\n",
       "      <td>9871.551911</td>\n",
       "      <td>DET</td>\n",
       "      <td>1.5</td>\n",
       "    </tr>\n",
       "    <tr>\n",
       "      <th>1</th>\n",
       "      <td>9140.191878</td>\n",
       "      <td>DET</td>\n",
       "      <td>1.5</td>\n",
       "    </tr>\n",
       "    <tr>\n",
       "      <th>2</th>\n",
       "      <td>10834.165620</td>\n",
       "      <td>DET</td>\n",
       "      <td>1.5</td>\n",
       "    </tr>\n",
       "    <tr>\n",
       "      <th>3</th>\n",
       "      <td>8466.561811</td>\n",
       "      <td>DET</td>\n",
       "      <td>1.5</td>\n",
       "    </tr>\n",
       "    <tr>\n",
       "      <th>4</th>\n",
       "      <td>10266.980867</td>\n",
       "      <td>DET</td>\n",
       "      <td>1.5</td>\n",
       "    </tr>\n",
       "    <tr>\n",
       "      <th>...</th>\n",
       "      <td>...</td>\n",
       "      <td>...</td>\n",
       "      <td>...</td>\n",
       "    </tr>\n",
       "    <tr>\n",
       "      <th>39875</th>\n",
       "      <td>9866.868148</td>\n",
       "      <td>DW\\_{0.5}</td>\n",
       "      <td>2.5</td>\n",
       "    </tr>\n",
       "    <tr>\n",
       "      <th>39876</th>\n",
       "      <td>13979.585098</td>\n",
       "      <td>DW\\_{0.5}</td>\n",
       "      <td>2.5</td>\n",
       "    </tr>\n",
       "    <tr>\n",
       "      <th>39877</th>\n",
       "      <td>9309.673538</td>\n",
       "      <td>DW\\_{0.5}</td>\n",
       "      <td>2.5</td>\n",
       "    </tr>\n",
       "    <tr>\n",
       "      <th>39878</th>\n",
       "      <td>9806.842850</td>\n",
       "      <td>DW\\_{0.5}</td>\n",
       "      <td>2.5</td>\n",
       "    </tr>\n",
       "    <tr>\n",
       "      <th>39879</th>\n",
       "      <td>9459.728221</td>\n",
       "      <td>DW\\_{0.5}</td>\n",
       "      <td>2.5</td>\n",
       "    </tr>\n",
       "  </tbody>\n",
       "</table>\n",
       "<p>119640 rows × 3 columns</p>\n",
       "</div>"
      ],
      "text/plain": [
       "                tft      appro  delta_ep\n",
       "0       9871.551911        DET       1.5\n",
       "1       9140.191878        DET       1.5\n",
       "2      10834.165620        DET       1.5\n",
       "3       8466.561811        DET       1.5\n",
       "4      10266.980867        DET       1.5\n",
       "...             ...        ...       ...\n",
       "39875   9866.868148  DW\\_{0.5}       2.5\n",
       "39876  13979.585098  DW\\_{0.5}       2.5\n",
       "39877   9309.673538  DW\\_{0.5}       2.5\n",
       "39878   9806.842850  DW\\_{0.5}       2.5\n",
       "39879   9459.728221  DW\\_{0.5}       2.5\n",
       "\n",
       "[119640 rows x 3 columns]"
      ]
     },
     "execution_count": 34,
     "metadata": {},
     "output_type": "execute_result"
    }
   ],
   "source": [
    "df_final[n]"
   ]
  },
  {
   "cell_type": "code",
   "execution_count": 11,
   "metadata": {},
   "outputs": [],
   "source": [
    "import seaborn as sns"
   ]
  },
  {
   "cell_type": "code",
   "execution_count": 60,
   "metadata": {},
   "outputs": [],
   "source": [
    "def plot_group_box(df_final,n_all,fixed_name):\n",
    "    \n",
    "    # Plot grouped box plot\n",
    "    font_size = 20\n",
    "    tick_size = 16\n",
    "    line_width = 1\n",
    "    my_pal = { r'$DET$':\"m\",r'$MM$':\"c\",r'$SAA$': \"b\", r'$DW_{0.5}$': \"r\"}\n",
    "    # my_pal = { \"Forest\":\"m\",\"RobustTreeAffine\": \"r\", \"RobustStatic\": \"b\"}\n",
    "    \n",
    "    num_n = len(n_all)\n",
    "    fig,ax = plt.subplots(1,num_n,figsize=(12, 8))\n",
    "    for i in range(num_n):\n",
    "        graphic = sns.boxplot(x=fixed_name, y='tft',hue = 'appro', data=df_final[n_all[i]],palette=my_pal,\\\n",
    "                                width = 0.75,showmeans = True,meanline = True, \\\n",
    "                                meanprops = {'linestyle':'--','color':'gold','linewidth':line_width},\\\n",
    "                                showfliers = False,\\\n",
    "                                medianprops = {'linestyle':'-','color':'k','linewidth':line_width},\n",
    "                                linewidth = line_width,ax=ax[i])\n",
    "        graphic.set_xlabel(r'$\\delta_{r}$',fontsize = font_size)\n",
    "        graphic.xaxis.set_tick_params(labelsize=tick_size)\n",
    "        if i == 0:\n",
    "            graphic.set_ylabel('Total completion time',fontsize = font_size+2)\n",
    "        else:\n",
    "            graphic.set_ylabel('')\n",
    "        graphic.yaxis.set_tick_params(labelsize=tick_size)\n",
    "        graphic.set_title(r'$n=$'+str(n_all[i]),fontsize = font_size+4)\n",
    "        # graphic.set_yscale('log')\n",
    "        sns.color_palette('pastel')\n",
    "        if i == 0:\n",
    "            graphic.legend([])\n",
    "        else:\n",
    "            # graphic.legend(n_cols = 2)\n",
    "            graphic.legend(loc=7,fontsize = tick_size, bbox_to_anchor=(1.4,0.5),borderaxespad = 0.)\n",
    "    plt.subplots_adjust(hspace=0.2,wspace=0.3)\n",
    "    # plt.savefig('impact_mad_r.pdf')\n",
    "    plt.show()\n"
   ]
  },
  {
   "cell_type": "code",
   "execution_count": 52,
   "metadata": {},
   "outputs": [
    {
     "data": {
      "image/png": "[encoded data removed]",
      "text/plain": [
       "<Figure size 1200x800 with 2 Axes>"
      ]
     },
     "metadata": {},
     "output_type": "display_data"
    }
   ],
   "source": [
    "n_all = [10,20]\n",
    "plot_group_box(df_final,n_all,'delta_ep')"
   ]
  },
  {
   "cell_type": "markdown",
   "metadata": {},
   "source": [
    "# impact of mad_r"
   ]
  },
  {
   "cell_type": "code",
   "execution_count": 53,
   "metadata": {},
   "outputs": [],
   "source": [
    "n = 10 # num of jobs\n",
    "delta_mu = 4 # control lb of mean processing time\n",
    "delta_r = 0.2 # control ub of the release time\n",
    "delta_ep = 1.5 # control the upper bound of the mad\n",
    "S_train = 30\n",
    "S_test = 10000\n",
    "iterations = 10\n"
   ]
  },
  {
   "cell_type": "code",
   "execution_count": 54,
   "metadata": {},
   "outputs": [],
   "source": [
    "project_path = '/Users/zhangxun/Desktop/IJPR/det_release/sample_size_delta_r'\n",
    "\n",
    "Seed = 70\n",
    "it = 0\n",
    "ins = 0\n",
    "full_path = project_path + '/data/seed='+str(Seed)+'/ins='+str(ins) + '/it='+str(it)+'/S_train='+str(S_train)+'/n='+str(n)+'delta_mu='+str(delta_mu)+'delta_r='+str(delta_r)+'delta_ep='+str(delta_ep)\n",
    "tft_df = pd.read_csv(full_path+'tft.csv')"
   ]
  },
  {
   "cell_type": "code",
   "execution_count": 55,
   "metadata": {},
   "outputs": [
    {
     "data": {
      "text/html": [
       "<div>\n",
       "<style scoped>\n",
       "    .dataframe tbody tr th:only-of-type {\n",
       "        vertical-align: middle;\n",
       "    }\n",
       "\n",
       "    .dataframe tbody tr th {\n",
       "        vertical-align: top;\n",
       "    }\n",
       "\n",
       "    .dataframe thead th {\n",
       "        text-align: right;\n",
       "    }\n",
       "</style>\n",
       "<table border=\"1\" class=\"dataframe\">\n",
       "  <thead>\n",
       "    <tr style=\"text-align: right;\">\n",
       "      <th></th>\n",
       "      <th>Unnamed: 0</th>\n",
       "      <th>det</th>\n",
       "      <th>saa</th>\n",
       "      <th>mom</th>\n",
       "      <th>wass_344.444356059078</th>\n",
       "    </tr>\n",
       "  </thead>\n",
       "  <tbody>\n",
       "    <tr>\n",
       "      <th>0</th>\n",
       "      <td>0</td>\n",
       "      <td>3141.102963</td>\n",
       "      <td>3126.320051</td>\n",
       "      <td>3375.481439</td>\n",
       "      <td>2939.353616</td>\n",
       "    </tr>\n",
       "    <tr>\n",
       "      <th>1</th>\n",
       "      <td>1</td>\n",
       "      <td>3220.613292</td>\n",
       "      <td>3215.229479</td>\n",
       "      <td>3129.841991</td>\n",
       "      <td>3078.728909</td>\n",
       "    </tr>\n",
       "    <tr>\n",
       "      <th>2</th>\n",
       "      <td>2</td>\n",
       "      <td>2894.630735</td>\n",
       "      <td>2898.450438</td>\n",
       "      <td>2599.639676</td>\n",
       "      <td>2850.377515</td>\n",
       "    </tr>\n",
       "    <tr>\n",
       "      <th>3</th>\n",
       "      <td>3</td>\n",
       "      <td>3604.285944</td>\n",
       "      <td>3556.125173</td>\n",
       "      <td>3745.996159</td>\n",
       "      <td>2994.918009</td>\n",
       "    </tr>\n",
       "    <tr>\n",
       "      <th>4</th>\n",
       "      <td>4</td>\n",
       "      <td>3298.426104</td>\n",
       "      <td>3260.492132</td>\n",
       "      <td>2975.167515</td>\n",
       "      <td>3080.432138</td>\n",
       "    </tr>\n",
       "    <tr>\n",
       "      <th>...</th>\n",
       "      <td>...</td>\n",
       "      <td>...</td>\n",
       "      <td>...</td>\n",
       "      <td>...</td>\n",
       "      <td>...</td>\n",
       "    </tr>\n",
       "    <tr>\n",
       "      <th>9965</th>\n",
       "      <td>9965</td>\n",
       "      <td>2195.831867</td>\n",
       "      <td>2203.271820</td>\n",
       "      <td>2454.627698</td>\n",
       "      <td>2591.114558</td>\n",
       "    </tr>\n",
       "    <tr>\n",
       "      <th>9966</th>\n",
       "      <td>9966</td>\n",
       "      <td>1815.172935</td>\n",
       "      <td>1849.353031</td>\n",
       "      <td>2250.852555</td>\n",
       "      <td>2345.603396</td>\n",
       "    </tr>\n",
       "    <tr>\n",
       "      <th>9967</th>\n",
       "      <td>9967</td>\n",
       "      <td>2014.285512</td>\n",
       "      <td>1963.122164</td>\n",
       "      <td>2331.256438</td>\n",
       "      <td>2795.435185</td>\n",
       "    </tr>\n",
       "    <tr>\n",
       "      <th>9968</th>\n",
       "      <td>9968</td>\n",
       "      <td>4248.981188</td>\n",
       "      <td>4229.678009</td>\n",
       "      <td>3771.489519</td>\n",
       "      <td>3176.873745</td>\n",
       "    </tr>\n",
       "    <tr>\n",
       "      <th>9969</th>\n",
       "      <td>9969</td>\n",
       "      <td>2092.769381</td>\n",
       "      <td>2075.351024</td>\n",
       "      <td>2042.557761</td>\n",
       "      <td>2377.986944</td>\n",
       "    </tr>\n",
       "  </tbody>\n",
       "</table>\n",
       "<p>9970 rows × 5 columns</p>\n",
       "</div>"
      ],
      "text/plain": [
       "      Unnamed: 0          det          saa          mom  wass_344.444356059078\n",
       "0              0  3141.102963  3126.320051  3375.481439            2939.353616\n",
       "1              1  3220.613292  3215.229479  3129.841991            3078.728909\n",
       "2              2  2894.630735  2898.450438  2599.639676            2850.377515\n",
       "3              3  3604.285944  3556.125173  3745.996159            2994.918009\n",
       "4              4  3298.426104  3260.492132  2975.167515            3080.432138\n",
       "...          ...          ...          ...          ...                    ...\n",
       "9965        9965  2195.831867  2203.271820  2454.627698            2591.114558\n",
       "9966        9966  1815.172935  1849.353031  2250.852555            2345.603396\n",
       "9967        9967  2014.285512  1963.122164  2331.256438            2795.435185\n",
       "9968        9968  4248.981188  4229.678009  3771.489519            3176.873745\n",
       "9969        9969  2092.769381  2075.351024  2042.557761            2377.986944\n",
       "\n",
       "[9970 rows x 5 columns]"
      ]
     },
     "execution_count": 55,
     "metadata": {},
     "output_type": "execute_result"
    }
   ],
   "source": [
    "tft_df"
   ]
  },
  {
   "cell_type": "code",
   "execution_count": 10,
   "metadata": {},
   "outputs": [],
   "source": [
    "[N_s,N_c] = np.shape(tft_df.values)"
   ]
  },
  {
   "cell_type": "code",
   "execution_count": 58,
   "metadata": {},
   "outputs": [
    {
     "name": "stderr",
     "output_type": "stream",
     "text": [
      "/var/folders/m2/j39mx9854cbb70jqvn7cjcqh0000gn/T/ipykernel_49670/2416611074.py:20: SettingWithCopyWarning: \n",
      "A value is trying to be set on a copy of a slice from a DataFrame\n",
      "\n",
      "See the caveats in the documentation: https://pandas.pydata.org/pandas-docs/stable/user_guide/indexing.html#returning-a-view-versus-a-copy\n",
      "  df['delta_r'][i*N_s:(i+1)*N_s] = np.ones(N_s)*delta_r\n",
      "/var/folders/m2/j39mx9854cbb70jqvn7cjcqh0000gn/T/ipykernel_49670/2416611074.py:18: SettingWithCopyWarning: \n",
      "A value is trying to be set on a copy of a slice from a DataFrame\n",
      "\n",
      "See the caveats in the documentation: https://pandas.pydata.org/pandas-docs/stable/user_guide/indexing.html#returning-a-view-versus-a-copy\n",
      "  df['tft'][i*N_s:(i+1)*N_s] = tft_df[col_vector[i]]\n",
      "/var/folders/m2/j39mx9854cbb70jqvn7cjcqh0000gn/T/ipykernel_49670/2416611074.py:20: SettingWithCopyWarning: \n",
      "A value is trying to be set on a copy of a slice from a DataFrame\n",
      "\n",
      "See the caveats in the documentation: https://pandas.pydata.org/pandas-docs/stable/user_guide/indexing.html#returning-a-view-versus-a-copy\n",
      "  df['delta_r'][i*N_s:(i+1)*N_s] = np.ones(N_s)*delta_r\n",
      "/var/folders/m2/j39mx9854cbb70jqvn7cjcqh0000gn/T/ipykernel_49670/2416611074.py:18: SettingWithCopyWarning: \n",
      "A value is trying to be set on a copy of a slice from a DataFrame\n",
      "\n",
      "See the caveats in the documentation: https://pandas.pydata.org/pandas-docs/stable/user_guide/indexing.html#returning-a-view-versus-a-copy\n",
      "  df['tft'][i*N_s:(i+1)*N_s] = tft_df[col_vector[i]]\n",
      "/var/folders/m2/j39mx9854cbb70jqvn7cjcqh0000gn/T/ipykernel_49670/2416611074.py:20: SettingWithCopyWarning: \n",
      "A value is trying to be set on a copy of a slice from a DataFrame\n",
      "\n",
      "See the caveats in the documentation: https://pandas.pydata.org/pandas-docs/stable/user_guide/indexing.html#returning-a-view-versus-a-copy\n",
      "  df['delta_r'][i*N_s:(i+1)*N_s] = np.ones(N_s)*delta_r\n",
      "/var/folders/m2/j39mx9854cbb70jqvn7cjcqh0000gn/T/ipykernel_49670/2416611074.py:18: SettingWithCopyWarning: \n",
      "A value is trying to be set on a copy of a slice from a DataFrame\n",
      "\n",
      "See the caveats in the documentation: https://pandas.pydata.org/pandas-docs/stable/user_guide/indexing.html#returning-a-view-versus-a-copy\n",
      "  df['tft'][i*N_s:(i+1)*N_s] = tft_df[col_vector[i]]\n",
      "/var/folders/m2/j39mx9854cbb70jqvn7cjcqh0000gn/T/ipykernel_49670/2416611074.py:20: SettingWithCopyWarning: \n",
      "A value is trying to be set on a copy of a slice from a DataFrame\n",
      "\n",
      "See the caveats in the documentation: https://pandas.pydata.org/pandas-docs/stable/user_guide/indexing.html#returning-a-view-versus-a-copy\n",
      "  df['delta_r'][i*N_s:(i+1)*N_s] = np.ones(N_s)*delta_r\n",
      "/var/folders/m2/j39mx9854cbb70jqvn7cjcqh0000gn/T/ipykernel_49670/2416611074.py:18: SettingWithCopyWarning: \n",
      "A value is trying to be set on a copy of a slice from a DataFrame\n",
      "\n",
      "See the caveats in the documentation: https://pandas.pydata.org/pandas-docs/stable/user_guide/indexing.html#returning-a-view-versus-a-copy\n",
      "  df['tft'][i*N_s:(i+1)*N_s] = tft_df[col_vector[i]]\n",
      "/var/folders/m2/j39mx9854cbb70jqvn7cjcqh0000gn/T/ipykernel_49670/2416611074.py:20: SettingWithCopyWarning: \n",
      "A value is trying to be set on a copy of a slice from a DataFrame\n",
      "\n",
      "See the caveats in the documentation: https://pandas.pydata.org/pandas-docs/stable/user_guide/indexing.html#returning-a-view-versus-a-copy\n",
      "  df['delta_r'][i*N_s:(i+1)*N_s] = np.ones(N_s)*delta_r\n",
      "/var/folders/m2/j39mx9854cbb70jqvn7cjcqh0000gn/T/ipykernel_49670/2416611074.py:18: SettingWithCopyWarning: \n",
      "A value is trying to be set on a copy of a slice from a DataFrame\n",
      "\n",
      "See the caveats in the documentation: https://pandas.pydata.org/pandas-docs/stable/user_guide/indexing.html#returning-a-view-versus-a-copy\n",
      "  df['tft'][i*N_s:(i+1)*N_s] = tft_df[col_vector[i]]\n",
      "/var/folders/m2/j39mx9854cbb70jqvn7cjcqh0000gn/T/ipykernel_49670/2416611074.py:20: SettingWithCopyWarning: \n",
      "A value is trying to be set on a copy of a slice from a DataFrame\n",
      "\n",
      "See the caveats in the documentation: https://pandas.pydata.org/pandas-docs/stable/user_guide/indexing.html#returning-a-view-versus-a-copy\n",
      "  df['delta_r'][i*N_s:(i+1)*N_s] = np.ones(N_s)*delta_r\n",
      "/var/folders/m2/j39mx9854cbb70jqvn7cjcqh0000gn/T/ipykernel_49670/2416611074.py:18: SettingWithCopyWarning: \n",
      "A value is trying to be set on a copy of a slice from a DataFrame\n",
      "\n",
      "See the caveats in the documentation: https://pandas.pydata.org/pandas-docs/stable/user_guide/indexing.html#returning-a-view-versus-a-copy\n",
      "  df['tft'][i*N_s:(i+1)*N_s] = tft_df[col_vector[i]]\n",
      "/var/folders/m2/j39mx9854cbb70jqvn7cjcqh0000gn/T/ipykernel_49670/2416611074.py:20: SettingWithCopyWarning: \n",
      "A value is trying to be set on a copy of a slice from a DataFrame\n",
      "\n",
      "See the caveats in the documentation: https://pandas.pydata.org/pandas-docs/stable/user_guide/indexing.html#returning-a-view-versus-a-copy\n",
      "  df['delta_r'][i*N_s:(i+1)*N_s] = np.ones(N_s)*delta_r\n",
      "/var/folders/m2/j39mx9854cbb70jqvn7cjcqh0000gn/T/ipykernel_49670/2416611074.py:18: SettingWithCopyWarning: \n",
      "A value is trying to be set on a copy of a slice from a DataFrame\n",
      "\n",
      "See the caveats in the documentation: https://pandas.pydata.org/pandas-docs/stable/user_guide/indexing.html#returning-a-view-versus-a-copy\n",
      "  df['tft'][i*N_s:(i+1)*N_s] = tft_df[col_vector[i]]\n",
      "/var/folders/m2/j39mx9854cbb70jqvn7cjcqh0000gn/T/ipykernel_49670/2416611074.py:20: SettingWithCopyWarning: \n",
      "A value is trying to be set on a copy of a slice from a DataFrame\n",
      "\n",
      "See the caveats in the documentation: https://pandas.pydata.org/pandas-docs/stable/user_guide/indexing.html#returning-a-view-versus-a-copy\n",
      "  df['delta_r'][i*N_s:(i+1)*N_s] = np.ones(N_s)*delta_r\n",
      "/var/folders/m2/j39mx9854cbb70jqvn7cjcqh0000gn/T/ipykernel_49670/2416611074.py:18: SettingWithCopyWarning: \n",
      "A value is trying to be set on a copy of a slice from a DataFrame\n",
      "\n",
      "See the caveats in the documentation: https://pandas.pydata.org/pandas-docs/stable/user_guide/indexing.html#returning-a-view-versus-a-copy\n",
      "  df['tft'][i*N_s:(i+1)*N_s] = tft_df[col_vector[i]]\n",
      "/var/folders/m2/j39mx9854cbb70jqvn7cjcqh0000gn/T/ipykernel_49670/2416611074.py:20: SettingWithCopyWarning: \n",
      "A value is trying to be set on a copy of a slice from a DataFrame\n",
      "\n",
      "See the caveats in the documentation: https://pandas.pydata.org/pandas-docs/stable/user_guide/indexing.html#returning-a-view-versus-a-copy\n",
      "  df['delta_r'][i*N_s:(i+1)*N_s] = np.ones(N_s)*delta_r\n",
      "/var/folders/m2/j39mx9854cbb70jqvn7cjcqh0000gn/T/ipykernel_49670/2416611074.py:18: SettingWithCopyWarning: \n",
      "A value is trying to be set on a copy of a slice from a DataFrame\n",
      "\n",
      "See the caveats in the documentation: https://pandas.pydata.org/pandas-docs/stable/user_guide/indexing.html#returning-a-view-versus-a-copy\n",
      "  df['tft'][i*N_s:(i+1)*N_s] = tft_df[col_vector[i]]\n"
     ]
    }
   ],
   "source": [
    "n_all = [10,15,20]\n",
    "df_final = {}\n",
    "for n in n_all:\n",
    "    ins = 0\n",
    "    Seed = 70 + ins\n",
    "    df_set = {}\n",
    "    delta_r_all = [0.05,0.1,0.2]\n",
    "    for delta_r in delta_r_all:\n",
    "        it = 0\n",
    "        full_path = project_path + '/data/seed='+str(Seed)+'/ins='+str(ins) + '/it='+str(it)+'/S_train='+str(S_train)+'/n='+str(n)+'delta_mu='+str(delta_mu)+'delta_r='+str(delta_r)+'delta_ep='+str(delta_ep)\n",
    "        tft_df = pd.read_csv(full_path+'tft.csv')\n",
    "        df = pd.DataFrame(np.zeros((N_s * 4,3)))\n",
    "        col_vector = tft_df.columns.values\n",
    "        col_names = [r'$DET$', r'$SAA$', r'$MM$',r'$DW_{0.5}$']\n",
    "        col_vector = ['det', 'saa', 'mom',col_vector[4]]\n",
    "        df.columns = ['tft','appro','delta_r']\n",
    "        for i in range(4):\n",
    "            df['tft'][i*N_s:(i+1)*N_s] = tft_df[col_vector[i]]\n",
    "            df['appro'][i*N_s:(i+1)*N_s] = np.asarray([col_names[i] for ind in range(N_s)])\n",
    "            df['delta_r'][i*N_s:(i+1)*N_s] = np.ones(N_s)*delta_r\n",
    "        df_set[delta_r] = copy.deepcopy(df)\n",
    "    df_final[n] = pd.concat([df_set[delta_r] for delta_r in delta_r_all])"
   ]
  },
  {
   "cell_type": "code",
   "execution_count": 16,
   "metadata": {},
   "outputs": [
    {
     "data": {
      "text/html": [
       "<div>\n",
       "<style scoped>\n",
       "    .dataframe tbody tr th:only-of-type {\n",
       "        vertical-align: middle;\n",
       "    }\n",
       "\n",
       "    .dataframe tbody tr th {\n",
       "        vertical-align: top;\n",
       "    }\n",
       "\n",
       "    .dataframe thead th {\n",
       "        text-align: right;\n",
       "    }\n",
       "</style>\n",
       "<table border=\"1\" class=\"dataframe\">\n",
       "  <thead>\n",
       "    <tr style=\"text-align: right;\">\n",
       "      <th></th>\n",
       "      <th>tft</th>\n",
       "      <th>appro</th>\n",
       "      <th>delta_r</th>\n",
       "    </tr>\n",
       "  </thead>\n",
       "  <tbody>\n",
       "    <tr>\n",
       "      <th>0</th>\n",
       "      <td>8647.279102</td>\n",
       "      <td>DET</td>\n",
       "      <td>0.05</td>\n",
       "    </tr>\n",
       "    <tr>\n",
       "      <th>1</th>\n",
       "      <td>7189.652661</td>\n",
       "      <td>DET</td>\n",
       "      <td>0.05</td>\n",
       "    </tr>\n",
       "    <tr>\n",
       "      <th>2</th>\n",
       "      <td>9751.720727</td>\n",
       "      <td>DET</td>\n",
       "      <td>0.05</td>\n",
       "    </tr>\n",
       "    <tr>\n",
       "      <th>3</th>\n",
       "      <td>11282.156715</td>\n",
       "      <td>DET</td>\n",
       "      <td>0.05</td>\n",
       "    </tr>\n",
       "    <tr>\n",
       "      <th>4</th>\n",
       "      <td>11309.365152</td>\n",
       "      <td>DET</td>\n",
       "      <td>0.05</td>\n",
       "    </tr>\n",
       "    <tr>\n",
       "      <th>...</th>\n",
       "      <td>...</td>\n",
       "      <td>...</td>\n",
       "      <td>...</td>\n",
       "    </tr>\n",
       "    <tr>\n",
       "      <th>39875</th>\n",
       "      <td>10396.872388</td>\n",
       "      <td>W=0.5</td>\n",
       "      <td>0.20</td>\n",
       "    </tr>\n",
       "    <tr>\n",
       "      <th>39876</th>\n",
       "      <td>9792.959015</td>\n",
       "      <td>W=0.5</td>\n",
       "      <td>0.20</td>\n",
       "    </tr>\n",
       "    <tr>\n",
       "      <th>39877</th>\n",
       "      <td>11803.745543</td>\n",
       "      <td>W=0.5</td>\n",
       "      <td>0.20</td>\n",
       "    </tr>\n",
       "    <tr>\n",
       "      <th>39878</th>\n",
       "      <td>10811.101199</td>\n",
       "      <td>W=0.5</td>\n",
       "      <td>0.20</td>\n",
       "    </tr>\n",
       "    <tr>\n",
       "      <th>39879</th>\n",
       "      <td>10453.665505</td>\n",
       "      <td>W=0.5</td>\n",
       "      <td>0.20</td>\n",
       "    </tr>\n",
       "  </tbody>\n",
       "</table>\n",
       "<p>119640 rows × 3 columns</p>\n",
       "</div>"
      ],
      "text/plain": [
       "                tft  appro  delta_r\n",
       "0       8647.279102    DET     0.05\n",
       "1       7189.652661    DET     0.05\n",
       "2       9751.720727    DET     0.05\n",
       "3      11282.156715    DET     0.05\n",
       "4      11309.365152    DET     0.05\n",
       "...             ...    ...      ...\n",
       "39875  10396.872388  W=0.5     0.20\n",
       "39876   9792.959015  W=0.5     0.20\n",
       "39877  11803.745543  W=0.5     0.20\n",
       "39878  10811.101199  W=0.5     0.20\n",
       "39879  10453.665505  W=0.5     0.20\n",
       "\n",
       "[119640 rows x 3 columns]"
      ]
     },
     "execution_count": 16,
     "metadata": {},
     "output_type": "execute_result"
    }
   ],
   "source": [
    "df_final[n]"
   ]
  },
  {
   "cell_type": "code",
   "execution_count": 61,
   "metadata": {},
   "outputs": [
    {
     "data": {
      "image/png": "[encoded data removed]",
      "text/plain": [
       "<Figure size 1200x800 with 2 Axes>"
      ]
     },
     "metadata": {},
     "output_type": "display_data"
    }
   ],
   "source": [
    "n_all = [10,20]\n",
    "plot_group_box(df_final,n_all,'delta_r')"
   ]
  },
  {
   "cell_type": "markdown",
   "metadata": {},
   "source": [
    "# cpu time"
   ]
  },
  {
   "cell_type": "code",
   "execution_count": 25,
   "metadata": {},
   "outputs": [],
   "source": [
    "project_path = '/Users/zhangxun/Desktop/IJPR/random_release/rand/rand_cpu_time'\n",
    "n = 10 # num of jobs\n",
    "delta_mu = 4 # control lb of mean processing time\n",
    "delta_r = 0.05 # control ub of the release time\n",
    "delta_ep = 1.5 # control the upper bound of the mad\n",
    "S_train = 30\n",
    "S_test = 10000\n",
    "iterations = 10\n",
    "Seed = 0"
   ]
  },
  {
   "cell_type": "code",
   "execution_count": 30,
   "metadata": {},
   "outputs": [],
   "source": [
    "ins = 0\n",
    "it = 0\n",
    "full_path = project_path + '/data/seed='+str(Seed)+'/ins='+str(ins) + '/it='+str(it)+'/S_train='+str(S_train)+\\\n",
    "    '/n='+str(n)+'delta_mu='+str(delta_mu)+'delta_r='+str(delta_r)+'delta_ep='+str(delta_ep) + 'delta_mad_r=0.3'\n"
   ]
  },
  {
   "cell_type": "code",
   "execution_count": 36,
   "metadata": {},
   "outputs": [],
   "source": [
    "full_path\n",
    "with open(full_path+'cpu_time.pkl', \"rb\") as tf:\n",
    "    cpu_time = pickle.load(tf)"
   ]
  },
  {
   "cell_type": "code",
   "execution_count": 37,
   "metadata": {},
   "outputs": [
    {
     "data": {
      "text/plain": [
       "array([0.00160289, 0.07864404, 0.15371227])"
      ]
     },
     "execution_count": 37,
     "metadata": {},
     "output_type": "execute_result"
    }
   ],
   "source": [
    "cpu_time"
   ]
  },
  {
   "cell_type": "code",
   "execution_count": 39,
   "metadata": {},
   "outputs": [
    {
     "name": "stdout",
     "output_type": "stream",
     "text": [
      "[0.00160289 0.07864404 0.15371227]\n",
      "[0.00353503 0.07788062 0.34568119]\n",
      "[0.00419807 0.20426106 0.89547706]\n",
      "[0.00670815 1.12704992 1.66856694]\n",
      "[0.01013279 1.47761488 2.65237403]\n"
     ]
    }
   ],
   "source": [
    "n_all = [10,15,20,25,30]\n",
    "time_arr = np.zeros((5,3))\n",
    "i = 0\n",
    "for n in n_all:\n",
    "    \n",
    "    ins = 0\n",
    "    Seed =ins\n",
    "    df_set = {}\n",
    "    delta_r_all = [0.05,0.1,0.2]\n",
    "    \n",
    "    it = 0\n",
    "    full_path = project_path + '/data/seed='+str(Seed)+'/ins='+str(ins) + '/it='+str(it)+'/S_train='+str(S_train)+\\\n",
    "    '/n='+str(n)+'delta_mu='+str(delta_mu)+'delta_r='+str(delta_r)+'delta_ep='+str(delta_ep) + 'delta_mad_r=0.3'\n",
    "    with open(full_path+'cpu_time.pkl', \"rb\") as tf:\n",
    "        cpu_time = pickle.load(tf)\n",
    "    print(cpu_time)\n",
    "    time_arr[i,:] = cpu_time\n",
    "    # appro = ['det','saa','wass']\n",
    "\n",
    "\n",
    "    # for j in range(len(appro)):\n",
    "    #     if j != 3:\n",
    "    #         time_arr[i,j] = cpu_time[appro[j]]\n",
    "    #     else:\n",
    "    #         time_arr[i,j] = cpu_time[appro[j]][0]\n",
    "    i = i + 1"
   ]
  },
  {
   "cell_type": "code",
   "execution_count": 23,
   "metadata": {},
   "outputs": [],
   "source": [
    "pd.DataFrame(time_arr).to_csv(project_path + '/data/cpu.csv')"
   ]
  }
 ],
 "metadata": {
  "kernelspec": {
   "display_name": "Python 3.9.12 ('base')",
   "language": "python",
   "name": "python3"
  },
  "language_info": {
   "codemirror_mode": {
    "name": "ipython",
    "version": 3
   },
   "file_extension": ".py",
   "mimetype": "text/x-python",
   "name": "python",
   "nbconvert_exporter": "python",
   "pygments_lexer": "ipython3",
   "version": "3.9.15"
  },
  "orig_nbformat": 4,
  "vscode": {
   "interpreter": {
    "hash": "83a361396a8213a7c7e4081f0d2088f49b4024e9d82ab830ddb1e8614255e914"
   }
  }
 },
 "nbformat": 4,
 "nbformat_minor": 2
}
